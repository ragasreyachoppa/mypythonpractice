{
 "cells": [
  {
   "cell_type": "code",
   "execution_count": 1,
   "id": "3ff20143",
   "metadata": {},
   "outputs": [
    {
     "data": {
      "text/plain": [
       "2"
      ]
     },
     "execution_count": 1,
     "metadata": {},
     "output_type": "execute_result"
    }
   ],
   "source": [
    "1+1\n"
   ]
  },
  {
   "cell_type": "code",
   "execution_count": 2,
   "id": "e66819a0",
   "metadata": {},
   "outputs": [
    {
     "ename": "NameError",
     "evalue": "name 'sreya' is not defined",
     "output_type": "error",
     "traceback": [
      "\u001b[1;31m---------------------------------------------------------------------------\u001b[0m",
      "\u001b[1;31mNameError\u001b[0m                                 Traceback (most recent call last)",
      "Input \u001b[1;32mIn [2]\u001b[0m, in \u001b[0;36m<cell line: 1>\u001b[1;34m()\u001b[0m\n\u001b[1;32m----> 1\u001b[0m \u001b[38;5;28mprint\u001b[39m(\u001b[43msreya\u001b[49m)\n",
      "\u001b[1;31mNameError\u001b[0m: name 'sreya' is not defined"
     ]
    }
   ],
   "source": [
    "print(sreya)"
   ]
  },
  {
   "cell_type": "code",
   "execution_count": 4,
   "id": "e7532646",
   "metadata": {},
   "outputs": [
    {
     "data": {
      "text/plain": [
       "2"
      ]
     },
     "execution_count": 4,
     "metadata": {},
     "output_type": "execute_result"
    }
   ],
   "source": [
    "1+1\n"
   ]
  },
  {
   "cell_type": "code",
   "execution_count": 5,
   "id": "202b7400",
   "metadata": {},
   "outputs": [
    {
     "data": {
      "text/plain": [
       "-1"
      ]
     },
     "execution_count": 5,
     "metadata": {},
     "output_type": "execute_result"
    }
   ],
   "source": [
    "1-2"
   ]
  },
  {
   "cell_type": "code",
   "execution_count": 6,
   "id": "57f44275",
   "metadata": {},
   "outputs": [
    {
     "data": {
      "text/plain": [
       "2"
      ]
     },
     "execution_count": 6,
     "metadata": {},
     "output_type": "execute_result"
    }
   ],
   "source": [
    "1*2"
   ]
  },
  {
   "cell_type": "code",
   "execution_count": 7,
   "id": "07bd21e2",
   "metadata": {},
   "outputs": [
    {
     "data": {
      "text/plain": [
       "0.5"
      ]
     },
     "execution_count": 7,
     "metadata": {},
     "output_type": "execute_result"
    }
   ],
   "source": [
    "5/10"
   ]
  },
  {
   "cell_type": "code",
   "execution_count": 8,
   "id": "75cf0898",
   "metadata": {},
   "outputs": [
    {
     "data": {
      "text/plain": [
       "5"
      ]
     },
     "execution_count": 8,
     "metadata": {},
     "output_type": "execute_result"
    }
   ],
   "source": [
    "5%10"
   ]
  },
  {
   "cell_type": "code",
   "execution_count": 9,
   "id": "4a9e91bb",
   "metadata": {},
   "outputs": [
    {
     "data": {
      "text/plain": [
       "'hello world'"
      ]
     },
     "execution_count": 9,
     "metadata": {},
     "output_type": "execute_result"
    }
   ],
   "source": [
    "'hello world'"
   ]
  },
  {
   "cell_type": "code",
   "execution_count": 10,
   "id": "0615402f",
   "metadata": {},
   "outputs": [
    {
     "data": {
      "text/plain": [
       "'hello world'"
      ]
     },
     "execution_count": 10,
     "metadata": {},
     "output_type": "execute_result"
    }
   ],
   "source": [
    "\"hello world\""
   ]
  },
  {
   "cell_type": "code",
   "execution_count": 11,
   "id": "c2519e89",
   "metadata": {},
   "outputs": [
    {
     "ename": "SyntaxError",
     "evalue": "invalid syntax (2497053111.py, line 1)",
     "output_type": "error",
     "traceback": [
      "\u001b[1;36m  Input \u001b[1;32mIn [11]\u001b[1;36m\u001b[0m\n\u001b[1;33m    print(hello world)\u001b[0m\n\u001b[1;37m                ^\u001b[0m\n\u001b[1;31mSyntaxError\u001b[0m\u001b[1;31m:\u001b[0m invalid syntax\n"
     ]
    }
   ],
   "source": [
    "print(hello world)"
   ]
  },
  {
   "cell_type": "code",
   "execution_count": 12,
   "id": "1cb19b48",
   "metadata": {},
   "outputs": [
    {
     "name": "stdout",
     "output_type": "stream",
     "text": [
      "hello world\n"
     ]
    }
   ],
   "source": [
    "print(\"hello world\")"
   ]
  },
  {
   "cell_type": "code",
   "execution_count": 13,
   "id": "aa4b75b8",
   "metadata": {},
   "outputs": [
    {
     "name": "stdout",
     "output_type": "stream",
     "text": [
      "hello world\n"
     ]
    }
   ],
   "source": [
    "print('hello world')"
   ]
  },
  {
   "cell_type": "code",
   "execution_count": 14,
   "id": "73cd47c4",
   "metadata": {},
   "outputs": [
    {
     "ename": "SyntaxError",
     "evalue": "invalid syntax (3916375609.py, line 1)",
     "output_type": "error",
     "traceback": [
      "\u001b[1;36m  Input \u001b[1;32mIn [14]\u001b[1;36m\u001b[0m\n\u001b[1;33m    len(hello world)\u001b[0m\n\u001b[1;37m              ^\u001b[0m\n\u001b[1;31mSyntaxError\u001b[0m\u001b[1;31m:\u001b[0m invalid syntax\n"
     ]
    }
   ],
   "source": [
    "len(hello world)"
   ]
  },
  {
   "cell_type": "code",
   "execution_count": 15,
   "id": "93c1d04e",
   "metadata": {},
   "outputs": [
    {
     "data": {
      "text/plain": [
       "11"
      ]
     },
     "execution_count": 15,
     "metadata": {},
     "output_type": "execute_result"
    }
   ],
   "source": [
    "len(\"hello world\")"
   ]
  },
  {
   "cell_type": "code",
   "execution_count": 19,
   "id": "e999e6e6",
   "metadata": {},
   "outputs": [
    {
     "ename": "NameError",
     "evalue": "name 'abcdefghij' is not defined",
     "output_type": "error",
     "traceback": [
      "\u001b[1;31m---------------------------------------------------------------------------\u001b[0m",
      "\u001b[1;31mNameError\u001b[0m                                 Traceback (most recent call last)",
      "Input \u001b[1;32mIn [19]\u001b[0m, in \u001b[0;36m<cell line: 1>\u001b[1;34m()\u001b[0m\n\u001b[1;32m----> 1\u001b[0m mystring\u001b[38;5;241m=\u001b[39m\u001b[43mabcdefghij\u001b[49m\n",
      "\u001b[1;31mNameError\u001b[0m: name 'abcdefghij' is not defined"
     ]
    }
   ],
   "source": [
    "mystring=abcdefghij"
   ]
  },
  {
   "cell_type": "code",
   "execution_count": 20,
   "id": "7481a867",
   "metadata": {},
   "outputs": [],
   "source": [
    "mystring=\"abcdefghij\""
   ]
  },
  {
   "cell_type": "code",
   "execution_count": 21,
   "id": "09d74a05",
   "metadata": {},
   "outputs": [
    {
     "data": {
      "text/plain": [
       "'abcdefghij'"
      ]
     },
     "execution_count": 21,
     "metadata": {},
     "output_type": "execute_result"
    }
   ],
   "source": [
    "mystring"
   ]
  },
  {
   "cell_type": "code",
   "execution_count": 23,
   "id": "0691b4c6",
   "metadata": {},
   "outputs": [
    {
     "data": {
      "text/plain": [
       "'b'"
      ]
     },
     "execution_count": 23,
     "metadata": {},
     "output_type": "execute_result"
    }
   ],
   "source": [
    "mystring[1]"
   ]
  },
  {
   "cell_type": "code",
   "execution_count": 24,
   "id": "5724e6e8",
   "metadata": {},
   "outputs": [
    {
     "data": {
      "text/plain": [
       "'h'"
      ]
     },
     "execution_count": 24,
     "metadata": {},
     "output_type": "execute_result"
    }
   ],
   "source": [
    "mystring[7]"
   ]
  },
  {
   "cell_type": "code",
   "execution_count": 25,
   "id": "65322067",
   "metadata": {},
   "outputs": [
    {
     "data": {
      "text/plain": [
       "'j'"
      ]
     },
     "execution_count": 25,
     "metadata": {},
     "output_type": "execute_result"
    }
   ],
   "source": [
    "mystring[-1]"
   ]
  },
  {
   "cell_type": "code",
   "execution_count": 26,
   "id": "a4f856a3",
   "metadata": {},
   "outputs": [
    {
     "data": {
      "text/plain": [
       "'i'"
      ]
     },
     "execution_count": 26,
     "metadata": {},
     "output_type": "execute_result"
    }
   ],
   "source": [
    "mystring[-2]"
   ]
  },
  {
   "cell_type": "code",
   "execution_count": 27,
   "id": "27eeedb8",
   "metadata": {},
   "outputs": [
    {
     "data": {
      "text/plain": [
       "'bcdefghij'"
      ]
     },
     "execution_count": 27,
     "metadata": {},
     "output_type": "execute_result"
    }
   ],
   "source": [
    "mystring[1:]"
   ]
  },
  {
   "cell_type": "code",
   "execution_count": 28,
   "id": "9d0554f8",
   "metadata": {},
   "outputs": [
    {
     "data": {
      "text/plain": [
       "'abcdefghij'"
      ]
     },
     "execution_count": 28,
     "metadata": {},
     "output_type": "execute_result"
    }
   ],
   "source": [
    "mystring"
   ]
  },
  {
   "cell_type": "code",
   "execution_count": 29,
   "id": "6d790b35",
   "metadata": {},
   "outputs": [
    {
     "data": {
      "text/plain": [
       "'abc'"
      ]
     },
     "execution_count": 29,
     "metadata": {},
     "output_type": "execute_result"
    }
   ],
   "source": [
    "mystring[:3]"
   ]
  },
  {
   "cell_type": "code",
   "execution_count": 31,
   "id": "4eac34c3",
   "metadata": {},
   "outputs": [
    {
     "data": {
      "text/plain": [
       "'def'"
      ]
     },
     "execution_count": 31,
     "metadata": {},
     "output_type": "execute_result"
    }
   ],
   "source": [
    "mystring[3:6]"
   ]
  },
  {
   "cell_type": "code",
   "execution_count": 32,
   "id": "8c1c1272",
   "metadata": {},
   "outputs": [
    {
     "data": {
      "text/plain": [
       "'abcdefghij'"
      ]
     },
     "execution_count": 32,
     "metadata": {},
     "output_type": "execute_result"
    }
   ],
   "source": [
    "mystring"
   ]
  },
  {
   "cell_type": "code",
   "execution_count": 33,
   "id": "117418fb",
   "metadata": {},
   "outputs": [
    {
     "data": {
      "text/plain": [
       "'fgh'"
      ]
     },
     "execution_count": 33,
     "metadata": {},
     "output_type": "execute_result"
    }
   ],
   "source": [
    "mystring[5:8]"
   ]
  },
  {
   "cell_type": "code",
   "execution_count": 34,
   "id": "f1a2b74b",
   "metadata": {},
   "outputs": [
    {
     "data": {
      "text/plain": [
       "'abcdefghij'"
      ]
     },
     "execution_count": 34,
     "metadata": {},
     "output_type": "execute_result"
    }
   ],
   "source": [
    "mystring"
   ]
  },
  {
   "cell_type": "code",
   "execution_count": 35,
   "id": "44e678d0",
   "metadata": {},
   "outputs": [
    {
     "data": {
      "text/plain": [
       "'abcdefghij'"
      ]
     },
     "execution_count": 35,
     "metadata": {},
     "output_type": "execute_result"
    }
   ],
   "source": [
    "mystring[::]"
   ]
  },
  {
   "cell_type": "code",
   "execution_count": 36,
   "id": "08701054",
   "metadata": {},
   "outputs": [
    {
     "data": {
      "text/plain": [
       "'jihgfedcba'"
      ]
     },
     "execution_count": 36,
     "metadata": {},
     "output_type": "execute_result"
    }
   ],
   "source": [
    "mystring[::-1]"
   ]
  },
  {
   "cell_type": "code",
   "execution_count": 37,
   "id": "4eea7d56",
   "metadata": {},
   "outputs": [
    {
     "data": {
      "text/plain": [
       "'acegi'"
      ]
     },
     "execution_count": 37,
     "metadata": {},
     "output_type": "execute_result"
    }
   ],
   "source": [
    "mystring[0:10:2]"
   ]
  },
  {
   "cell_type": "code",
   "execution_count": 38,
   "id": "b4f7bcaa",
   "metadata": {},
   "outputs": [],
   "source": [
    "name=\"sreya\""
   ]
  },
  {
   "cell_type": "code",
   "execution_count": 39,
   "id": "2b2db218",
   "metadata": {},
   "outputs": [
    {
     "data": {
      "text/plain": [
       "'sreya'"
      ]
     },
     "execution_count": 39,
     "metadata": {},
     "output_type": "execute_result"
    }
   ],
   "source": [
    "name"
   ]
  },
  {
   "cell_type": "code",
   "execution_count": 40,
   "id": "b899eb04",
   "metadata": {},
   "outputs": [
    {
     "ename": "TypeError",
     "evalue": "'str' object does not support item assignment",
     "output_type": "error",
     "traceback": [
      "\u001b[1;31m---------------------------------------------------------------------------\u001b[0m",
      "\u001b[1;31mTypeError\u001b[0m                                 Traceback (most recent call last)",
      "Input \u001b[1;32mIn [40]\u001b[0m, in \u001b[0;36m<cell line: 1>\u001b[1;34m()\u001b[0m\n\u001b[1;32m----> 1\u001b[0m name[\u001b[38;5;241m0\u001b[39m]\u001b[38;5;241m=\u001b[39m\u001b[38;5;124m'\u001b[39m\u001b[38;5;124mn\u001b[39m\u001b[38;5;124m'\u001b[39m\n",
      "\u001b[1;31mTypeError\u001b[0m: 'str' object does not support item assignment"
     ]
    }
   ],
   "source": [
    "name[0]='n'"
   ]
  },
  {
   "cell_type": "code",
   "execution_count": 41,
   "id": "8c0f94c0",
   "metadata": {},
   "outputs": [
    {
     "data": {
      "text/plain": [
       "'sreya'"
      ]
     },
     "execution_count": 41,
     "metadata": {},
     "output_type": "execute_result"
    }
   ],
   "source": [
    "name"
   ]
  },
  {
   "cell_type": "code",
   "execution_count": 42,
   "id": "04d68b01",
   "metadata": {},
   "outputs": [
    {
     "data": {
      "text/plain": [
       "'reya'"
      ]
     },
     "execution_count": 42,
     "metadata": {},
     "output_type": "execute_result"
    }
   ],
   "source": [
    "name[1:]"
   ]
  },
  {
   "cell_type": "code",
   "execution_count": 43,
   "id": "f5b988a4",
   "metadata": {},
   "outputs": [],
   "source": [
    "lastletters=name[1:]"
   ]
  },
  {
   "cell_type": "code",
   "execution_count": 44,
   "id": "16bc0e46",
   "metadata": {},
   "outputs": [
    {
     "data": {
      "text/plain": [
       "'reya'"
      ]
     },
     "execution_count": 44,
     "metadata": {},
     "output_type": "execute_result"
    }
   ],
   "source": [
    "lastletters"
   ]
  },
  {
   "cell_type": "code",
   "execution_count": 45,
   "id": "c4804da4",
   "metadata": {},
   "outputs": [
    {
     "data": {
      "text/plain": [
       "'nreya'"
      ]
     },
     "execution_count": 45,
     "metadata": {},
     "output_type": "execute_result"
    }
   ],
   "source": [
    "'n'+lastletters"
   ]
  },
  {
   "cell_type": "code",
   "execution_count": 47,
   "id": "c9772445",
   "metadata": {},
   "outputs": [
    {
     "data": {
      "text/plain": [
       "3"
      ]
     },
     "execution_count": 47,
     "metadata": {},
     "output_type": "execute_result"
    }
   ],
   "source": [
    "1+2"
   ]
  },
  {
   "cell_type": "code",
   "execution_count": 48,
   "id": "6932eaa9",
   "metadata": {},
   "outputs": [
    {
     "data": {
      "text/plain": [
       "'12'"
      ]
     },
     "execution_count": 48,
     "metadata": {},
     "output_type": "execute_result"
    }
   ],
   "source": [
    "'1'+'2'"
   ]
  },
  {
   "cell_type": "code",
   "execution_count": 49,
   "id": "f7bbd85b",
   "metadata": {},
   "outputs": [
    {
     "ename": "TypeError",
     "evalue": "can only concatenate str (not \"int\") to str",
     "output_type": "error",
     "traceback": [
      "\u001b[1;31m---------------------------------------------------------------------------\u001b[0m",
      "\u001b[1;31mTypeError\u001b[0m                                 Traceback (most recent call last)",
      "Input \u001b[1;32mIn [49]\u001b[0m, in \u001b[0;36m<cell line: 1>\u001b[1;34m()\u001b[0m\n\u001b[1;32m----> 1\u001b[0m \u001b[38;5;124;43m'\u001b[39;49m\u001b[38;5;124;43m1\u001b[39;49m\u001b[38;5;124;43m'\u001b[39;49m\u001b[38;5;241;43m+\u001b[39;49m\u001b[38;5;241;43m2\u001b[39;49m\n",
      "\u001b[1;31mTypeError\u001b[0m: can only concatenate str (not \"int\") to str"
     ]
    }
   ],
   "source": [
    "'1'+2"
   ]
  },
  {
   "cell_type": "code",
   "execution_count": 50,
   "id": "67e1b754",
   "metadata": {},
   "outputs": [
    {
     "data": {
      "text/plain": [
       "'sreya'"
      ]
     },
     "execution_count": 50,
     "metadata": {},
     "output_type": "execute_result"
    }
   ],
   "source": [
    "name"
   ]
  },
  {
   "cell_type": "code",
   "execution_count": 51,
   "id": "36840a73",
   "metadata": {},
   "outputs": [],
   "source": [
    "name=\"sreya\""
   ]
  },
  {
   "cell_type": "code",
   "execution_count": 52,
   "id": "732264b6",
   "metadata": {},
   "outputs": [
    {
     "data": {
      "text/plain": [
       "'SREYA'"
      ]
     },
     "execution_count": 52,
     "metadata": {},
     "output_type": "execute_result"
    }
   ],
   "source": [
    "name.upper()"
   ]
  },
  {
   "cell_type": "code",
   "execution_count": 53,
   "id": "e1294ebb",
   "metadata": {},
   "outputs": [
    {
     "data": {
      "text/plain": [
       "['sreya']"
      ]
     },
     "execution_count": 53,
     "metadata": {},
     "output_type": "execute_result"
    }
   ],
   "source": [
    "name.split()"
   ]
  },
  {
   "cell_type": "code",
   "execution_count": 54,
   "id": "98dd840e",
   "metadata": {},
   "outputs": [],
   "source": [
    "phrase=\"this is a string\""
   ]
  },
  {
   "cell_type": "code",
   "execution_count": 55,
   "id": "7be77774",
   "metadata": {},
   "outputs": [
    {
     "data": {
      "text/plain": [
       "'THIS IS A STRING'"
      ]
     },
     "execution_count": 55,
     "metadata": {},
     "output_type": "execute_result"
    }
   ],
   "source": [
    "phrase.upper()"
   ]
  },
  {
   "cell_type": "code",
   "execution_count": 56,
   "id": "814e2f5f",
   "metadata": {},
   "outputs": [
    {
     "data": {
      "text/plain": [
       "['this', 'is', 'a', 'string']"
      ]
     },
     "execution_count": 56,
     "metadata": {},
     "output_type": "execute_result"
    }
   ],
   "source": [
    "phrase.split()"
   ]
  },
  {
   "cell_type": "code",
   "execution_count": 57,
   "id": "08be662c",
   "metadata": {},
   "outputs": [
    {
     "ename": "NameError",
     "evalue": "name 'i' is not defined",
     "output_type": "error",
     "traceback": [
      "\u001b[1;31m---------------------------------------------------------------------------\u001b[0m",
      "\u001b[1;31mNameError\u001b[0m                                 Traceback (most recent call last)",
      "Input \u001b[1;32mIn [57]\u001b[0m, in \u001b[0;36m<cell line: 1>\u001b[1;34m()\u001b[0m\n\u001b[1;32m----> 1\u001b[0m phrase\u001b[38;5;241m.\u001b[39msplit(\u001b[43mi\u001b[49m)\n",
      "\u001b[1;31mNameError\u001b[0m: name 'i' is not defined"
     ]
    }
   ],
   "source": [
    "phrase.split(i)"
   ]
  },
  {
   "cell_type": "code",
   "execution_count": 58,
   "id": "af355d9a",
   "metadata": {},
   "outputs": [
    {
     "data": {
      "text/plain": [
       "['th', 's ', 's a str', 'ng']"
      ]
     },
     "execution_count": 58,
     "metadata": {},
     "output_type": "execute_result"
    }
   ],
   "source": [
    "phrase.split(\"i\")"
   ]
  },
  {
   "cell_type": "code",
   "execution_count": 60,
   "id": "17ca9172",
   "metadata": {},
   "outputs": [
    {
     "ename": "NameError",
     "evalue": "name 'line' is not defined",
     "output_type": "error",
     "traceback": [
      "\u001b[1;31m---------------------------------------------------------------------------\u001b[0m",
      "\u001b[1;31mNameError\u001b[0m                                 Traceback (most recent call last)",
      "Input \u001b[1;32mIn [60]\u001b[0m, in \u001b[0;36m<cell line: 3>\u001b[1;34m()\u001b[0m\n\u001b[0;32m      1\u001b[0m \u001b[38;5;66;03m#print formats\u001b[39;00m\n\u001b[1;32m----> 3\u001b[0m \u001b[38;5;28mprint\u001b[39m(\u001b[38;5;124m\"\u001b[39m\u001b[38;5;124mthis is a string\u001b[39m\u001b[38;5;124m\"\u001b[39m\u001b[38;5;241m.\u001b[39mformat(\u001b[43mline\u001b[49m))\n",
      "\u001b[1;31mNameError\u001b[0m: name 'line' is not defined"
     ]
    }
   ],
   "source": [
    "#print formats\n",
    "\n",
    "print(\"this is a string\".format(line))"
   ]
  },
  {
   "cell_type": "code",
   "execution_count": 61,
   "id": "bbe8def5",
   "metadata": {},
   "outputs": [
    {
     "ename": "SyntaxError",
     "evalue": "invalid syntax (2187677492.py, line 1)",
     "output_type": "error",
     "traceback": [
      "\u001b[1;36m  Input \u001b[1;32mIn [61]\u001b[1;36m\u001b[0m\n\u001b[1;33m    print(\"this is a string\"{}.format(line))\u001b[0m\n\u001b[1;37m                            ^\u001b[0m\n\u001b[1;31mSyntaxError\u001b[0m\u001b[1;31m:\u001b[0m invalid syntax\n"
     ]
    }
   ],
   "source": [
    "print(\"this is a string\"{}.format(line))"
   ]
  },
  {
   "cell_type": "code",
   "execution_count": 62,
   "id": "64d88673",
   "metadata": {},
   "outputs": [
    {
     "ename": "NameError",
     "evalue": "name 'line' is not defined",
     "output_type": "error",
     "traceback": [
      "\u001b[1;31m---------------------------------------------------------------------------\u001b[0m",
      "\u001b[1;31mNameError\u001b[0m                                 Traceback (most recent call last)",
      "Input \u001b[1;32mIn [62]\u001b[0m, in \u001b[0;36m<cell line: 1>\u001b[1;34m()\u001b[0m\n\u001b[1;32m----> 1\u001b[0m \u001b[38;5;28mprint\u001b[39m(\u001b[38;5;124m\"\u001b[39m\u001b[38;5;124mthis is a string\u001b[39m\u001b[38;5;132;01m{}\u001b[39;00m\u001b[38;5;124m\"\u001b[39m\u001b[38;5;241m.\u001b[39mformat(\u001b[43mline\u001b[49m))\n",
      "\u001b[1;31mNameError\u001b[0m: name 'line' is not defined"
     ]
    }
   ],
   "source": [
    "print(\"this is a string{}\".format(line))"
   ]
  },
  {
   "cell_type": "code",
   "execution_count": 63,
   "id": "573e2ce1",
   "metadata": {},
   "outputs": [
    {
     "name": "stdout",
     "output_type": "stream",
     "text": [
      "this is a stringline\n"
     ]
    }
   ],
   "source": [
    "print(\"this is a string{}\".format(\"line\"))"
   ]
  },
  {
   "cell_type": "code",
   "execution_count": 65,
   "id": "4fe9d0c6",
   "metadata": {},
   "outputs": [
    {
     "name": "stdout",
     "output_type": "stream",
     "text": [
      "this is a string line\n"
     ]
    }
   ],
   "source": [
    "print(\"this is a string {}\".format(\"line\"))"
   ]
  },
  {
   "cell_type": "code",
   "execution_count": 66,
   "id": "d0a75e9b",
   "metadata": {},
   "outputs": [
    {
     "name": "stdout",
     "output_type": "stream",
     "text": [
      "this is a string python\n"
     ]
    }
   ],
   "source": [
    "print(\"this is a string {}\".format(\"python\"))"
   ]
  },
  {
   "cell_type": "code",
   "execution_count": 67,
   "id": "56733fd0",
   "metadata": {},
   "outputs": [
    {
     "name": "stdout",
     "output_type": "stream",
     "text": [
      "this is a string english\n"
     ]
    }
   ],
   "source": [
    "print(\"this is a string {}\".format('english'))"
   ]
  },
  {
   "cell_type": "code",
   "execution_count": 71,
   "id": "28690d7d",
   "metadata": {},
   "outputs": [
    {
     "name": "stdout",
     "output_type": "stream",
     "text": [
      "the he cleaver is\n"
     ]
    }
   ],
   "source": [
    "print(\"the {} {} {}\".format('he','cleaver','is'))"
   ]
  },
  {
   "cell_type": "code",
   "execution_count": 72,
   "id": "96b131f7",
   "metadata": {},
   "outputs": [
    {
     "name": "stdout",
     "output_type": "stream",
     "text": [
      "the he is cleaver\n"
     ]
    }
   ],
   "source": [
    "print(\"the {} {} {}\".format('he','is','cleaver'))"
   ]
  },
  {
   "cell_type": "code",
   "execution_count": 81,
   "id": "da97c3be",
   "metadata": {},
   "outputs": [
    {
     "name": "stdout",
     "output_type": "stream",
     "text": [
      "the he is cleaver\n"
     ]
    }
   ],
   "source": [
    "#index positions \n",
    "print(\"the {0} {1} {2}\".format('he','is','cleaver'))"
   ]
  },
  {
   "cell_type": "code",
   "execution_count": 75,
   "id": "2711f4a2",
   "metadata": {},
   "outputs": [
    {
     "name": "stdout",
     "output_type": "stream",
     "text": [
      "the is he cleaver \n"
     ]
    }
   ],
   "source": [
    "print(\"the {1} {0} {2} \".format('he','is','cleaver'))"
   ]
  },
  {
   "cell_type": "code",
   "execution_count": 76,
   "id": "f8be4c5d",
   "metadata": {},
   "outputs": [
    {
     "name": "stdout",
     "output_type": "stream",
     "text": [
      "the cleaver he is\n"
     ]
    }
   ],
   "source": [
    "print(\"the {2} {0} {1}\".format('he','is','cleaver'))"
   ]
  },
  {
   "cell_type": "code",
   "execution_count": 77,
   "id": "731ae354",
   "metadata": {},
   "outputs": [
    {
     "name": "stdout",
     "output_type": "stream",
     "text": [
      "the cleaver is he\n"
     ]
    }
   ],
   "source": [
    "print(\"the {2} {1} {0}\".format('he','is','cleaver'))"
   ]
  },
  {
   "cell_type": "code",
   "execution_count": 78,
   "id": "192afffa",
   "metadata": {},
   "outputs": [
    {
     "name": "stdout",
     "output_type": "stream",
     "text": [
      "this is a string line\n"
     ]
    }
   ],
   "source": [
    "print(\"this is a string {}\".format(\"line\"))"
   ]
  },
  {
   "cell_type": "code",
   "execution_count": 79,
   "id": "19c3926e",
   "metadata": {},
   "outputs": [
    {
     "name": "stdout",
     "output_type": "stream",
     "text": [
      "the he is cleaver\n"
     ]
    }
   ],
   "source": [
    "print(\"the {} {} {}\".format('he','is','cleaver'))"
   ]
  },
  {
   "cell_type": "code",
   "execution_count": 80,
   "id": "513c157d",
   "metadata": {},
   "outputs": [
    {
     "name": "stdout",
     "output_type": "stream",
     "text": [
      "the he he he\n"
     ]
    }
   ],
   "source": [
    "print(\"the {0} {0} {0}\".format('he','is','cleaver'))"
   ]
  },
  {
   "cell_type": "code",
   "execution_count": 82,
   "id": "430e6647",
   "metadata": {},
   "outputs": [
    {
     "ename": "IndexError",
     "evalue": "Replacement index 0 out of range for positional args tuple",
     "output_type": "error",
     "traceback": [
      "\u001b[1;31m---------------------------------------------------------------------------\u001b[0m",
      "\u001b[1;31mIndexError\u001b[0m                                Traceback (most recent call last)",
      "Input \u001b[1;32mIn [82]\u001b[0m, in \u001b[0;36m<cell line: 2>\u001b[1;34m()\u001b[0m\n\u001b[0;32m      1\u001b[0m \u001b[38;5;66;03m#keywords\u001b[39;00m\n\u001b[1;32m----> 2\u001b[0m \u001b[38;5;28mprint\u001b[39m(\u001b[38;5;124;43m\"\u001b[39;49m\u001b[38;5;124;43mthe \u001b[39;49m\u001b[38;5;132;43;01m{}\u001b[39;49;00m\u001b[38;5;124;43m \u001b[39;49m\u001b[38;5;132;43;01m{}\u001b[39;49;00m\u001b[38;5;124;43m \u001b[39;49m\u001b[38;5;132;43;01m{}\u001b[39;49;00m\u001b[38;5;124;43m\"\u001b[39;49m\u001b[38;5;241;43m.\u001b[39;49m\u001b[43mformat\u001b[49m\u001b[43m(\u001b[49m\u001b[43mh\u001b[49m\u001b[38;5;241;43m=\u001b[39;49m\u001b[38;5;124;43m'\u001b[39;49m\u001b[38;5;124;43mhe\u001b[39;49m\u001b[38;5;124;43m'\u001b[39;49m\u001b[43m,\u001b[49m\u001b[43mi\u001b[49m\u001b[38;5;241;43m=\u001b[39;49m\u001b[38;5;124;43m'\u001b[39;49m\u001b[38;5;124;43mis\u001b[39;49m\u001b[38;5;124;43m'\u001b[39;49m\u001b[43m,\u001b[49m\u001b[43mc\u001b[49m\u001b[38;5;241;43m=\u001b[39;49m\u001b[38;5;124;43m'\u001b[39;49m\u001b[38;5;124;43mcleaver\u001b[39;49m\u001b[38;5;124;43m'\u001b[39;49m\u001b[43m)\u001b[49m)\n",
      "\u001b[1;31mIndexError\u001b[0m: Replacement index 0 out of range for positional args tuple"
     ]
    }
   ],
   "source": [
    "#keywords\n",
    "print(\"the {} {} {}\".format(h='he',i='is',c='cleaver'))"
   ]
  },
  {
   "cell_type": "code",
   "execution_count": 83,
   "id": "49476dbb",
   "metadata": {},
   "outputs": [
    {
     "name": "stdout",
     "output_type": "stream",
     "text": [
      "the he is cleaver\n"
     ]
    }
   ],
   "source": [
    "print(\"the {h} {i} {c}\".format(h=\"he\",i=\"is\",c=\"cleaver\"))"
   ]
  },
  {
   "cell_type": "code",
   "execution_count": 84,
   "id": "bd2cc727",
   "metadata": {},
   "outputs": [
    {
     "name": "stdout",
     "output_type": "stream",
     "text": [
      "the is cleaver he\n"
     ]
    }
   ],
   "source": [
    "print(\"the {i} {c} {h}\".format(h=\"he\",i=\"is\",c=\"cleaver\"))"
   ]
  },
  {
   "cell_type": "code",
   "execution_count": 85,
   "id": "5a27c2c2",
   "metadata": {},
   "outputs": [],
   "source": [
    "result=100/777"
   ]
  },
  {
   "cell_type": "code",
   "execution_count": 86,
   "id": "88b4a610",
   "metadata": {},
   "outputs": [
    {
     "data": {
      "text/plain": [
       "0.1287001287001287"
      ]
     },
     "execution_count": 86,
     "metadata": {},
     "output_type": "execute_result"
    }
   ],
   "source": [
    "result"
   ]
  },
  {
   "cell_type": "code",
   "execution_count": 87,
   "id": "c7471e81",
   "metadata": {},
   "outputs": [
    {
     "name": "stdout",
     "output_type": "stream",
     "text": [
      "the result 0.1287001287001287\n"
     ]
    }
   ],
   "source": [
    "print(\"the result {}\".format(result))"
   ]
  },
  {
   "cell_type": "code",
   "execution_count": 88,
   "id": "c8028615",
   "metadata": {},
   "outputs": [
    {
     "name": "stdout",
     "output_type": "stream",
     "text": [
      "the result 0.1287001287001287\n"
     ]
    }
   ],
   "source": [
    "print(\"the result {r}\".format(r=result))"
   ]
  },
  {
   "cell_type": "code",
   "execution_count": 89,
   "id": "55937113",
   "metadata": {},
   "outputs": [],
   "source": [
    "name=\"sreya\""
   ]
  },
  {
   "cell_type": "code",
   "execution_count": 90,
   "id": "0851b165",
   "metadata": {},
   "outputs": [
    {
     "data": {
      "text/plain": [
       "'sreya'"
      ]
     },
     "execution_count": 90,
     "metadata": {},
     "output_type": "execute_result"
    }
   ],
   "source": [
    "name"
   ]
  },
  {
   "cell_type": "code",
   "execution_count": 91,
   "id": "a53d8fe6",
   "metadata": {},
   "outputs": [
    {
     "name": "stdout",
     "output_type": "stream",
     "text": [
      "this is name\n"
     ]
    }
   ],
   "source": [
    "print(\"this is {}\".format(\"name\"))"
   ]
  },
  {
   "cell_type": "code",
   "execution_count": 92,
   "id": "e07bc175",
   "metadata": {},
   "outputs": [
    {
     "name": "stdout",
     "output_type": "stream",
     "text": [
      "this is sreya\n"
     ]
    }
   ],
   "source": [
    "print(\"this is {}\".format(name))"
   ]
  },
  {
   "cell_type": "code",
   "execution_count": 93,
   "id": "951d6a72",
   "metadata": {},
   "outputs": [
    {
     "name": "stdout",
     "output_type": "stream",
     "text": [
      "this is sreya\n"
     ]
    }
   ],
   "source": [
    "#formatted string literals or F strings\n",
    "name=\"sreya\"\n",
    "print(f\"this is {name}\")"
   ]
  },
  {
   "cell_type": "code",
   "execution_count": 95,
   "id": "8e2b2524",
   "metadata": {},
   "outputs": [
    {
     "name": "stdout",
     "output_type": "stream",
     "text": [
      "this is sreya\n"
     ]
    }
   ],
   "source": [
    "name=\"sreya\"\n",
    "print(f\"this is {name}\")"
   ]
  },
  {
   "cell_type": "code",
   "execution_count": 97,
   "id": "b02f5de8",
   "metadata": {},
   "outputs": [
    {
     "name": "stdout",
     "output_type": "stream",
     "text": [
      "name is ragasreya and age is 20\n"
     ]
    }
   ],
   "source": [
    "name=\"ragasreya\"\n",
    "age=20\n",
    "print(f\"name is {name} and age is {age}\")"
   ]
  },
  {
   "cell_type": "code",
   "execution_count": 98,
   "id": "e1a449ec",
   "metadata": {},
   "outputs": [],
   "source": [
    "#list\n",
    "list=[1,2,3]"
   ]
  },
  {
   "cell_type": "code",
   "execution_count": 99,
   "id": "1b448ba1",
   "metadata": {},
   "outputs": [
    {
     "data": {
      "text/plain": [
       "[1, 2, 3]"
      ]
     },
     "execution_count": 99,
     "metadata": {},
     "output_type": "execute_result"
    }
   ],
   "source": [
    "list"
   ]
  },
  {
   "cell_type": "code",
   "execution_count": 100,
   "id": "1795f53e",
   "metadata": {},
   "outputs": [],
   "source": [
    "list=['one',1,1.5]"
   ]
  },
  {
   "cell_type": "code",
   "execution_count": 101,
   "id": "149d479a",
   "metadata": {},
   "outputs": [
    {
     "data": {
      "text/plain": [
       "['one', 1, 1.5]"
      ]
     },
     "execution_count": 101,
     "metadata": {},
     "output_type": "execute_result"
    }
   ],
   "source": [
    "list"
   ]
  },
  {
   "cell_type": "code",
   "execution_count": 102,
   "id": "5e73f09c",
   "metadata": {},
   "outputs": [],
   "source": [
    "list=['one','two','three']"
   ]
  },
  {
   "cell_type": "code",
   "execution_count": 103,
   "id": "48acb3e9",
   "metadata": {},
   "outputs": [
    {
     "data": {
      "text/plain": [
       "['one', 'two', 'three']"
      ]
     },
     "execution_count": 103,
     "metadata": {},
     "output_type": "execute_result"
    }
   ],
   "source": [
    "list"
   ]
  },
  {
   "cell_type": "code",
   "execution_count": 104,
   "id": "7caa99a8",
   "metadata": {},
   "outputs": [
    {
     "data": {
      "text/plain": [
       "'two'"
      ]
     },
     "execution_count": 104,
     "metadata": {},
     "output_type": "execute_result"
    }
   ],
   "source": [
    "list[1]"
   ]
  },
  {
   "cell_type": "code",
   "execution_count": 105,
   "id": "8d82c4bd",
   "metadata": {},
   "outputs": [
    {
     "data": {
      "text/plain": [
       "['two', 'three']"
      ]
     },
     "execution_count": 105,
     "metadata": {},
     "output_type": "execute_result"
    }
   ],
   "source": [
    "list[1:]"
   ]
  },
  {
   "cell_type": "code",
   "execution_count": 106,
   "id": "5523311f",
   "metadata": {},
   "outputs": [],
   "source": [
    "list[0]='ONE'"
   ]
  },
  {
   "cell_type": "code",
   "execution_count": 107,
   "id": "79fc6739",
   "metadata": {},
   "outputs": [
    {
     "data": {
      "text/plain": [
       "['ONE', 'two', 'three']"
      ]
     },
     "execution_count": 107,
     "metadata": {},
     "output_type": "execute_result"
    }
   ],
   "source": [
    "list"
   ]
  },
  {
   "cell_type": "code",
   "execution_count": 108,
   "id": "a8def1c9",
   "metadata": {},
   "outputs": [
    {
     "name": "stdout",
     "output_type": "stream",
     "text": [
      "['ONE', 'two', 'three']\n"
     ]
    }
   ],
   "source": [
    "print(list)"
   ]
  },
  {
   "cell_type": "code",
   "execution_count": 109,
   "id": "c1c5bde4",
   "metadata": {},
   "outputs": [
    {
     "data": {
      "text/plain": [
       "['ONE', 'two', 'three']"
      ]
     },
     "execution_count": 109,
     "metadata": {},
     "output_type": "execute_result"
    }
   ],
   "source": [
    "list"
   ]
  },
  {
   "cell_type": "code",
   "execution_count": 110,
   "id": "dbd43f1f",
   "metadata": {},
   "outputs": [],
   "source": [
    "another_list=['four','five']"
   ]
  },
  {
   "cell_type": "code",
   "execution_count": 111,
   "id": "c42752e4",
   "metadata": {},
   "outputs": [
    {
     "data": {
      "text/plain": [
       "['four', 'five']"
      ]
     },
     "execution_count": 111,
     "metadata": {},
     "output_type": "execute_result"
    }
   ],
   "source": [
    "another_list"
   ]
  },
  {
   "cell_type": "code",
   "execution_count": 112,
   "id": "a02410bd",
   "metadata": {},
   "outputs": [
    {
     "data": {
      "text/plain": [
       "['ONE', 'two', 'three', 'four', 'five']"
      ]
     },
     "execution_count": 112,
     "metadata": {},
     "output_type": "execute_result"
    }
   ],
   "source": [
    "list+another_list"
   ]
  },
  {
   "cell_type": "code",
   "execution_count": 113,
   "id": "7143440e",
   "metadata": {},
   "outputs": [],
   "source": [
    "my_list=list+another_list"
   ]
  },
  {
   "cell_type": "code",
   "execution_count": 114,
   "id": "09f2edb3",
   "metadata": {},
   "outputs": [
    {
     "data": {
      "text/plain": [
       "['ONE', 'two', 'three', 'four', 'five']"
      ]
     },
     "execution_count": 114,
     "metadata": {},
     "output_type": "execute_result"
    }
   ],
   "source": [
    "my_list"
   ]
  },
  {
   "cell_type": "code",
   "execution_count": 115,
   "id": "c448f584",
   "metadata": {},
   "outputs": [],
   "source": [
    "my_list.append('six')"
   ]
  },
  {
   "cell_type": "code",
   "execution_count": 122,
   "id": "f5f0fc65",
   "metadata": {},
   "outputs": [
    {
     "data": {
      "text/plain": [
       "['ONE', 'two', 'three', 'four', 'five']"
      ]
     },
     "execution_count": 122,
     "metadata": {},
     "output_type": "execute_result"
    }
   ],
   "source": [
    "my_list"
   ]
  },
  {
   "cell_type": "code",
   "execution_count": 117,
   "id": "672b5223",
   "metadata": {},
   "outputs": [
    {
     "data": {
      "text/plain": [
       "'six'"
      ]
     },
     "execution_count": 117,
     "metadata": {},
     "output_type": "execute_result"
    }
   ],
   "source": [
    "my_list.pop()"
   ]
  },
  {
   "cell_type": "code",
   "execution_count": 118,
   "id": "a1df7f68",
   "metadata": {},
   "outputs": [
    {
     "data": {
      "text/plain": [
       "['ONE', 'two', 'three', 'four', 'five']"
      ]
     },
     "execution_count": 118,
     "metadata": {},
     "output_type": "execute_result"
    }
   ],
   "source": [
    "my_list"
   ]
  },
  {
   "cell_type": "code",
   "execution_count": 119,
   "id": "ac5c030a",
   "metadata": {},
   "outputs": [
    {
     "ename": "TypeError",
     "evalue": "'str' object cannot be interpreted as an integer",
     "output_type": "error",
     "traceback": [
      "\u001b[1;31m---------------------------------------------------------------------------\u001b[0m",
      "\u001b[1;31mTypeError\u001b[0m                                 Traceback (most recent call last)",
      "Input \u001b[1;32mIn [119]\u001b[0m, in \u001b[0;36m<cell line: 1>\u001b[1;34m()\u001b[0m\n\u001b[1;32m----> 1\u001b[0m \u001b[43mmy_list\u001b[49m\u001b[38;5;241;43m.\u001b[39;49m\u001b[43mpop\u001b[49m\u001b[43m(\u001b[49m\u001b[38;5;124;43m'\u001b[39;49m\u001b[38;5;124;43mfive\u001b[39;49m\u001b[38;5;124;43m'\u001b[39;49m\u001b[43m)\u001b[49m\n",
      "\u001b[1;31mTypeError\u001b[0m: 'str' object cannot be interpreted as an integer"
     ]
    }
   ],
   "source": [
    "my_list.pop('five')"
   ]
  },
  {
   "cell_type": "code",
   "execution_count": 120,
   "id": "5ef8ada8",
   "metadata": {},
   "outputs": [
    {
     "ename": "NameError",
     "evalue": "name 'five' is not defined",
     "output_type": "error",
     "traceback": [
      "\u001b[1;31m---------------------------------------------------------------------------\u001b[0m",
      "\u001b[1;31mNameError\u001b[0m                                 Traceback (most recent call last)",
      "Input \u001b[1;32mIn [120]\u001b[0m, in \u001b[0;36m<cell line: 1>\u001b[1;34m()\u001b[0m\n\u001b[1;32m----> 1\u001b[0m my_list\u001b[38;5;241m.\u001b[39mpop(\u001b[43mfive\u001b[49m)\n",
      "\u001b[1;31mNameError\u001b[0m: name 'five' is not defined"
     ]
    }
   ],
   "source": [
    "my_list.pop(five)"
   ]
  },
  {
   "cell_type": "code",
   "execution_count": 121,
   "id": "8e3f1529",
   "metadata": {},
   "outputs": [
    {
     "data": {
      "text/plain": [
       "['ONE', 'two', 'three', 'four', 'five']"
      ]
     },
     "execution_count": 121,
     "metadata": {},
     "output_type": "execute_result"
    }
   ],
   "source": [
    "my_list"
   ]
  },
  {
   "cell_type": "code",
   "execution_count": 123,
   "id": "37147b0a",
   "metadata": {},
   "outputs": [
    {
     "ename": "SyntaxError",
     "evalue": "invalid syntax (202159472.py, line 1)",
     "output_type": "error",
     "traceback": [
      "\u001b[1;36m  Input \u001b[1;32mIn [123]\u001b[1;36m\u001b[0m\n\u001b[1;33m    my_list.append(1:'one')\u001b[0m\n\u001b[1;37m                    ^\u001b[0m\n\u001b[1;31mSyntaxError\u001b[0m\u001b[1;31m:\u001b[0m invalid syntax\n"
     ]
    }
   ],
   "source": [
    "my_list.append(1:'one')"
   ]
  },
  {
   "cell_type": "code",
   "execution_count": 124,
   "id": "3dce2b9d",
   "metadata": {},
   "outputs": [
    {
     "data": {
      "text/plain": [
       "['ONE', 'two', 'three', 'four', 'five']"
      ]
     },
     "execution_count": 124,
     "metadata": {},
     "output_type": "execute_result"
    }
   ],
   "source": [
    "my_list"
   ]
  },
  {
   "cell_type": "code",
   "execution_count": 128,
   "id": "42f4858b",
   "metadata": {},
   "outputs": [
    {
     "data": {
      "text/plain": [
       "'two'"
      ]
     },
     "execution_count": 128,
     "metadata": {},
     "output_type": "execute_result"
    }
   ],
   "source": [
    "my_list.pop(0)"
   ]
  },
  {
   "cell_type": "code",
   "execution_count": 126,
   "id": "3f8dae59",
   "metadata": {},
   "outputs": [
    {
     "data": {
      "text/plain": [
       "['two', 'three', 'four', 'five']"
      ]
     },
     "execution_count": 126,
     "metadata": {},
     "output_type": "execute_result"
    }
   ],
   "source": [
    "my_list"
   ]
  },
  {
   "cell_type": "code",
   "execution_count": 129,
   "id": "76418867",
   "metadata": {},
   "outputs": [
    {
     "data": {
      "text/plain": [
       "['three', 'four', 'five']"
      ]
     },
     "execution_count": 129,
     "metadata": {},
     "output_type": "execute_result"
    }
   ],
   "source": [
    "my_list"
   ]
  },
  {
   "cell_type": "code",
   "execution_count": 130,
   "id": "d5a15d08",
   "metadata": {},
   "outputs": [],
   "source": [
    "my_list=['a','c','b']\n",
    "num_list=[2,1,4,3]"
   ]
  },
  {
   "cell_type": "code",
   "execution_count": 136,
   "id": "f5af3262",
   "metadata": {},
   "outputs": [],
   "source": [
    "my_list.sort()\n",
    "new_list=my_list"
   ]
  },
  {
   "cell_type": "code",
   "execution_count": 137,
   "id": "fd2b1525",
   "metadata": {},
   "outputs": [
    {
     "data": {
      "text/plain": [
       "['a', 'b', 'c']"
      ]
     },
     "execution_count": 137,
     "metadata": {},
     "output_type": "execute_result"
    }
   ],
   "source": [
    "new_list"
   ]
  },
  {
   "cell_type": "code",
   "execution_count": 142,
   "id": "1a044f91",
   "metadata": {},
   "outputs": [],
   "source": [
    "num_list.sort()\n",
    "numlist=num_list"
   ]
  },
  {
   "cell_type": "code",
   "execution_count": 143,
   "id": "001784d0",
   "metadata": {},
   "outputs": [
    {
     "data": {
      "text/plain": [
       "[1, 2, 3, 4]"
      ]
     },
     "execution_count": 143,
     "metadata": {},
     "output_type": "execute_result"
    }
   ],
   "source": [
    "numlist"
   ]
  },
  {
   "cell_type": "code",
   "execution_count": 144,
   "id": "bf8c28b0",
   "metadata": {},
   "outputs": [
    {
     "data": {
      "text/plain": [
       "['a', 'b', 'c']"
      ]
     },
     "execution_count": 144,
     "metadata": {},
     "output_type": "execute_result"
    }
   ],
   "source": [
    "my_list"
   ]
  },
  {
   "cell_type": "code",
   "execution_count": 145,
   "id": "ebac41bd",
   "metadata": {},
   "outputs": [],
   "source": [
    "my_list.reverse()\n",
    "new_my_list=my_list"
   ]
  },
  {
   "cell_type": "code",
   "execution_count": 146,
   "id": "fed342d0",
   "metadata": {},
   "outputs": [
    {
     "data": {
      "text/plain": [
       "['c', 'b', 'a']"
      ]
     },
     "execution_count": 146,
     "metadata": {},
     "output_type": "execute_result"
    }
   ],
   "source": [
    "new_my_list"
   ]
  },
  {
   "cell_type": "code",
   "execution_count": 147,
   "id": "7239100e",
   "metadata": {},
   "outputs": [
    {
     "data": {
      "text/plain": [
       "[1, 2, 3, 4]"
      ]
     },
     "execution_count": 147,
     "metadata": {},
     "output_type": "execute_result"
    }
   ],
   "source": [
    "num_list"
   ]
  },
  {
   "cell_type": "code",
   "execution_count": 148,
   "id": "af0da9dc",
   "metadata": {},
   "outputs": [],
   "source": [
    "num_list.reverse()\n",
    "new_num_list=num_list"
   ]
  },
  {
   "cell_type": "code",
   "execution_count": 149,
   "id": "1561503b",
   "metadata": {},
   "outputs": [
    {
     "data": {
      "text/plain": [
       "[4, 3, 2, 1]"
      ]
     },
     "execution_count": 149,
     "metadata": {},
     "output_type": "execute_result"
    }
   ],
   "source": [
    "new_num_list"
   ]
  },
  {
   "cell_type": "code",
   "execution_count": 150,
   "id": "5435a975",
   "metadata": {},
   "outputs": [
    {
     "data": {
      "text/plain": [
       "['c', 'b', 'a']"
      ]
     },
     "execution_count": 150,
     "metadata": {},
     "output_type": "execute_result"
    }
   ],
   "source": [
    "my_list"
   ]
  },
  {
   "cell_type": "code",
   "execution_count": 153,
   "id": "594902ad",
   "metadata": {},
   "outputs": [],
   "source": [
    "#dictionaries\n",
    "my_dict={'key1':'value1','key2':'value2','key3':'value3'}"
   ]
  },
  {
   "cell_type": "code",
   "execution_count": 154,
   "id": "afc68088",
   "metadata": {},
   "outputs": [
    {
     "data": {
      "text/plain": [
       "{'key1': 'value1', 'key2': 'value2', 'key3': 'value3'}"
      ]
     },
     "execution_count": 154,
     "metadata": {},
     "output_type": "execute_result"
    }
   ],
   "source": [
    "my_dict"
   ]
  },
  {
   "cell_type": "code",
   "execution_count": 155,
   "id": "bd43de00",
   "metadata": {},
   "outputs": [],
   "source": [
    "mydict={'key1':'value1','key2':100,'key3':1.2}"
   ]
  },
  {
   "cell_type": "code",
   "execution_count": 156,
   "id": "36d21bc9",
   "metadata": {},
   "outputs": [
    {
     "data": {
      "text/plain": [
       "{'key1': 'value1', 'key2': 100, 'key3': 1.2}"
      ]
     },
     "execution_count": 156,
     "metadata": {},
     "output_type": "execute_result"
    }
   ],
   "source": [
    "mydict"
   ]
  },
  {
   "cell_type": "code",
   "execution_count": 158,
   "id": "8ee41ff2",
   "metadata": {},
   "outputs": [],
   "source": [
    "d={'key1': 'value1', 'key2': 100, 'key3': 1.2,'key3':[1,2,3],'key4':{'another':'dictionary'}}"
   ]
  },
  {
   "cell_type": "code",
   "execution_count": 159,
   "id": "e41ef978",
   "metadata": {},
   "outputs": [
    {
     "data": {
      "text/plain": [
       "{'key1': 'value1',\n",
       " 'key2': 100,\n",
       " 'key3': [1, 2, 3],\n",
       " 'key4': {'another': 'dictionary'}}"
      ]
     },
     "execution_count": 159,
     "metadata": {},
     "output_type": "execute_result"
    }
   ],
   "source": [
    "d"
   ]
  },
  {
   "cell_type": "code",
   "execution_count": 160,
   "id": "0f366b98",
   "metadata": {},
   "outputs": [
    {
     "ename": "NameError",
     "evalue": "name 'key1' is not defined",
     "output_type": "error",
     "traceback": [
      "\u001b[1;31m---------------------------------------------------------------------------\u001b[0m",
      "\u001b[1;31mNameError\u001b[0m                                 Traceback (most recent call last)",
      "Input \u001b[1;32mIn [160]\u001b[0m, in \u001b[0;36m<cell line: 1>\u001b[1;34m()\u001b[0m\n\u001b[1;32m----> 1\u001b[0m d[\u001b[43mkey1\u001b[49m]\n",
      "\u001b[1;31mNameError\u001b[0m: name 'key1' is not defined"
     ]
    }
   ],
   "source": [
    "d[key1]"
   ]
  },
  {
   "cell_type": "code",
   "execution_count": 161,
   "id": "419c55ef",
   "metadata": {},
   "outputs": [
    {
     "data": {
      "text/plain": [
       "{'key1': 'value1',\n",
       " 'key2': 100,\n",
       " 'key3': [1, 2, 3],\n",
       " 'key4': {'another': 'dictionary'}}"
      ]
     },
     "execution_count": 161,
     "metadata": {},
     "output_type": "execute_result"
    }
   ],
   "source": [
    "d"
   ]
  },
  {
   "cell_type": "code",
   "execution_count": 162,
   "id": "d3965058",
   "metadata": {},
   "outputs": [
    {
     "data": {
      "text/plain": [
       "'value1'"
      ]
     },
     "execution_count": 162,
     "metadata": {},
     "output_type": "execute_result"
    }
   ],
   "source": [
    "d['key1']"
   ]
  },
  {
   "cell_type": "code",
   "execution_count": 163,
   "id": "1b5675ac",
   "metadata": {},
   "outputs": [
    {
     "data": {
      "text/plain": [
       "100"
      ]
     },
     "execution_count": 163,
     "metadata": {},
     "output_type": "execute_result"
    }
   ],
   "source": [
    "d['key2']"
   ]
  },
  {
   "cell_type": "code",
   "execution_count": 164,
   "id": "fadc5294",
   "metadata": {},
   "outputs": [
    {
     "data": {
      "text/plain": [
       "[1, 2, 3]"
      ]
     },
     "execution_count": 164,
     "metadata": {},
     "output_type": "execute_result"
    }
   ],
   "source": [
    "d['key3']"
   ]
  },
  {
   "cell_type": "code",
   "execution_count": 165,
   "id": "2d50e3a7",
   "metadata": {},
   "outputs": [
    {
     "data": {
      "text/plain": [
       "2"
      ]
     },
     "execution_count": 165,
     "metadata": {},
     "output_type": "execute_result"
    }
   ],
   "source": [
    "d['key3'][1]"
   ]
  },
  {
   "cell_type": "code",
   "execution_count": 166,
   "id": "8c94b336",
   "metadata": {},
   "outputs": [
    {
     "data": {
      "text/plain": [
       "{'another': 'dictionary'}"
      ]
     },
     "execution_count": 166,
     "metadata": {},
     "output_type": "execute_result"
    }
   ],
   "source": [
    "d['key4']"
   ]
  },
  {
   "cell_type": "code",
   "execution_count": 167,
   "id": "4b7f37d6",
   "metadata": {},
   "outputs": [
    {
     "data": {
      "text/plain": [
       "'dictionary'"
      ]
     },
     "execution_count": 167,
     "metadata": {},
     "output_type": "execute_result"
    }
   ],
   "source": [
    "d['key4']['another']"
   ]
  },
  {
   "cell_type": "code",
   "execution_count": 170,
   "id": "f577954d",
   "metadata": {},
   "outputs": [
    {
     "data": {
      "text/plain": [
       "'DICTIONARY'"
      ]
     },
     "execution_count": 170,
     "metadata": {},
     "output_type": "execute_result"
    }
   ],
   "source": [
    "d['key4']['another'].upper()"
   ]
  },
  {
   "cell_type": "code",
   "execution_count": 171,
   "id": "44beb8b9",
   "metadata": {},
   "outputs": [
    {
     "data": {
      "text/plain": [
       "[1, 2, 3]"
      ]
     },
     "execution_count": 171,
     "metadata": {},
     "output_type": "execute_result"
    }
   ],
   "source": [
    "d['key3']"
   ]
  },
  {
   "cell_type": "code",
   "execution_count": 176,
   "id": "294f7b3d",
   "metadata": {},
   "outputs": [
    {
     "data": {
      "text/plain": [
       "3"
      ]
     },
     "execution_count": 176,
     "metadata": {},
     "output_type": "execute_result"
    }
   ],
   "source": [
    "d['key3'][2]"
   ]
  },
  {
   "cell_type": "code",
   "execution_count": 179,
   "id": "40ad422c",
   "metadata": {},
   "outputs": [
    {
     "data": {
      "text/plain": [
       "[1, 2, 3]"
      ]
     },
     "execution_count": 179,
     "metadata": {},
     "output_type": "execute_result"
    }
   ],
   "source": [
    "d['key3']"
   ]
  },
  {
   "cell_type": "code",
   "execution_count": 180,
   "id": "3bf6fce3",
   "metadata": {},
   "outputs": [],
   "source": [
    "list=d['key3']"
   ]
  },
  {
   "cell_type": "code",
   "execution_count": 181,
   "id": "3fd07d2e",
   "metadata": {},
   "outputs": [
    {
     "data": {
      "text/plain": [
       "[1, 2, 3]"
      ]
     },
     "execution_count": 181,
     "metadata": {},
     "output_type": "execute_result"
    }
   ],
   "source": [
    "list"
   ]
  },
  {
   "cell_type": "code",
   "execution_count": 182,
   "id": "95cd0800",
   "metadata": {},
   "outputs": [],
   "source": [
    "list.reverse()\n",
    "reversed_list=list"
   ]
  },
  {
   "cell_type": "code",
   "execution_count": 183,
   "id": "e7249eb9",
   "metadata": {},
   "outputs": [
    {
     "data": {
      "text/plain": [
       "[3, 2, 1]"
      ]
     },
     "execution_count": 183,
     "metadata": {},
     "output_type": "execute_result"
    }
   ],
   "source": [
    "reversed_list"
   ]
  },
  {
   "cell_type": "code",
   "execution_count": 184,
   "id": "436362b8",
   "metadata": {},
   "outputs": [
    {
     "data": {
      "text/plain": [
       "{'key1': 'value1',\n",
       " 'key2': 100,\n",
       " 'key3': [3, 2, 1],\n",
       " 'key4': {'another': 'dictionary'}}"
      ]
     },
     "execution_count": 184,
     "metadata": {},
     "output_type": "execute_result"
    }
   ],
   "source": [
    "d"
   ]
  },
  {
   "cell_type": "code",
   "execution_count": 185,
   "id": "63e74bc5",
   "metadata": {},
   "outputs": [
    {
     "data": {
      "text/plain": [
       "dict_values(['value1', 100, [3, 2, 1], {'another': 'dictionary'}])"
      ]
     },
     "execution_count": 185,
     "metadata": {},
     "output_type": "execute_result"
    }
   ],
   "source": [
    "d.values()"
   ]
  },
  {
   "cell_type": "code",
   "execution_count": 186,
   "id": "b1a705ab",
   "metadata": {},
   "outputs": [
    {
     "data": {
      "text/plain": [
       "dict_keys(['key1', 'key2', 'key3', 'key4'])"
      ]
     },
     "execution_count": 186,
     "metadata": {},
     "output_type": "execute_result"
    }
   ],
   "source": [
    "d.keys()"
   ]
  },
  {
   "cell_type": "code",
   "execution_count": 187,
   "id": "4886b955",
   "metadata": {},
   "outputs": [],
   "source": [
    "dict={'key1':'value1','key2':'value2','key3':'value3'}"
   ]
  },
  {
   "cell_type": "code",
   "execution_count": 188,
   "id": "2e64530d",
   "metadata": {},
   "outputs": [
    {
     "data": {
      "text/plain": [
       "{'key1': 'value1', 'key2': 'value2', 'key3': 'value3'}"
      ]
     },
     "execution_count": 188,
     "metadata": {},
     "output_type": "execute_result"
    }
   ],
   "source": [
    "dict"
   ]
  },
  {
   "cell_type": "code",
   "execution_count": 189,
   "id": "4cb71c54",
   "metadata": {},
   "outputs": [],
   "source": [
    "d={'key1':'value1','key2':100,'key3':1.5,'key4':['a','b','c'],'key5':{'inside':'dict'}}"
   ]
  },
  {
   "cell_type": "code",
   "execution_count": 190,
   "id": "8ddfc9bb",
   "metadata": {},
   "outputs": [
    {
     "data": {
      "text/plain": [
       "{'key1': 'value1',\n",
       " 'key2': 100,\n",
       " 'key3': 1.5,\n",
       " 'key4': ['a', 'b', 'c'],\n",
       " 'key5': {'inside': 'dict'}}"
      ]
     },
     "execution_count": 190,
     "metadata": {},
     "output_type": "execute_result"
    }
   ],
   "source": [
    "d"
   ]
  },
  {
   "cell_type": "code",
   "execution_count": 193,
   "id": "856e078a",
   "metadata": {},
   "outputs": [
    {
     "data": {
      "text/plain": [
       "'value1'"
      ]
     },
     "execution_count": 193,
     "metadata": {},
     "output_type": "execute_result"
    }
   ],
   "source": [
    "d['key1']"
   ]
  },
  {
   "cell_type": "code",
   "execution_count": 192,
   "id": "7a5f4067",
   "metadata": {},
   "outputs": [
    {
     "data": {
      "text/plain": [
       "100"
      ]
     },
     "execution_count": 192,
     "metadata": {},
     "output_type": "execute_result"
    }
   ],
   "source": [
    "d['key2']"
   ]
  },
  {
   "cell_type": "code",
   "execution_count": 194,
   "id": "a08a98af",
   "metadata": {},
   "outputs": [
    {
     "data": {
      "text/plain": [
       "1.5"
      ]
     },
     "execution_count": 194,
     "metadata": {},
     "output_type": "execute_result"
    }
   ],
   "source": [
    "d['key3']"
   ]
  },
  {
   "cell_type": "code",
   "execution_count": 195,
   "id": "e74a4261",
   "metadata": {},
   "outputs": [
    {
     "data": {
      "text/plain": [
       "['a', 'b', 'c']"
      ]
     },
     "execution_count": 195,
     "metadata": {},
     "output_type": "execute_result"
    }
   ],
   "source": [
    "d['key4']"
   ]
  },
  {
   "cell_type": "code",
   "execution_count": 196,
   "id": "ab8f6643",
   "metadata": {},
   "outputs": [
    {
     "data": {
      "text/plain": [
       "'b'"
      ]
     },
     "execution_count": 196,
     "metadata": {},
     "output_type": "execute_result"
    }
   ],
   "source": [
    "d['key4'][1]"
   ]
  },
  {
   "cell_type": "code",
   "execution_count": 197,
   "id": "2c08097f",
   "metadata": {},
   "outputs": [
    {
     "data": {
      "text/plain": [
       "{'inside': 'dict'}"
      ]
     },
     "execution_count": 197,
     "metadata": {},
     "output_type": "execute_result"
    }
   ],
   "source": [
    "d['key5']"
   ]
  },
  {
   "cell_type": "code",
   "execution_count": 198,
   "id": "48d60e43",
   "metadata": {},
   "outputs": [
    {
     "data": {
      "text/plain": [
       "'dict'"
      ]
     },
     "execution_count": 198,
     "metadata": {},
     "output_type": "execute_result"
    }
   ],
   "source": [
    "d['key5']['inside']"
   ]
  },
  {
   "cell_type": "code",
   "execution_count": 199,
   "id": "482070bc",
   "metadata": {},
   "outputs": [
    {
     "data": {
      "text/plain": [
       "'DICT'"
      ]
     },
     "execution_count": 199,
     "metadata": {},
     "output_type": "execute_result"
    }
   ],
   "source": [
    "d['key5']['inside'].upper()"
   ]
  },
  {
   "cell_type": "code",
   "execution_count": 200,
   "id": "e4ec4afd",
   "metadata": {},
   "outputs": [],
   "source": [
    "#tuples\n",
    "t=(1,2,3)"
   ]
  },
  {
   "cell_type": "code",
   "execution_count": 201,
   "id": "45a25594",
   "metadata": {},
   "outputs": [
    {
     "data": {
      "text/plain": [
       "(1, 2, 3)"
      ]
     },
     "execution_count": 201,
     "metadata": {},
     "output_type": "execute_result"
    }
   ],
   "source": [
    "t"
   ]
  },
  {
   "cell_type": "code",
   "execution_count": 202,
   "id": "b145098b",
   "metadata": {},
   "outputs": [],
   "source": [
    "tup=(1,'a',1.5)"
   ]
  },
  {
   "cell_type": "code",
   "execution_count": 203,
   "id": "9f5143c9",
   "metadata": {},
   "outputs": [
    {
     "data": {
      "text/plain": [
       "(1, 'a', 1.5)"
      ]
     },
     "execution_count": 203,
     "metadata": {},
     "output_type": "execute_result"
    }
   ],
   "source": [
    "tup"
   ]
  },
  {
   "cell_type": "code",
   "execution_count": 204,
   "id": "1a567eee",
   "metadata": {},
   "outputs": [],
   "source": [
    "tupple=('a','a','b','c')"
   ]
  },
  {
   "cell_type": "code",
   "execution_count": 205,
   "id": "0933de24",
   "metadata": {},
   "outputs": [
    {
     "data": {
      "text/plain": [
       "('a', 'a', 'b', 'c')"
      ]
     },
     "execution_count": 205,
     "metadata": {},
     "output_type": "execute_result"
    }
   ],
   "source": [
    "tupple"
   ]
  },
  {
   "cell_type": "code",
   "execution_count": 206,
   "id": "b0c24371",
   "metadata": {},
   "outputs": [
    {
     "data": {
      "text/plain": [
       "2"
      ]
     },
     "execution_count": 206,
     "metadata": {},
     "output_type": "execute_result"
    }
   ],
   "source": [
    "tupple.count('a')"
   ]
  },
  {
   "cell_type": "code",
   "execution_count": 207,
   "id": "ae26d561",
   "metadata": {},
   "outputs": [
    {
     "data": {
      "text/plain": [
       "0"
      ]
     },
     "execution_count": 207,
     "metadata": {},
     "output_type": "execute_result"
    }
   ],
   "source": [
    "tupple.index('a')"
   ]
  },
  {
   "cell_type": "code",
   "execution_count": 208,
   "id": "3204659d",
   "metadata": {},
   "outputs": [
    {
     "data": {
      "text/plain": [
       "3"
      ]
     },
     "execution_count": 208,
     "metadata": {},
     "output_type": "execute_result"
    }
   ],
   "source": [
    "tupple.index('c')"
   ]
  },
  {
   "cell_type": "code",
   "execution_count": 209,
   "id": "99ab78ef",
   "metadata": {},
   "outputs": [
    {
     "data": {
      "text/plain": [
       "('a', 'a', 'b', 'c')"
      ]
     },
     "execution_count": 209,
     "metadata": {},
     "output_type": "execute_result"
    }
   ],
   "source": [
    "tupple"
   ]
  },
  {
   "cell_type": "code",
   "execution_count": 210,
   "id": "1e5329fc",
   "metadata": {},
   "outputs": [
    {
     "ename": "TypeError",
     "evalue": "'tuple' object does not support item assignment",
     "output_type": "error",
     "traceback": [
      "\u001b[1;31m---------------------------------------------------------------------------\u001b[0m",
      "\u001b[1;31mTypeError\u001b[0m                                 Traceback (most recent call last)",
      "Input \u001b[1;32mIn [210]\u001b[0m, in \u001b[0;36m<cell line: 1>\u001b[1;34m()\u001b[0m\n\u001b[1;32m----> 1\u001b[0m tupple[\u001b[38;5;241m0\u001b[39m]\u001b[38;5;241m=\u001b[39m\u001b[38;5;124m'\u001b[39m\u001b[38;5;124mz\u001b[39m\u001b[38;5;124m'\u001b[39m\n",
      "\u001b[1;31mTypeError\u001b[0m: 'tuple' object does not support item assignment"
     ]
    }
   ],
   "source": [
    "tupple[0]='z'"
   ]
  },
  {
   "cell_type": "code",
   "execution_count": 211,
   "id": "15424932",
   "metadata": {},
   "outputs": [
    {
     "data": {
      "text/plain": [
       "('a', 'a', 'b', 'c')"
      ]
     },
     "execution_count": 211,
     "metadata": {},
     "output_type": "execute_result"
    }
   ],
   "source": [
    "tupple"
   ]
  },
  {
   "cell_type": "code",
   "execution_count": 212,
   "id": "d18d2068",
   "metadata": {},
   "outputs": [],
   "source": [
    "tupple=('1','a',[5,6,7])"
   ]
  },
  {
   "cell_type": "code",
   "execution_count": 213,
   "id": "3a70fbab",
   "metadata": {},
   "outputs": [
    {
     "data": {
      "text/plain": [
       "('1', 'a', [5, 6, 7])"
      ]
     },
     "execution_count": 213,
     "metadata": {},
     "output_type": "execute_result"
    }
   ],
   "source": [
    "tupple"
   ]
  },
  {
   "cell_type": "code",
   "execution_count": 214,
   "id": "c3167b6d",
   "metadata": {},
   "outputs": [
    {
     "data": {
      "text/plain": [
       "'a'"
      ]
     },
     "execution_count": 214,
     "metadata": {},
     "output_type": "execute_result"
    }
   ],
   "source": [
    "tupple[1]"
   ]
  },
  {
   "cell_type": "code",
   "execution_count": 215,
   "id": "5efd4d9d",
   "metadata": {},
   "outputs": [
    {
     "data": {
      "text/plain": [
       "7"
      ]
     },
     "execution_count": 215,
     "metadata": {},
     "output_type": "execute_result"
    }
   ],
   "source": [
    "tupple[2][2]"
   ]
  },
  {
   "cell_type": "code",
   "execution_count": 216,
   "id": "5d72ddd0",
   "metadata": {},
   "outputs": [
    {
     "data": {
      "text/plain": [
       "('1', 'a', [5, 6, 7])"
      ]
     },
     "execution_count": 216,
     "metadata": {},
     "output_type": "execute_result"
    }
   ],
   "source": [
    "tupple"
   ]
  },
  {
   "cell_type": "code",
   "execution_count": 217,
   "id": "2ec44f7e",
   "metadata": {},
   "outputs": [],
   "source": [
    "#sets\n",
    "s={1,2,3}"
   ]
  },
  {
   "cell_type": "code",
   "execution_count": 218,
   "id": "02a9a380",
   "metadata": {},
   "outputs": [
    {
     "data": {
      "text/plain": [
       "{1, 2, 3}"
      ]
     },
     "execution_count": 218,
     "metadata": {},
     "output_type": "execute_result"
    }
   ],
   "source": [
    "s"
   ]
  },
  {
   "cell_type": "code",
   "execution_count": 219,
   "id": "7163f356",
   "metadata": {},
   "outputs": [],
   "source": [
    "s.add(4)"
   ]
  },
  {
   "cell_type": "code",
   "execution_count": 220,
   "id": "46105b6c",
   "metadata": {},
   "outputs": [
    {
     "data": {
      "text/plain": [
       "{1, 2, 3, 4}"
      ]
     },
     "execution_count": 220,
     "metadata": {},
     "output_type": "execute_result"
    }
   ],
   "source": [
    "s"
   ]
  },
  {
   "cell_type": "code",
   "execution_count": 221,
   "id": "61dfff2e",
   "metadata": {},
   "outputs": [],
   "source": [
    "s.add(2)"
   ]
  },
  {
   "cell_type": "code",
   "execution_count": 222,
   "id": "c98200f9",
   "metadata": {},
   "outputs": [
    {
     "data": {
      "text/plain": [
       "{1, 2, 3, 4}"
      ]
     },
     "execution_count": 222,
     "metadata": {},
     "output_type": "execute_result"
    }
   ],
   "source": [
    "s"
   ]
  },
  {
   "cell_type": "code",
   "execution_count": 225,
   "id": "cdf3d1b9",
   "metadata": {},
   "outputs": [],
   "source": [
    "s={1,2,2,3,3}"
   ]
  },
  {
   "cell_type": "code",
   "execution_count": 226,
   "id": "1764145c",
   "metadata": {},
   "outputs": [
    {
     "data": {
      "text/plain": [
       "{1, 2, 3}"
      ]
     },
     "execution_count": 226,
     "metadata": {},
     "output_type": "execute_result"
    }
   ],
   "source": [
    "s"
   ]
  },
  {
   "cell_type": "code",
   "execution_count": 227,
   "id": "908c4f5f",
   "metadata": {},
   "outputs": [],
   "source": [
    "s={'mississippi'}"
   ]
  },
  {
   "cell_type": "code",
   "execution_count": 228,
   "id": "742a9306",
   "metadata": {},
   "outputs": [
    {
     "data": {
      "text/plain": [
       "{'mississippi'}"
      ]
     },
     "execution_count": 228,
     "metadata": {},
     "output_type": "execute_result"
    }
   ],
   "source": [
    "s"
   ]
  },
  {
   "cell_type": "code",
   "execution_count": 231,
   "id": "532e8b6d",
   "metadata": {},
   "outputs": [],
   "source": [
    "s={'M','i','s','s','i','s','s','i','p','p','i'}"
   ]
  },
  {
   "cell_type": "code",
   "execution_count": 232,
   "id": "19ee479b",
   "metadata": {},
   "outputs": [
    {
     "data": {
      "text/plain": [
       "{'M', 'i', 'p', 's'}"
      ]
     },
     "execution_count": 232,
     "metadata": {},
     "output_type": "execute_result"
    }
   ],
   "source": [
    "s"
   ]
  },
  {
   "cell_type": "code",
   "execution_count": 233,
   "id": "584dfe01",
   "metadata": {},
   "outputs": [],
   "source": [
    "s={\"p\",\"a\",\"r\",\"a\",\"l\",\"l\",\"e\",\"l\"}"
   ]
  },
  {
   "cell_type": "code",
   "execution_count": 234,
   "id": "9ecc8bb2",
   "metadata": {},
   "outputs": [
    {
     "data": {
      "text/plain": [
       "{'a', 'e', 'l', 'p', 'r'}"
      ]
     },
     "execution_count": 234,
     "metadata": {},
     "output_type": "execute_result"
    }
   ],
   "source": [
    "s"
   ]
  },
  {
   "cell_type": "code",
   "execution_count": 235,
   "id": "3db28950",
   "metadata": {},
   "outputs": [
    {
     "data": {
      "text/plain": [
       "True"
      ]
     },
     "execution_count": 235,
     "metadata": {},
     "output_type": "execute_result"
    }
   ],
   "source": [
    "#boolean\n",
    "True"
   ]
  },
  {
   "cell_type": "code",
   "execution_count": 236,
   "id": "1ed98bb4",
   "metadata": {},
   "outputs": [
    {
     "data": {
      "text/plain": [
       "bool"
      ]
     },
     "execution_count": 236,
     "metadata": {},
     "output_type": "execute_result"
    }
   ],
   "source": [
    "type(True)"
   ]
  },
  {
   "cell_type": "code",
   "execution_count": 237,
   "id": "560b3a27",
   "metadata": {},
   "outputs": [
    {
     "data": {
      "text/plain": [
       "False"
      ]
     },
     "execution_count": 237,
     "metadata": {},
     "output_type": "execute_result"
    }
   ],
   "source": [
    "False"
   ]
  },
  {
   "cell_type": "code",
   "execution_count": 238,
   "id": "e9a564b2",
   "metadata": {},
   "outputs": [
    {
     "data": {
      "text/plain": [
       "bool"
      ]
     },
     "execution_count": 238,
     "metadata": {},
     "output_type": "execute_result"
    }
   ],
   "source": [
    "type(False)"
   ]
  },
  {
   "cell_type": "code",
   "execution_count": 239,
   "id": "6ce3f781",
   "metadata": {},
   "outputs": [
    {
     "ename": "NameError",
     "evalue": "name 'true' is not defined",
     "output_type": "error",
     "traceback": [
      "\u001b[1;31m---------------------------------------------------------------------------\u001b[0m",
      "\u001b[1;31mNameError\u001b[0m                                 Traceback (most recent call last)",
      "Input \u001b[1;32mIn [239]\u001b[0m, in \u001b[0;36m<cell line: 1>\u001b[1;34m()\u001b[0m\n\u001b[1;32m----> 1\u001b[0m \u001b[38;5;28mtype\u001b[39m(\u001b[43mtrue\u001b[49m)\n",
      "\u001b[1;31mNameError\u001b[0m: name 'true' is not defined"
     ]
    }
   ],
   "source": [
    "type(true)"
   ]
  },
  {
   "cell_type": "code",
   "execution_count": 240,
   "id": "e14ec801",
   "metadata": {},
   "outputs": [
    {
     "ename": "NameError",
     "evalue": "name 'true' is not defined",
     "output_type": "error",
     "traceback": [
      "\u001b[1;31m---------------------------------------------------------------------------\u001b[0m",
      "\u001b[1;31mNameError\u001b[0m                                 Traceback (most recent call last)",
      "Input \u001b[1;32mIn [240]\u001b[0m, in \u001b[0;36m<cell line: 1>\u001b[1;34m()\u001b[0m\n\u001b[1;32m----> 1\u001b[0m \u001b[43mtrue\u001b[49m\n",
      "\u001b[1;31mNameError\u001b[0m: name 'true' is not defined"
     ]
    }
   ],
   "source": [
    "true"
   ]
  },
  {
   "cell_type": "code",
   "execution_count": 241,
   "id": "aee8ff55",
   "metadata": {},
   "outputs": [
    {
     "data": {
      "text/plain": [
       "True"
      ]
     },
     "execution_count": 241,
     "metadata": {},
     "output_type": "execute_result"
    }
   ],
   "source": [
    "1<2"
   ]
  },
  {
   "cell_type": "code",
   "execution_count": 245,
   "id": "5f2cbd9a",
   "metadata": {},
   "outputs": [
    {
     "data": {
      "text/plain": [
       "False"
      ]
     },
     "execution_count": 245,
     "metadata": {},
     "output_type": "execute_result"
    }
   ],
   "source": [
    "1>2"
   ]
  },
  {
   "cell_type": "markdown",
   "id": "1ba1024e",
   "metadata": {},
   "source": []
  },
  {
   "cell_type": "code",
   "execution_count": 246,
   "id": "120c0c54",
   "metadata": {},
   "outputs": [
    {
     "data": {
      "text/plain": [
       "True"
      ]
     },
     "execution_count": 246,
     "metadata": {},
     "output_type": "execute_result"
    }
   ],
   "source": [
    "1==1"
   ]
  },
  {
   "cell_type": "code",
   "execution_count": 247,
   "id": "1d966b9c",
   "metadata": {},
   "outputs": [
    {
     "data": {
      "text/plain": [
       "False"
      ]
     },
     "execution_count": 247,
     "metadata": {},
     "output_type": "execute_result"
    }
   ],
   "source": [
    "1>2 and 2>3"
   ]
  },
  {
   "cell_type": "code",
   "execution_count": 248,
   "id": "4d58ba0a",
   "metadata": {},
   "outputs": [
    {
     "data": {
      "text/plain": [
       "True"
      ]
     },
     "execution_count": 248,
     "metadata": {},
     "output_type": "execute_result"
    }
   ],
   "source": [
    "1<2 and 2<3"
   ]
  },
  {
   "cell_type": "code",
   "execution_count": 249,
   "id": "558019a5",
   "metadata": {},
   "outputs": [
    {
     "data": {
      "text/plain": [
       "False"
      ]
     },
     "execution_count": 249,
     "metadata": {},
     "output_type": "execute_result"
    }
   ],
   "source": [
    "1<2 and 2>3       # and means if both conditions are true returns true "
   ]
  },
  {
   "cell_type": "code",
   "execution_count": 250,
   "id": "a4956a92",
   "metadata": {},
   "outputs": [
    {
     "data": {
      "text/plain": [
       "True"
      ]
     },
     "execution_count": 250,
     "metadata": {},
     "output_type": "execute_result"
    }
   ],
   "source": [
    "1<2 or 2<3    # or means any one of the conditions is true it  returns true"
   ]
  },
  {
   "cell_type": "code",
   "execution_count": 254,
   "id": "489b5ad3",
   "metadata": {},
   "outputs": [
    {
     "data": {
      "text/plain": [
       "True"
      ]
     },
     "execution_count": 254,
     "metadata": {},
     "output_type": "execute_result"
    }
   ],
   "source": [
    " 1==1"
   ]
  },
  {
   "cell_type": "raw",
   "id": "6cdb8fd1",
   "metadata": {},
   "source": []
  },
  {
   "cell_type": "code",
   "execution_count": 255,
   "id": "57268007",
   "metadata": {},
   "outputs": [
    {
     "data": {
      "text/plain": [
       "False"
      ]
     },
     "execution_count": 255,
     "metadata": {},
     "output_type": "execute_result"
    }
   ],
   "source": [
    "not 1==1"
   ]
  },
  {
   "cell_type": "code",
   "execution_count": 256,
   "id": "ea8be71c",
   "metadata": {},
   "outputs": [
    {
     "data": {
      "text/plain": [
       "True"
      ]
     },
     "execution_count": 256,
     "metadata": {},
     "output_type": "execute_result"
    }
   ],
   "source": [
    "2 <= 3 >= 1"
   ]
  },
  {
   "cell_type": "code",
   "execution_count": 262,
   "id": "8829b705",
   "metadata": {},
   "outputs": [
    {
     "name": "stdout",
     "output_type": "stream",
     "text": [
      "1\n",
      "2\n",
      "3\n",
      "4\n",
      "5\n",
      "6\n"
     ]
    }
   ],
   "source": [
    "my_list=[1,2,3,4,5,6]\n",
    "for num in my_list:\n",
    "    print(num)"
   ]
  },
  {
   "cell_type": "code",
   "execution_count": 265,
   "id": "883e55a5",
   "metadata": {},
   "outputs": [
    {
     "name": "stdout",
     "output_type": "stream",
     "text": [
      "not\n",
      "even\n",
      "divisible by three\n",
      "even\n",
      "not\n"
     ]
    }
   ],
   "source": [
    "my_list=[1,2,3,4,5]\n",
    "for num in my_list:\n",
    "    if num%2==0:\n",
    "        print('even')\n",
    "    elif num%3==0:\n",
    "        print('divisible by three')\n",
    "    else:\n",
    "        print('not')"
   ]
  },
  {
   "cell_type": "code",
   "execution_count": 269,
   "id": "d63ddaed",
   "metadata": {},
   "outputs": [
    {
     "name": "stdout",
     "output_type": "stream",
     "text": [
      "1\n",
      "2\n",
      "3\n",
      "4\n",
      "5\n",
      "6\n",
      "7\n",
      "8\n"
     ]
    }
   ],
   "source": [
    "#tuple unpacking\n",
    "\n",
    "l=[(1,2),(3,4),(5,6),(7,8)]\n",
    "for a,b in l:\n",
    "    print(a)\n",
    "    print(b)\n",
    "    "
   ]
  },
  {
   "cell_type": "code",
   "execution_count": 270,
   "id": "8b3d65ac",
   "metadata": {},
   "outputs": [
    {
     "data": {
      "text/plain": [
       "[(1, 2), (3, 4), (5, 6), (7, 8)]"
      ]
     },
     "execution_count": 270,
     "metadata": {},
     "output_type": "execute_result"
    }
   ],
   "source": [
    "l"
   ]
  },
  {
   "cell_type": "code",
   "execution_count": 271,
   "id": "722ec661",
   "metadata": {},
   "outputs": [
    {
     "name": "stdout",
     "output_type": "stream",
     "text": [
      "1\n",
      "3\n",
      "5\n",
      "7\n"
     ]
    }
   ],
   "source": [
    "for a,b in l:\n",
    "    print(a)"
   ]
  },
  {
   "cell_type": "code",
   "execution_count": 272,
   "id": "0fbc4ef4",
   "metadata": {},
   "outputs": [
    {
     "name": "stdout",
     "output_type": "stream",
     "text": [
      "2\n",
      "4\n",
      "6\n",
      "8\n"
     ]
    }
   ],
   "source": [
    "for a,b in l:\n",
    "    print(b)"
   ]
  },
  {
   "cell_type": "code",
   "execution_count": 273,
   "id": "d9655be0",
   "metadata": {},
   "outputs": [
    {
     "name": "stdout",
     "output_type": "stream",
     "text": [
      "21\n"
     ]
    }
   ],
   "source": [
    "my_list=[1,2,3,4,5,6]\n",
    "listsum=0\n",
    "for num in my_list:\n",
    "    listsum=listsum+num\n",
    "print(listsum)"
   ]
  },
  {
   "cell_type": "code",
   "execution_count": 274,
   "id": "1522d756",
   "metadata": {},
   "outputs": [
    {
     "name": "stdout",
     "output_type": "stream",
     "text": [
      "1\n",
      "3\n",
      "6\n",
      "10\n",
      "15\n",
      "21\n"
     ]
    }
   ],
   "source": [
    "my_list=[1,2,3,4,5,6]\n",
    "listsum=0\n",
    "for num in my_list:\n",
    "    listsum=listsum+num\n",
    "    print(listsum)"
   ]
  },
  {
   "cell_type": "code",
   "execution_count": 280,
   "id": "63ccc640",
   "metadata": {},
   "outputs": [
    {
     "name": "stdout",
     "output_type": "stream",
     "text": [
      "key1\n",
      "key2\n"
     ]
    }
   ],
   "source": [
    "d={'key1':1,'key2':2}\n",
    "for num in d:\n",
    "    print(num)"
   ]
  },
  {
   "cell_type": "code",
   "execution_count": 281,
   "id": "e0f397d1",
   "metadata": {},
   "outputs": [
    {
     "ename": "ValueError",
     "evalue": "too many values to unpack (expected 2)",
     "output_type": "error",
     "traceback": [
      "\u001b[1;31m---------------------------------------------------------------------------\u001b[0m",
      "\u001b[1;31mValueError\u001b[0m                                Traceback (most recent call last)",
      "Input \u001b[1;32mIn [281]\u001b[0m, in \u001b[0;36m<cell line: 1>\u001b[1;34m()\u001b[0m\n\u001b[1;32m----> 1\u001b[0m \u001b[38;5;28;01mfor\u001b[39;00m a,b \u001b[38;5;129;01min\u001b[39;00m d:\n\u001b[0;32m      2\u001b[0m     \u001b[38;5;28mprint\u001b[39m(a)\n",
      "\u001b[1;31mValueError\u001b[0m: too many values to unpack (expected 2)"
     ]
    }
   ],
   "source": [
    "#for \n",
    "for a,b in d:\n",
    "    print(a)"
   ]
  },
  {
   "cell_type": "code",
   "execution_count": 282,
   "id": "4af3837c",
   "metadata": {},
   "outputs": [
    {
     "ename": "ValueError",
     "evalue": "too many values to unpack (expected 2)",
     "output_type": "error",
     "traceback": [
      "\u001b[1;31m---------------------------------------------------------------------------\u001b[0m",
      "\u001b[1;31mValueError\u001b[0m                                Traceback (most recent call last)",
      "Input \u001b[1;32mIn [282]\u001b[0m, in \u001b[0;36m<cell line: 1>\u001b[1;34m()\u001b[0m\n\u001b[1;32m----> 1\u001b[0m \u001b[38;5;28;01mfor\u001b[39;00m a,b \u001b[38;5;129;01min\u001b[39;00m d:\n\u001b[0;32m      2\u001b[0m     \u001b[38;5;28mprint\u001b[39m(b)\n",
      "\u001b[1;31mValueError\u001b[0m: too many values to unpack (expected 2)"
     ]
    }
   ],
   "source": [
    "for a,b in d:\n",
    "    print(b)"
   ]
  },
  {
   "cell_type": "code",
   "execution_count": 285,
   "id": "ac3fcd6b",
   "metadata": {},
   "outputs": [
    {
     "name": "stdout",
     "output_type": "stream",
     "text": [
      "('key1', 1)\n",
      "('key2', 2)\n"
     ]
    }
   ],
   "source": [
    "d={'key1':1,'key2':2}\n",
    "for num in d.items():\n",
    "    print(num)"
   ]
  },
  {
   "cell_type": "code",
   "execution_count": 286,
   "id": "3a81df37",
   "metadata": {},
   "outputs": [
    {
     "name": "stdout",
     "output_type": "stream",
     "text": [
      "1\n",
      "2\n"
     ]
    }
   ],
   "source": [
    "d={'key1':1,'key2':2}\n",
    "for num in d.values():\n",
    "    print(num)"
   ]
  },
  {
   "cell_type": "code",
   "execution_count": 1,
   "id": "82e9e169",
   "metadata": {},
   "outputs": [
    {
     "name": "stdout",
     "output_type": "stream",
     "text": [
      "1\n",
      "2\n",
      "3\n",
      "4\n",
      "5\n",
      "6\n"
     ]
    }
   ],
   "source": [
    "my_list=[1,2,3,4,5,6]\n",
    "for num in my_list:\n",
    "    print(num)"
   ]
  },
  {
   "cell_type": "code",
   "execution_count": 11,
   "id": "8c6b7f54",
   "metadata": {},
   "outputs": [
    {
     "name": "stdout",
     "output_type": "stream",
     "text": [
      "the value of x is 0\n",
      "the value of x is 1\n",
      "the value of x is 2\n",
      "the value of x is 3\n",
      "the value of x is 4\n"
     ]
    }
   ],
   "source": [
    "x=0\n",
    "while x<5:\n",
    "    print('the value of x is',x)\n",
    "    x=x+1 # x=x+1 is same as x+=1\n",
    "\n"
   ]
  },
  {
   "cell_type": "code",
   "execution_count": 4,
   "id": "b433eb75",
   "metadata": {},
   "outputs": [
    {
     "name": "stdout",
     "output_type": "stream",
     "text": [
      "x is not less than 5\n"
     ]
    }
   ],
   "source": [
    "x=20\n",
    "while x<5:\n",
    "    print('the value of x is',x)\n",
    "    x=x+1\n",
    "else:\n",
    "    print('x is not less than 5')"
   ]
  },
  {
   "cell_type": "code",
   "execution_count": 9,
   "id": "436e7296",
   "metadata": {},
   "outputs": [
    {
     "ename": "IndentationError",
     "evalue": "expected an indented block (4003341226.py, line 4)",
     "output_type": "error",
     "traceback": [
      "\u001b[1;36m  Input \u001b[1;32mIn [9]\u001b[1;36m\u001b[0m\n\u001b[1;33m    #comment\u001b[0m\n\u001b[1;37m            ^\u001b[0m\n\u001b[1;31mIndentationError\u001b[0m\u001b[1;31m:\u001b[0m expected an indented block\n"
     ]
    }
   ],
   "source": [
    "# pass    pass do nothing and uses as placeholder\n",
    "x=[1,2,3]\n",
    "for i in x:\n",
    "    #comment"
   ]
  },
  {
   "cell_type": "code",
   "execution_count": 8,
   "id": "be58a47e",
   "metadata": {},
   "outputs": [],
   "source": [
    "x=[1,2,3]\n",
    "for i in x:\n",
    "    #comment\n",
    "    pass"
   ]
  },
  {
   "cell_type": "code",
   "execution_count": 10,
   "id": "612e92b4",
   "metadata": {},
   "outputs": [
    {
     "name": "stdout",
     "output_type": "stream",
     "text": [
      "s\n",
      "r\n",
      "e\n",
      "y\n",
      "a\n"
     ]
    }
   ],
   "source": [
    "# continue   it skips the passed condition and execute the remaining code\n",
    "x='sreya'\n",
    "for i in x:\n",
    "    print(i)"
   ]
  },
  {
   "cell_type": "code",
   "execution_count": 17,
   "id": "04382da6",
   "metadata": {},
   "outputs": [
    {
     "data": {
      "text/plain": [
       "'sreya'"
      ]
     },
     "execution_count": 17,
     "metadata": {},
     "output_type": "execute_result"
    }
   ],
   "source": [
    "x"
   ]
  },
  {
   "cell_type": "code",
   "execution_count": 20,
   "id": "e4bd84fa",
   "metadata": {},
   "outputs": [],
   "source": [
    "for i in x:\n",
    "    if i=='r':\n",
    "        continue\n",
    "        print(i)"
   ]
  },
  {
   "cell_type": "code",
   "execution_count": 21,
   "id": "e35a0f41",
   "metadata": {},
   "outputs": [
    {
     "name": "stdout",
     "output_type": "stream",
     "text": [
      "a\n"
     ]
    }
   ],
   "source": [
    "for i in x:\n",
    "    if i=='r':\n",
    "        continue\n",
    "print(i)"
   ]
  },
  {
   "cell_type": "code",
   "execution_count": 22,
   "id": "c32e863e",
   "metadata": {},
   "outputs": [
    {
     "name": "stdout",
     "output_type": "stream",
     "text": [
      "s\n",
      "e\n",
      "y\n",
      "a\n"
     ]
    }
   ],
   "source": [
    "for i in x:\n",
    "    if i=='r':\n",
    "        continue\n",
    "    print(i)"
   ]
  },
  {
   "cell_type": "code",
   "execution_count": 23,
   "id": "2101148d",
   "metadata": {},
   "outputs": [
    {
     "name": "stdout",
     "output_type": "stream",
     "text": [
      "s\n",
      "r\n"
     ]
    }
   ],
   "source": [
    "#break    it stop executing the current code\n",
    "x='sreya'\n",
    "for i in x:\n",
    "    if i=='e':\n",
    "        break\n",
    "    print(i)"
   ]
  },
  {
   "cell_type": "code",
   "execution_count": 24,
   "id": "774383d9",
   "metadata": {},
   "outputs": [
    {
     "name": "stdout",
     "output_type": "stream",
     "text": [
      "0\n",
      "1\n",
      "2\n",
      "3\n",
      "4\n",
      "5\n",
      "6\n",
      "7\n",
      "8\n",
      "9\n"
     ]
    }
   ],
   "source": [
    "#range \n",
    "for i in range(10):\n",
    "    print(i)"
   ]
  },
  {
   "cell_type": "code",
   "execution_count": 26,
   "id": "b3a049a9",
   "metadata": {},
   "outputs": [
    {
     "name": "stdout",
     "output_type": "stream",
     "text": [
      "5\n",
      "6\n",
      "7\n",
      "8\n",
      "9\n"
     ]
    }
   ],
   "source": [
    "for i in range(5,10):\n",
    "    print(i)"
   ]
  },
  {
   "cell_type": "code",
   "execution_count": 27,
   "id": "d7b069ad",
   "metadata": {},
   "outputs": [
    {
     "name": "stdout",
     "output_type": "stream",
     "text": [
      "0\n",
      "2\n",
      "4\n",
      "6\n",
      "8\n"
     ]
    }
   ],
   "source": [
    "for i in range(0,10,2):\n",
    "    print(i)"
   ]
  },
  {
   "cell_type": "code",
   "execution_count": 28,
   "id": "add7e39b",
   "metadata": {},
   "outputs": [
    {
     "name": "stdout",
     "output_type": "stream",
     "text": [
      "0\n",
      "3\n",
      "6\n",
      "9\n"
     ]
    }
   ],
   "source": [
    "for i in range(0,10,3):\n",
    "    print(i)"
   ]
  },
  {
   "cell_type": "code",
   "execution_count": 29,
   "id": "cdd9fbec",
   "metadata": {},
   "outputs": [
    {
     "data": {
      "text/plain": [
       "[0, 3, 6, 9]"
      ]
     },
     "execution_count": 29,
     "metadata": {},
     "output_type": "execute_result"
    }
   ],
   "source": [
    "list(range(0,10,3))"
   ]
  },
  {
   "cell_type": "code",
   "execution_count": 33,
   "id": "9da282eb",
   "metadata": {},
   "outputs": [
    {
     "data": {
      "text/plain": [
       "[0, 10, 20, 30, 40, 50, 60, 70, 80, 90]"
      ]
     },
     "execution_count": 33,
     "metadata": {},
     "output_type": "execute_result"
    }
   ],
   "source": [
    "list(range(0,100,10))"
   ]
  },
  {
   "cell_type": "code",
   "execution_count": 43,
   "id": "0669350a",
   "metadata": {},
   "outputs": [
    {
     "name": "stdout",
     "output_type": "stream",
     "text": [
      "(0, 's')\n",
      "(1, 'r')\n",
      "(2, 'e')\n",
      "(3, 'y')\n",
      "(4, 'a')\n"
     ]
    }
   ],
   "source": [
    "#enumerate    it prints the letter along with the sequence\n",
    "word='sreya'\n",
    "for i in enumerate(word):\n",
    "    print(i)\n"
   ]
  },
  {
   "cell_type": "code",
   "execution_count": 40,
   "id": "7cee2c8d",
   "metadata": {},
   "outputs": [
    {
     "name": "stdout",
     "output_type": "stream",
     "text": [
      "0\n",
      "s\n",
      "\n",
      "1\n",
      "r\n",
      "\n",
      "2\n",
      "e\n",
      "\n",
      "3\n",
      "y\n",
      "\n",
      "4\n",
      "a\n",
      "\n"
     ]
    }
   ],
   "source": [
    "for index,letter in enumerate(word):\n",
    "    print(index)\n",
    "    print(letter)\n",
    "    print('')"
   ]
  },
  {
   "cell_type": "code",
   "execution_count": 41,
   "id": "3d82bfa4",
   "metadata": {},
   "outputs": [
    {
     "ename": "SyntaxError",
     "evalue": "unexpected character after line continuation character (4197044745.py, line 4)",
     "output_type": "error",
     "traceback": [
      "\u001b[1;36m  Input \u001b[1;32mIn [41]\u001b[1;36m\u001b[0m\n\u001b[1;33m    print(\\n)\u001b[0m\n\u001b[1;37m           ^\u001b[0m\n\u001b[1;31mSyntaxError\u001b[0m\u001b[1;31m:\u001b[0m unexpected character after line continuation character\n"
     ]
    }
   ],
   "source": [
    "for index,letter in enumerate(word):\n",
    "    print(index)\n",
    "    print(letter)\n",
    "    print(\\n)"
   ]
  },
  {
   "cell_type": "code",
   "execution_count": 42,
   "id": "9a70ee5f",
   "metadata": {},
   "outputs": [
    {
     "name": "stdout",
     "output_type": "stream",
     "text": [
      "0\n",
      "s\n",
      "\n",
      "\n",
      "1\n",
      "r\n",
      "\n",
      "\n",
      "2\n",
      "e\n",
      "\n",
      "\n",
      "3\n",
      "y\n",
      "\n",
      "\n",
      "4\n",
      "a\n",
      "\n",
      "\n"
     ]
    }
   ],
   "source": [
    "for index,letter in enumerate(word):\n",
    "    print(index)\n",
    "    print(letter)\n",
    "    print('\\n')"
   ]
  },
  {
   "cell_type": "code",
   "execution_count": 45,
   "id": "d4d5fae7",
   "metadata": {},
   "outputs": [
    {
     "name": "stdout",
     "output_type": "stream",
     "text": [
      "<zip object at 0x0000027129CC93C0>\n"
     ]
    }
   ],
   "source": [
    "#zip   it adds the two lists\n",
    "list1=[1,2,3]\n",
    "list2=['a','b','c']\n",
    "print(zip(list1,list2))"
   ]
  },
  {
   "cell_type": "code",
   "execution_count": 46,
   "id": "0282b121",
   "metadata": {},
   "outputs": [
    {
     "name": "stdout",
     "output_type": "stream",
     "text": [
      "(1, 'a')\n",
      "(2, 'b')\n",
      "(3, 'c')\n"
     ]
    }
   ],
   "source": [
    "for i in zip(list1,list2):\n",
    "    print(i)"
   ]
  },
  {
   "cell_type": "code",
   "execution_count": 47,
   "id": "dfebf680",
   "metadata": {},
   "outputs": [
    {
     "data": {
      "text/plain": [
       "[(1, 'a'), (2, 'b'), (3, 'c')]"
      ]
     },
     "execution_count": 47,
     "metadata": {},
     "output_type": "execute_result"
    }
   ],
   "source": [
    "list(zip(list1,list2))"
   ]
  },
  {
   "cell_type": "code",
   "execution_count": 54,
   "id": "b53f9fac",
   "metadata": {},
   "outputs": [],
   "source": [
    "list1=[1,2,3,4,5]\n",
    "list2=['a','b','c']\n",
    "list3=['x','y','z']"
   ]
  },
  {
   "cell_type": "code",
   "execution_count": 55,
   "id": "238fd5fb",
   "metadata": {},
   "outputs": [
    {
     "name": "stdout",
     "output_type": "stream",
     "text": [
      "<zip object at 0x0000027129D589C0>\n"
     ]
    }
   ],
   "source": [
    "print(zip(list1,list2,list3))"
   ]
  },
  {
   "cell_type": "code",
   "execution_count": 56,
   "id": "793eb8a0",
   "metadata": {},
   "outputs": [
    {
     "name": "stdout",
     "output_type": "stream",
     "text": [
      "(1, 'a', 'x')\n",
      "(2, 'b', 'y')\n",
      "(3, 'c', 'z')\n"
     ]
    }
   ],
   "source": [
    "for i in (zip(list1,list2,list3)):\n",
    "    print(i)"
   ]
  },
  {
   "cell_type": "code",
   "execution_count": 58,
   "id": "0f666cd0",
   "metadata": {},
   "outputs": [
    {
     "data": {
      "text/plain": [
       "True"
      ]
     },
     "execution_count": 58,
     "metadata": {},
     "output_type": "execute_result"
    }
   ],
   "source": [
    "#in \n",
    "word='sreya'\n",
    "'a' in word"
   ]
  },
  {
   "cell_type": "code",
   "execution_count": 59,
   "id": "7e6e5517",
   "metadata": {},
   "outputs": [
    {
     "data": {
      "text/plain": [
       "False"
      ]
     },
     "execution_count": 59,
     "metadata": {},
     "output_type": "execute_result"
    }
   ],
   "source": [
    "'z' in word"
   ]
  },
  {
   "cell_type": "code",
   "execution_count": 60,
   "id": "8b892234",
   "metadata": {},
   "outputs": [
    {
     "data": {
      "text/plain": [
       "True"
      ]
     },
     "execution_count": 60,
     "metadata": {},
     "output_type": "execute_result"
    }
   ],
   "source": [
    "l=[1,2,3]\n",
    "1 in l"
   ]
  },
  {
   "cell_type": "code",
   "execution_count": 61,
   "id": "3cbb1bf9",
   "metadata": {},
   "outputs": [
    {
     "data": {
      "text/plain": [
       "False"
      ]
     },
     "execution_count": 61,
     "metadata": {},
     "output_type": "execute_result"
    }
   ],
   "source": [
    "5 in l"
   ]
  },
  {
   "cell_type": "code",
   "execution_count": 62,
   "id": "ae90c4bd",
   "metadata": {},
   "outputs": [
    {
     "data": {
      "text/plain": [
       "True"
      ]
     },
     "execution_count": 62,
     "metadata": {},
     "output_type": "execute_result"
    }
   ],
   "source": [
    "d={'key':'value'}\n",
    "'key' in d"
   ]
  },
  {
   "cell_type": "code",
   "execution_count": 63,
   "id": "e5e46e50",
   "metadata": {},
   "outputs": [
    {
     "data": {
      "text/plain": [
       "False"
      ]
     },
     "execution_count": 63,
     "metadata": {},
     "output_type": "execute_result"
    }
   ],
   "source": [
    "'key1' in d"
   ]
  },
  {
   "cell_type": "code",
   "execution_count": 64,
   "id": "51350c01",
   "metadata": {},
   "outputs": [
    {
     "data": {
      "text/plain": [
       "False"
      ]
     },
     "execution_count": 64,
     "metadata": {},
     "output_type": "execute_result"
    }
   ],
   "source": [
    "'value2' in d.values()"
   ]
  },
  {
   "cell_type": "code",
   "execution_count": 65,
   "id": "ac35df97",
   "metadata": {},
   "outputs": [
    {
     "data": {
      "text/plain": [
       "False"
      ]
     },
     "execution_count": 65,
     "metadata": {},
     "output_type": "execute_result"
    }
   ],
   "source": [
    "'key1'in d.keys()"
   ]
  },
  {
   "cell_type": "code",
   "execution_count": 66,
   "id": "08c4e585",
   "metadata": {},
   "outputs": [],
   "source": [
    "#min and max  it shows minimum and maximum values \n",
    "list=[1,2,3,4,5]"
   ]
  },
  {
   "cell_type": "code",
   "execution_count": 67,
   "id": "d877bb9d",
   "metadata": {},
   "outputs": [
    {
     "data": {
      "text/plain": [
       "1"
      ]
     },
     "execution_count": 67,
     "metadata": {},
     "output_type": "execute_result"
    }
   ],
   "source": [
    "min(list)"
   ]
  },
  {
   "cell_type": "code",
   "execution_count": 77,
   "id": "fa4fb97a",
   "metadata": {},
   "outputs": [
    {
     "data": {
      "text/plain": [
       "5"
      ]
     },
     "execution_count": 77,
     "metadata": {},
     "output_type": "execute_result"
    }
   ],
   "source": [
    "max(list)"
   ]
  },
  {
   "cell_type": "code",
   "execution_count": 2,
   "id": "46629be6",
   "metadata": {},
   "outputs": [],
   "source": [
    "from random import shuffle"
   ]
  },
  {
   "cell_type": "code",
   "execution_count": 3,
   "id": "45adffa6",
   "metadata": {},
   "outputs": [],
   "source": [
    "mylist=[1,2,3,4,5,6,7,8,9]"
   ]
  },
  {
   "cell_type": "code",
   "execution_count": 7,
   "id": "617d21fa",
   "metadata": {},
   "outputs": [],
   "source": [
    "shuffle(mylist)"
   ]
  },
  {
   "cell_type": "code",
   "execution_count": 8,
   "id": "7a64ad1e",
   "metadata": {},
   "outputs": [
    {
     "data": {
      "text/plain": [
       "[6, 9, 4, 3, 2, 5, 8, 7, 1]"
      ]
     },
     "execution_count": 8,
     "metadata": {},
     "output_type": "execute_result"
    }
   ],
   "source": [
    "mylist"
   ]
  },
  {
   "cell_type": "code",
   "execution_count": 10,
   "id": "2a91d590",
   "metadata": {},
   "outputs": [
    {
     "data": {
      "text/plain": [
       "19"
      ]
     },
     "execution_count": 10,
     "metadata": {},
     "output_type": "execute_result"
    }
   ],
   "source": [
    "from random import randint\n",
    "randint(0,100)"
   ]
  },
  {
   "cell_type": "code",
   "execution_count": 11,
   "id": "1db2917d",
   "metadata": {},
   "outputs": [
    {
     "data": {
      "text/plain": [
       "16"
      ]
     },
     "execution_count": 11,
     "metadata": {},
     "output_type": "execute_result"
    }
   ],
   "source": [
    "randint(10,20)"
   ]
  },
  {
   "cell_type": "code",
   "execution_count": 13,
   "id": "c80398f5",
   "metadata": {},
   "outputs": [
    {
     "name": "stdout",
     "output_type": "stream",
     "text": [
      "enter your name :sreya\n"
     ]
    }
   ],
   "source": [
    "result=input(\"enter your name :\")"
   ]
  },
  {
   "cell_type": "code",
   "execution_count": 14,
   "id": "8c58fe68",
   "metadata": {},
   "outputs": [
    {
     "data": {
      "text/plain": [
       "'sreya'"
      ]
     },
     "execution_count": 14,
     "metadata": {},
     "output_type": "execute_result"
    }
   ],
   "source": [
    "result"
   ]
  },
  {
   "cell_type": "code",
   "execution_count": 15,
   "id": "4cf7718e",
   "metadata": {},
   "outputs": [
    {
     "name": "stdout",
     "output_type": "stream",
     "text": [
      "enter a number2\n"
     ]
    }
   ],
   "source": [
    "r=input(\"enter a number\")"
   ]
  },
  {
   "cell_type": "code",
   "execution_count": 16,
   "id": "b0460664",
   "metadata": {},
   "outputs": [
    {
     "data": {
      "text/plain": [
       "'2'"
      ]
     },
     "execution_count": 16,
     "metadata": {},
     "output_type": "execute_result"
    }
   ],
   "source": [
    "r"
   ]
  },
  {
   "cell_type": "code",
   "execution_count": 17,
   "id": "3b31b5f5",
   "metadata": {},
   "outputs": [
    {
     "name": "stdout",
     "output_type": "stream",
     "text": [
      "enter a namer\n"
     ]
    },
    {
     "ename": "ValueError",
     "evalue": "invalid literal for int() with base 10: 'r'",
     "output_type": "error",
     "traceback": [
      "\u001b[1;31m---------------------------------------------------------------------------\u001b[0m",
      "\u001b[1;31mValueError\u001b[0m                                Traceback (most recent call last)",
      "Input \u001b[1;32mIn [17]\u001b[0m, in \u001b[0;36m<cell line: 1>\u001b[1;34m()\u001b[0m\n\u001b[1;32m----> 1\u001b[0m r\u001b[38;5;241m=\u001b[39m\u001b[38;5;28;43mint\u001b[39;49m\u001b[43m(\u001b[49m\u001b[38;5;28;43minput\u001b[39;49m\u001b[43m(\u001b[49m\u001b[38;5;124;43m'\u001b[39;49m\u001b[38;5;124;43menter a name\u001b[39;49m\u001b[38;5;124;43m'\u001b[39;49m\u001b[43m)\u001b[49m\u001b[43m)\u001b[49m\n",
      "\u001b[1;31mValueError\u001b[0m: invalid literal for int() with base 10: 'r'"
     ]
    }
   ],
   "source": [
    "r=int(input('enter a name'))"
   ]
  },
  {
   "cell_type": "code",
   "execution_count": 19,
   "id": "7238e81b",
   "metadata": {},
   "outputs": [
    {
     "name": "stdout",
     "output_type": "stream",
     "text": [
      "enter a number  : 2\n"
     ]
    }
   ],
   "source": [
    "r=int(input('enter a number  : '))"
   ]
  },
  {
   "cell_type": "code",
   "execution_count": 20,
   "id": "d61bd9ef",
   "metadata": {},
   "outputs": [
    {
     "data": {
      "text/plain": [
       "2"
      ]
     },
     "execution_count": 20,
     "metadata": {},
     "output_type": "execute_result"
    }
   ],
   "source": [
    "r"
   ]
  },
  {
   "cell_type": "code",
   "execution_count": 31,
   "id": "101d5d5c",
   "metadata": {},
   "outputs": [],
   "source": [
    "#list comprehensions\n",
    "mystring='sreya'"
   ]
  },
  {
   "cell_type": "code",
   "execution_count": 32,
   "id": "6a7e223f",
   "metadata": {},
   "outputs": [
    {
     "data": {
      "text/plain": [
       "['s', 'r', 'e', 'y', 'a']"
      ]
     },
     "execution_count": 32,
     "metadata": {},
     "output_type": "execute_result"
    }
   ],
   "source": [
    "mylist=[]\n",
    "for letter in mystring:\n",
    "    mylist.append(letter)\n",
    "mylist"
   ]
  },
  {
   "cell_type": "code",
   "execution_count": 25,
   "id": "ba2b0af3",
   "metadata": {},
   "outputs": [],
   "source": [
    "mylist=[x for x in 'sreya']"
   ]
  },
  {
   "cell_type": "code",
   "execution_count": 26,
   "id": "a55b1bf1",
   "metadata": {},
   "outputs": [
    {
     "data": {
      "text/plain": [
       "['s', 'r', 'e', 'y', 'a']"
      ]
     },
     "execution_count": 26,
     "metadata": {},
     "output_type": "execute_result"
    }
   ],
   "source": [
    "mylist"
   ]
  },
  {
   "cell_type": "code",
   "execution_count": 27,
   "id": "25772866",
   "metadata": {},
   "outputs": [],
   "source": [
    "mylist=[x for x in range(1,10)]"
   ]
  },
  {
   "cell_type": "code",
   "execution_count": 28,
   "id": "a04dbca2",
   "metadata": {},
   "outputs": [
    {
     "data": {
      "text/plain": [
       "[1, 2, 3, 4, 5, 6, 7, 8, 9]"
      ]
     },
     "execution_count": 28,
     "metadata": {},
     "output_type": "execute_result"
    }
   ],
   "source": [
    "mylist"
   ]
  },
  {
   "cell_type": "code",
   "execution_count": 29,
   "id": "85715a15",
   "metadata": {},
   "outputs": [],
   "source": [
    "mylist=[x**2 for x in range(1,10)]"
   ]
  },
  {
   "cell_type": "code",
   "execution_count": 30,
   "id": "ba83e509",
   "metadata": {},
   "outputs": [
    {
     "data": {
      "text/plain": [
       "[1, 4, 9, 16, 25, 36, 49, 64, 81]"
      ]
     },
     "execution_count": 30,
     "metadata": {},
     "output_type": "execute_result"
    }
   ],
   "source": [
    "mylist"
   ]
  },
  {
   "cell_type": "code",
   "execution_count": 33,
   "id": "b886ca1f",
   "metadata": {},
   "outputs": [],
   "source": [
    "mylist=[x for x in range(1,10) if x%2==0]"
   ]
  },
  {
   "cell_type": "code",
   "execution_count": 34,
   "id": "fa4ed500",
   "metadata": {},
   "outputs": [
    {
     "data": {
      "text/plain": [
       "[2, 4, 6, 8]"
      ]
     },
     "execution_count": 34,
     "metadata": {},
     "output_type": "execute_result"
    }
   ],
   "source": [
    "mylist"
   ]
  },
  {
   "cell_type": "code",
   "execution_count": 35,
   "id": "0db50e39",
   "metadata": {},
   "outputs": [],
   "source": [
    "mylist=[x**2 for x in range(1,10) if x%2==0]"
   ]
  },
  {
   "cell_type": "code",
   "execution_count": 36,
   "id": "e45880ed",
   "metadata": {},
   "outputs": [
    {
     "data": {
      "text/plain": [
       "[4, 16, 36, 64]"
      ]
     },
     "execution_count": 36,
     "metadata": {},
     "output_type": "execute_result"
    }
   ],
   "source": [
    "mylist"
   ]
  },
  {
   "cell_type": "code",
   "execution_count": 37,
   "id": "f9752b44",
   "metadata": {},
   "outputs": [],
   "source": [
    "celsius=[0,10,20,30]"
   ]
  },
  {
   "cell_type": "code",
   "execution_count": 40,
   "id": "5b32a6da",
   "metadata": {},
   "outputs": [],
   "source": [
    "fahrenheit=[(9/5)*temp+32 for temp in celsius]"
   ]
  },
  {
   "cell_type": "code",
   "execution_count": 41,
   "id": "ad82c45b",
   "metadata": {},
   "outputs": [
    {
     "data": {
      "text/plain": [
       "[32.0, 50.0, 68.0, 86.0]"
      ]
     },
     "execution_count": 41,
     "metadata": {},
     "output_type": "execute_result"
    }
   ],
   "source": [
    "fahrenheit"
   ]
  },
  {
   "cell_type": "code",
   "execution_count": 42,
   "id": "75869720",
   "metadata": {},
   "outputs": [],
   "source": [
    "fahrenheit=[]"
   ]
  },
  {
   "cell_type": "code",
   "execution_count": 44,
   "id": "628b3a30",
   "metadata": {},
   "outputs": [],
   "source": [
    "for temp in celsius:\n",
    "    fahrenheit.append((9/5)*temp+32)"
   ]
  },
  {
   "cell_type": "code",
   "execution_count": 45,
   "id": "70229859",
   "metadata": {},
   "outputs": [
    {
     "data": {
      "text/plain": [
       "[32.0, 50.0, 68.0, 86.0]"
      ]
     },
     "execution_count": 45,
     "metadata": {},
     "output_type": "execute_result"
    }
   ],
   "source": [
    "fahrenheit"
   ]
  },
  {
   "cell_type": "code",
   "execution_count": 46,
   "id": "6208bb91",
   "metadata": {},
   "outputs": [],
   "source": [
    "#difficult\n",
    "results=[x if x%2==0 else 'ODD' for x in range(1,10)]"
   ]
  },
  {
   "cell_type": "code",
   "execution_count": 47,
   "id": "3a75dd4b",
   "metadata": {},
   "outputs": [
    {
     "data": {
      "text/plain": [
       "['ODD', 2, 'ODD', 4, 'ODD', 6, 'ODD', 8, 'ODD']"
      ]
     },
     "execution_count": 47,
     "metadata": {},
     "output_type": "execute_result"
    }
   ],
   "source": [
    "results"
   ]
  },
  {
   "cell_type": "code",
   "execution_count": 48,
   "id": "284c1e9a",
   "metadata": {},
   "outputs": [],
   "source": [
    "mylist=[]"
   ]
  },
  {
   "cell_type": "code",
   "execution_count": 49,
   "id": "6422b182",
   "metadata": {},
   "outputs": [],
   "source": [
    "for x in [1,2,3]:\n",
    "    for y in [10,100,1000]:\n",
    "        mylist.append(x*y)"
   ]
  },
  {
   "cell_type": "code",
   "execution_count": 50,
   "id": "dd52db32",
   "metadata": {},
   "outputs": [
    {
     "data": {
      "text/plain": [
       "[10, 100, 1000, 20, 200, 2000, 30, 300, 3000]"
      ]
     },
     "execution_count": 50,
     "metadata": {},
     "output_type": "execute_result"
    }
   ],
   "source": [
    "mylist"
   ]
  },
  {
   "cell_type": "code",
   "execution_count": 51,
   "id": "1bec4997",
   "metadata": {},
   "outputs": [],
   "source": [
    "mylist=[x*y for x in [1,2,3] for y in [10,100,1000]]"
   ]
  },
  {
   "cell_type": "code",
   "execution_count": 52,
   "id": "f42221a5",
   "metadata": {},
   "outputs": [
    {
     "data": {
      "text/plain": [
       "[10, 100, 1000, 20, 200, 2000, 30, 300, 3000]"
      ]
     },
     "execution_count": 52,
     "metadata": {},
     "output_type": "execute_result"
    }
   ],
   "source": [
    "mylist"
   ]
  },
  {
   "cell_type": "code",
   "execution_count": 6,
   "id": "83a3fc10",
   "metadata": {},
   "outputs": [
    {
     "data": {
      "text/plain": [
       "['sreya', 'is', 'intelligent', 'girl']"
      ]
     },
     "execution_count": 6,
     "metadata": {},
     "output_type": "execute_result"
    }
   ],
   "source": [
    "string='sreya is intelligent girl'\n",
    "string.split(' ')"
   ]
  },
  {
   "cell_type": "code",
   "execution_count": 3,
   "id": "8aeff5bb",
   "metadata": {},
   "outputs": [
    {
     "name": "stdout",
     "output_type": "stream",
     "text": [
      "hi\n"
     ]
    }
   ],
   "source": [
    "#functions\n",
    "def say_hello():\n",
    "    print('hi')\n",
    "say_hello()"
   ]
  },
  {
   "cell_type": "code",
   "execution_count": 4,
   "id": "58d4e32b",
   "metadata": {},
   "outputs": [
    {
     "name": "stdout",
     "output_type": "stream",
     "text": [
      "hi\n",
      "how are you\n"
     ]
    }
   ],
   "source": [
    "def say_hi():\n",
    "    print('hi')\n",
    "    print('how are you')\n",
    "say_hi()"
   ]
  },
  {
   "cell_type": "code",
   "execution_count": 5,
   "id": "532912f5",
   "metadata": {},
   "outputs": [
    {
     "name": "stdout",
     "output_type": "stream",
     "text": [
      "hi\n",
      "how are you\n"
     ]
    }
   ],
   "source": [
    "say_hi()"
   ]
  },
  {
   "cell_type": "code",
   "execution_count": 6,
   "id": "82d87e1f",
   "metadata": {},
   "outputs": [
    {
     "data": {
      "text/plain": [
       "<function __main__.say_hi()>"
      ]
     },
     "execution_count": 6,
     "metadata": {},
     "output_type": "execute_result"
    }
   ],
   "source": [
    "say_hi"
   ]
  },
  {
   "cell_type": "code",
   "execution_count": 8,
   "id": "80c2de05",
   "metadata": {},
   "outputs": [
    {
     "ename": "TypeError",
     "evalue": "func() missing 1 required positional argument: 'name'",
     "output_type": "error",
     "traceback": [
      "\u001b[1;31m---------------------------------------------------------------------------\u001b[0m",
      "\u001b[1;31mTypeError\u001b[0m                                 Traceback (most recent call last)",
      "Input \u001b[1;32mIn [8]\u001b[0m, in \u001b[0;36m<cell line: 3>\u001b[1;34m()\u001b[0m\n\u001b[0;32m      1\u001b[0m \u001b[38;5;28;01mdef\u001b[39;00m \u001b[38;5;21mfunc\u001b[39m(name):\n\u001b[0;32m      2\u001b[0m     \u001b[38;5;28mprint\u001b[39m(\u001b[38;5;124m'\u001b[39m\u001b[38;5;124mhello\u001b[39m\u001b[38;5;124m'\u001b[39m\u001b[38;5;241m+\u001b[39mname)\n\u001b[1;32m----> 3\u001b[0m \u001b[43mfunc\u001b[49m\u001b[43m(\u001b[49m\u001b[43m)\u001b[49m\n",
      "\u001b[1;31mTypeError\u001b[0m: func() missing 1 required positional argument: 'name'"
     ]
    }
   ],
   "source": [
    "def func(name):\n",
    "    print('hello'+name)\n",
    "func()"
   ]
  },
  {
   "cell_type": "code",
   "execution_count": 14,
   "id": "2cb75dd8",
   "metadata": {},
   "outputs": [
    {
     "name": "stdout",
     "output_type": "stream",
     "text": [
      "hello sreya\n"
     ]
    }
   ],
   "source": [
    "def func(name):\n",
    "    print('hello'+' '+ name)\n",
    "func('sreya')"
   ]
  },
  {
   "cell_type": "code",
   "execution_count": 15,
   "id": "5eff8b5b",
   "metadata": {},
   "outputs": [
    {
     "ename": "TypeError",
     "evalue": "func() missing 1 required positional argument: 'name'",
     "output_type": "error",
     "traceback": [
      "\u001b[1;31m---------------------------------------------------------------------------\u001b[0m",
      "\u001b[1;31mTypeError\u001b[0m                                 Traceback (most recent call last)",
      "Input \u001b[1;32mIn [15]\u001b[0m, in \u001b[0;36m<cell line: 3>\u001b[1;34m()\u001b[0m\n\u001b[0;32m      1\u001b[0m \u001b[38;5;28;01mdef\u001b[39;00m \u001b[38;5;21mfunc\u001b[39m(name):\n\u001b[0;32m      2\u001b[0m     \u001b[38;5;28mprint\u001b[39m(\u001b[38;5;124m'\u001b[39m\u001b[38;5;124mhello\u001b[39m\u001b[38;5;124m'\u001b[39m\u001b[38;5;241m+\u001b[39m\u001b[38;5;124m\"\u001b[39m\u001b[38;5;124m \u001b[39m\u001b[38;5;124m\"\u001b[39m\u001b[38;5;241m+\u001b[39mname)\n\u001b[1;32m----> 3\u001b[0m \u001b[43mfunc\u001b[49m\u001b[43m(\u001b[49m\u001b[43m)\u001b[49m\n",
      "\u001b[1;31mTypeError\u001b[0m: func() missing 1 required positional argument: 'name'"
     ]
    }
   ],
   "source": [
    "def func(name):\n",
    "    print('hello'+\" \"+name)\n",
    "func()"
   ]
  },
  {
   "cell_type": "code",
   "execution_count": 19,
   "id": "464a5df9",
   "metadata": {},
   "outputs": [
    {
     "name": "stdout",
     "output_type": "stream",
     "text": [
      "hello default\n"
     ]
    }
   ],
   "source": [
    "def func(name='default'):\n",
    "    print('hello'+ \" \"+name)\n",
    "func()"
   ]
  },
  {
   "cell_type": "code",
   "execution_count": 23,
   "id": "956b26a4",
   "metadata": {},
   "outputs": [
    {
     "data": {
      "text/plain": [
       "3"
      ]
     },
     "execution_count": 23,
     "metadata": {},
     "output_type": "execute_result"
    }
   ],
   "source": [
    "def add(num1,num2):\n",
    "    return(num1+num2)\n",
    "add(1,2)"
   ]
  },
  {
   "cell_type": "code",
   "execution_count": 24,
   "id": "310bae57",
   "metadata": {},
   "outputs": [
    {
     "data": {
      "text/plain": [
       "3"
      ]
     },
     "execution_count": 24,
     "metadata": {},
     "output_type": "execute_result"
    }
   ],
   "source": [
    "def add(a,b):\n",
    "    return(a+b)\n",
    "add(1,2)"
   ]
  },
  {
   "cell_type": "code",
   "execution_count": 26,
   "id": "2c805ea0",
   "metadata": {},
   "outputs": [
    {
     "ename": "SyntaxError",
     "evalue": "invalid syntax (2854493524.py, line 1)",
     "output_type": "error",
     "traceback": [
      "\u001b[1;36m  Input \u001b[1;32mIn [26]\u001b[1;36m\u001b[0m\n\u001b[1;33m    def add('a','b'):\u001b[0m\n\u001b[1;37m            ^\u001b[0m\n\u001b[1;31mSyntaxError\u001b[0m\u001b[1;31m:\u001b[0m invalid syntax\n"
     ]
    }
   ],
   "source": [
    "def add('a','b'):\n",
    "    return(a+b)\n",
    "add(1,2)\n",
    "    "
   ]
  },
  {
   "cell_type": "code",
   "execution_count": 27,
   "id": "4cc80f54",
   "metadata": {},
   "outputs": [
    {
     "data": {
      "text/plain": [
       "'12'"
      ]
     },
     "execution_count": 27,
     "metadata": {},
     "output_type": "execute_result"
    }
   ],
   "source": [
    "def add(a,b):\n",
    "    return(a+b)\n",
    "add('1','2')"
   ]
  },
  {
   "cell_type": "code",
   "execution_count": 29,
   "id": "fa128cdc",
   "metadata": {},
   "outputs": [
    {
     "data": {
      "text/plain": [
       "True"
      ]
     },
     "execution_count": 29,
     "metadata": {},
     "output_type": "execute_result"
    }
   ],
   "source": [
    "def even_check(num):\n",
    "    return num%2==0\n",
    "even_check(10)"
   ]
  },
  {
   "cell_type": "code",
   "execution_count": 30,
   "id": "c7e04fc2",
   "metadata": {},
   "outputs": [
    {
     "data": {
      "text/plain": [
       "False"
      ]
     },
     "execution_count": 30,
     "metadata": {},
     "output_type": "execute_result"
    }
   ],
   "source": [
    "even_check(15)"
   ]
  },
  {
   "cell_type": "code",
   "execution_count": 31,
   "id": "4c19146a",
   "metadata": {},
   "outputs": [
    {
     "data": {
      "text/plain": [
       "False"
      ]
     },
     "execution_count": 31,
     "metadata": {},
     "output_type": "execute_result"
    }
   ],
   "source": [
    "def even_check(num):\n",
    "    return num%2==0\n",
    "even_check(1)"
   ]
  },
  {
   "cell_type": "code",
   "execution_count": 34,
   "id": "1508a167",
   "metadata": {},
   "outputs": [
    {
     "data": {
      "text/plain": [
       "True"
      ]
     },
     "execution_count": 34,
     "metadata": {},
     "output_type": "execute_result"
    }
   ],
   "source": [
    "# checking the entire list and returning true if there is any even no return true if not do nothing\n",
    "\n",
    "def even_check(listt):\n",
    "    for num in listt:\n",
    "        if num%2==0:\n",
    "            return True\n",
    "        else:\n",
    "            pass\n",
    "even_check([1,2,3])"
   ]
  },
  {
   "cell_type": "code",
   "execution_count": 36,
   "id": "333d3a75",
   "metadata": {},
   "outputs": [],
   "source": [
    "even_check([1,3,5])"
   ]
  },
  {
   "cell_type": "code",
   "execution_count": 37,
   "id": "7b962fcf",
   "metadata": {},
   "outputs": [
    {
     "data": {
      "text/plain": [
       "True"
      ]
     },
     "execution_count": 37,
     "metadata": {},
     "output_type": "execute_result"
    }
   ],
   "source": [
    "even_check([2,6,8])"
   ]
  },
  {
   "cell_type": "code",
   "execution_count": 38,
   "id": "12328332",
   "metadata": {},
   "outputs": [
    {
     "data": {
      "text/plain": [
       "False"
      ]
     },
     "execution_count": 38,
     "metadata": {},
     "output_type": "execute_result"
    }
   ],
   "source": [
    "def even_check(listt):\n",
    "    for num in listt:\n",
    "        if num%2==0:\n",
    "            return True\n",
    "        else:\n",
    "            return False # it checks only first number and returns the result\n",
    "even_check([1,2,3])"
   ]
  },
  {
   "cell_type": "code",
   "execution_count": 39,
   "id": "fc437ec4",
   "metadata": {},
   "outputs": [
    {
     "data": {
      "text/plain": [
       "True"
      ]
     },
     "execution_count": 39,
     "metadata": {},
     "output_type": "execute_result"
    }
   ],
   "source": [
    "even_check([2,6,8])"
   ]
  },
  {
   "cell_type": "code",
   "execution_count": 40,
   "id": "a52499b2",
   "metadata": {},
   "outputs": [
    {
     "data": {
      "text/plain": [
       "False"
      ]
     },
     "execution_count": 40,
     "metadata": {},
     "output_type": "execute_result"
    }
   ],
   "source": [
    "even_check([1,2])"
   ]
  },
  {
   "cell_type": "code",
   "execution_count": 42,
   "id": "831fc0fa",
   "metadata": {},
   "outputs": [
    {
     "data": {
      "text/plain": [
       "True"
      ]
     },
     "execution_count": 42,
     "metadata": {},
     "output_type": "execute_result"
    }
   ],
   "source": [
    "def even_check(listt):\n",
    "    for num in listt:\n",
    "        if num%2==0:\n",
    "            return True\n",
    "        else:\n",
    "            pass\n",
    "    return False\n",
    "even_check([1,2,3])"
   ]
  },
  {
   "cell_type": "code",
   "execution_count": 43,
   "id": "05290b66",
   "metadata": {},
   "outputs": [
    {
     "data": {
      "text/plain": [
       "False"
      ]
     },
     "execution_count": 43,
     "metadata": {},
     "output_type": "execute_result"
    }
   ],
   "source": [
    "even_check([1,3,5])"
   ]
  },
  {
   "cell_type": "code",
   "execution_count": 44,
   "id": "54f79a27",
   "metadata": {},
   "outputs": [
    {
     "data": {
      "text/plain": [
       "True"
      ]
     },
     "execution_count": 44,
     "metadata": {},
     "output_type": "execute_result"
    }
   ],
   "source": [
    "even_check([2,6,8])"
   ]
  },
  {
   "cell_type": "code",
   "execution_count": 45,
   "id": "a9ac4c9e",
   "metadata": {},
   "outputs": [
    {
     "data": {
      "text/plain": [
       "True"
      ]
     },
     "execution_count": 45,
     "metadata": {},
     "output_type": "execute_result"
    }
   ],
   "source": [
    "even_check([2,3,4])"
   ]
  },
  {
   "cell_type": "code",
   "execution_count": 48,
   "id": "dedba6c7",
   "metadata": {},
   "outputs": [],
   "source": [
    "#checking through the entire list and returning the even numbers if there are any\n",
    "def even(listt):\n",
    "    even_numbers=[]\n",
    "    for num in listt:\n",
    "        if num%2==0:\n",
    "            even_numbers.append(num)\n",
    "        else:\n",
    "            pass\n",
    "    return even_numbers"
   ]
  },
  {
   "cell_type": "code",
   "execution_count": 49,
   "id": "f02250f6",
   "metadata": {},
   "outputs": [
    {
     "data": {
      "text/plain": [
       "[2]"
      ]
     },
     "execution_count": 49,
     "metadata": {},
     "output_type": "execute_result"
    }
   ],
   "source": [
    "even([1,2,3])"
   ]
  },
  {
   "cell_type": "code",
   "execution_count": 50,
   "id": "22489ea7",
   "metadata": {},
   "outputs": [
    {
     "data": {
      "text/plain": [
       "[]"
      ]
     },
     "execution_count": 50,
     "metadata": {},
     "output_type": "execute_result"
    }
   ],
   "source": [
    "even([1,3,5])"
   ]
  },
  {
   "cell_type": "code",
   "execution_count": 51,
   "id": "3e4f3567",
   "metadata": {},
   "outputs": [
    {
     "data": {
      "text/plain": [
       "[2, 4, 6]"
      ]
     },
     "execution_count": 51,
     "metadata": {},
     "output_type": "execute_result"
    }
   ],
   "source": [
    "even([2,4,6])"
   ]
  },
  {
   "cell_type": "code",
   "execution_count": 77,
   "id": "37f910d3",
   "metadata": {},
   "outputs": [],
   "source": [
    "#returning the employee of the month in a tuple\n",
    "work_hours=[('sreya',100),('raga',200),('choppa',300)]"
   ]
  },
  {
   "cell_type": "code",
   "execution_count": 78,
   "id": "320591ae",
   "metadata": {},
   "outputs": [],
   "source": [
    "def employee(work_hours):\n",
    "    current_max=0\n",
    "    employee_of_the_month=''\n",
    "    for employee,hours in work_hours:\n",
    "        if hours>current_max:\n",
    "            current_max=hours\n",
    "            employee_of_the_month=employee\n",
    "        else:\n",
    "            pass\n",
    "    return (employee_of_the_month,current_max)"
   ]
  },
  {
   "cell_type": "code",
   "execution_count": 80,
   "id": "4560bf2e",
   "metadata": {},
   "outputs": [
    {
     "data": {
      "text/plain": [
       "('choppa', 300)"
      ]
     },
     "execution_count": 80,
     "metadata": {},
     "output_type": "execute_result"
    }
   ],
   "source": [
    "employee(employee_details)"
   ]
  },
  {
   "cell_type": "code",
   "execution_count": 81,
   "id": "4c46ec23",
   "metadata": {},
   "outputs": [],
   "source": [
    "work_hours=[('sreya',300),('raga',500),('choppa',200)]"
   ]
  },
  {
   "cell_type": "code",
   "execution_count": 82,
   "id": "ccb41c9d",
   "metadata": {},
   "outputs": [
    {
     "data": {
      "text/plain": [
       "[('sreya', 300), ('raga', 500), ('choppa', 200)]"
      ]
     },
     "execution_count": 82,
     "metadata": {},
     "output_type": "execute_result"
    }
   ],
   "source": [
    "work_hours"
   ]
  },
  {
   "cell_type": "code",
   "execution_count": 86,
   "id": "5bbbd0e1",
   "metadata": {},
   "outputs": [],
   "source": [
    "def employee_check(work_hours):\n",
    "    current_max=0\n",
    "    employee_of_the_month=''\n",
    "    for employee,hours in work_hours:\n",
    "        if current_max>hours:\n",
    "            current_max=hours\n",
    "            employee_of_the_month=employee\n",
    "        else:\n",
    "            pass\n",
    "    return(employee_of_the_month,current_max)\n",
    "        \n",
    "        "
   ]
  },
  {
   "cell_type": "code",
   "execution_count": 96,
   "id": "a4e9637b",
   "metadata": {},
   "outputs": [
    {
     "data": {
      "text/plain": [
       "('', 0)"
      ]
     },
     "execution_count": 96,
     "metadata": {},
     "output_type": "execute_result"
    }
   ],
   "source": [
    "employee_check(work_hours)"
   ]
  },
  {
   "cell_type": "code",
   "execution_count": 107,
   "id": "dc271df1",
   "metadata": {},
   "outputs": [],
   "source": [
    "l=[1,27,3,4,5]"
   ]
  },
  {
   "cell_type": "code",
   "execution_count": 108,
   "id": "67029a6c",
   "metadata": {},
   "outputs": [
    {
     "data": {
      "text/plain": [
       "[1, 27, 3, 4, 5]"
      ]
     },
     "execution_count": 108,
     "metadata": {},
     "output_type": "execute_result"
    }
   ],
   "source": [
    "l"
   ]
  },
  {
   "cell_type": "code",
   "execution_count": 109,
   "id": "af682945",
   "metadata": {},
   "outputs": [],
   "source": [
    "from random import shuffle"
   ]
  },
  {
   "cell_type": "code",
   "execution_count": 110,
   "id": "c34e621a",
   "metadata": {},
   "outputs": [],
   "source": [
    "shuffle(l)"
   ]
  },
  {
   "cell_type": "code",
   "execution_count": 113,
   "id": "288ec331",
   "metadata": {},
   "outputs": [
    {
     "data": {
      "text/plain": [
       "[1, 3, 4, 5, 27]"
      ]
     },
     "execution_count": 113,
     "metadata": {},
     "output_type": "execute_result"
    }
   ],
   "source": [
    "l"
   ]
  },
  {
   "cell_type": "code",
   "execution_count": 114,
   "id": "de07aac9",
   "metadata": {},
   "outputs": [],
   "source": [
    "shuffle(l)"
   ]
  },
  {
   "cell_type": "code",
   "execution_count": 115,
   "id": "ccf3df61",
   "metadata": {},
   "outputs": [
    {
     "data": {
      "text/plain": [
       "[27, 1, 4, 3, 5]"
      ]
     },
     "execution_count": 115,
     "metadata": {},
     "output_type": "execute_result"
    }
   ],
   "source": [
    "l"
   ]
  },
  {
   "cell_type": "code",
   "execution_count": 118,
   "id": "70af09f1",
   "metadata": {},
   "outputs": [
    {
     "data": {
      "text/plain": [
       "[3, 4, 27, 5, 1]"
      ]
     },
     "execution_count": 118,
     "metadata": {},
     "output_type": "execute_result"
    }
   ],
   "source": [
    "from random import shuffle\n",
    "shuffle(l)\n",
    "l"
   ]
  },
  {
   "cell_type": "code",
   "execution_count": 122,
   "id": "7fde3c0f",
   "metadata": {},
   "outputs": [
    {
     "data": {
      "text/plain": [
       "[3, 2, 1]"
      ]
     },
     "execution_count": 122,
     "metadata": {},
     "output_type": "execute_result"
    }
   ],
   "source": [
    "def shuffle_list(l):\n",
    "    shuffle(l)\n",
    "    return l\n",
    "shuffle_list([1,2,3])"
   ]
  },
  {
   "cell_type": "code",
   "execution_count": 123,
   "id": "ade0eed1",
   "metadata": {},
   "outputs": [
    {
     "data": {
      "text/plain": [
       "(3, -1, 2)"
      ]
     },
     "execution_count": 123,
     "metadata": {},
     "output_type": "execute_result"
    }
   ],
   "source": [
    "#Define a function that accepts 2 values and return its sum, subtraction and multiplication.\n",
    "def func(a,b):\n",
    "    su=a+b\n",
    "    sub=a-b\n",
    "    mul=a*b\n",
    "    return su,sub,mul\n",
    "func(1,2)"
   ]
  },
  {
   "cell_type": "code",
   "execution_count": 129,
   "id": "b610e0ed",
   "metadata": {},
   "outputs": [
    {
     "ename": "NameError",
     "evalue": "name 'roll_no' is not defined",
     "output_type": "error",
     "traceback": [
      "\u001b[1;31m---------------------------------------------------------------------------\u001b[0m",
      "\u001b[1;31mNameError\u001b[0m                                 Traceback (most recent call last)",
      "Input \u001b[1;32mIn [129]\u001b[0m, in \u001b[0;36m<cell line: 8>\u001b[1;34m()\u001b[0m\n\u001b[0;32m      6\u001b[0m     \u001b[38;5;28;01melse\u001b[39;00m:\n\u001b[0;32m      7\u001b[0m         \u001b[38;5;28;01mreturn\u001b[39;00m absent\n\u001b[1;32m----> 8\u001b[0m func(\u001b[43mroll_no\u001b[49m)\n",
      "\u001b[1;31mNameError\u001b[0m: name 'roll_no' is not defined"
     ]
    }
   ],
   "source": [
    "#Define a function that accepts roll number and returns whether the student is present or absent.\n",
    "def func(roll_no):\n",
    "    x=[1,2,3]\n",
    "    if roll_no in x:\n",
    "        return present\n",
    "    else:\n",
    "        return absent\n",
    "    \n",
    "func(roll_no)"
   ]
  },
  {
   "cell_type": "code",
   "execution_count": 131,
   "id": "ecd46fcb",
   "metadata": {},
   "outputs": [
    {
     "name": "stdout",
     "output_type": "stream",
     "text": [
      "Enter roll no. 43\n",
      "Roll number 43 is present\n"
     ]
    }
   ],
   "source": [
    "def detail(roll):\n",
    "    x = [23,43,22,56]\n",
    "    if roll in x:\n",
    "        print(f\"Roll number {roll} is present\")\n",
    "    else:\n",
    "        print(f\"Roll number {roll} is absent\")\n",
    "roll = int(input(\"Enter roll no. \")) # 24\n",
    "detail(roll)\n"
   ]
  },
  {
   "cell_type": "code",
   "execution_count": 133,
   "id": "d5cd3d20",
   "metadata": {},
   "outputs": [
    {
     "name": "stdout",
     "output_type": "stream",
     "text": [
      "enter roll no1\n",
      "roll no is present\n"
     ]
    }
   ],
   "source": [
    "def func(roll_no):\n",
    "    x=[1,2,3]\n",
    "    if roll_no in x:\n",
    "        print(\"roll no is present\")\n",
    "    else:\n",
    "        print(\"roll no is absent\")\n",
    "roll_no=int(input(\"enter roll no\"))\n",
    "func(roll_no)"
   ]
  },
  {
   "cell_type": "code",
   "execution_count": 140,
   "id": "e8404e82",
   "metadata": {},
   "outputs": [
    {
     "name": "stdout",
     "output_type": "stream",
     "text": [
      "enter a number8\n"
     ]
    },
    {
     "data": {
      "text/plain": [
       "'absent'"
      ]
     },
     "execution_count": 140,
     "metadata": {},
     "output_type": "execute_result"
    }
   ],
   "source": [
    "def func(roll_no):\n",
    "    x=[1,2,3]\n",
    "    if roll_no in x:\n",
    "        return 'present'\n",
    "    else:\n",
    "        return 'absent'\n",
    "roll_no=int(input('enter a number'))\n",
    "func(roll_no)"
   ]
  },
  {
   "cell_type": "code",
   "execution_count": 142,
   "id": "d36a271c",
   "metadata": {},
   "outputs": [
    {
     "name": "stdout",
     "output_type": "stream",
     "text": [
      "8\n"
     ]
    },
    {
     "data": {
      "text/plain": [
       "'absent'"
      ]
     },
     "execution_count": 142,
     "metadata": {},
     "output_type": "execute_result"
    }
   ],
   "source": [
    "#Define a function that accepts roll number and returns whether the student is present or absent.\n",
    "def func(roll_no):\n",
    "    x=[3,4,5]\n",
    "    if roll_no in x:\n",
    "        return 'present'\n",
    "    else:\n",
    "        return 'absent'\n",
    "roll_no=int(input())\n",
    "func(roll_no)"
   ]
  },
  {
   "cell_type": "code",
   "execution_count": 144,
   "id": "c3bdb27f",
   "metadata": {},
   "outputs": [
    {
     "data": {
      "text/plain": [
       "9"
      ]
     },
     "execution_count": 144,
     "metadata": {},
     "output_type": "execute_result"
    }
   ],
   "source": [
    "#Define a function in python that accepts 3 values and returns the maximum of three numbers\n",
    "def func(a,b,c):\n",
    "    m=max(a,b,c)\n",
    "    return m\n",
    "func(8,9,6)"
   ]
  },
  {
   "cell_type": "code",
   "execution_count": 151,
   "id": "243bbbd8",
   "metadata": {},
   "outputs": [
    {
     "name": "stdout",
     "output_type": "stream",
     "text": [
      "9 is maximum\n"
     ]
    }
   ],
   "source": [
    "def func(a,b,c):\n",
    "    if a>b and a>c:\n",
    "        print(f'{a} is maximum')\n",
    "    elif b>a and b>c:\n",
    "        print(f'{b} is maximum')\n",
    "    else:\n",
    "        print(f'{c} is maximum')\n",
    "func(9,6,7)"
   ]
  },
  {
   "cell_type": "code",
   "execution_count": 161,
   "id": "7ead3907",
   "metadata": {},
   "outputs": [
    {
     "data": {
      "text/plain": [
       "'even'"
      ]
     },
     "execution_count": 161,
     "metadata": {},
     "output_type": "execute_result"
    }
   ],
   "source": [
    "#Define a function that accepts a number and returns whether the number is even or odd\n",
    "def func(a):\n",
    "    if a%2==0:\n",
    "        return 'even'\n",
    "    else:\n",
    "        return 'odd'\n",
    "func(100)"
   ]
  },
  {
   "cell_type": "code",
   "execution_count": 164,
   "id": "29685371",
   "metadata": {},
   "outputs": [
    {
     "data": {
      "text/plain": [
       "'odd'"
      ]
     },
     "execution_count": 164,
     "metadata": {},
     "output_type": "execute_result"
    }
   ],
   "source": [
    "def func(a):\n",
    "    if a%2==0:\n",
    "        return 'even'\n",
    "    else:\n",
    "        return 'odd'\n",
    "func(1)"
   ]
  },
  {
   "cell_type": "code",
   "execution_count": 168,
   "id": "65970bbe",
   "metadata": {},
   "outputs": [
    {
     "name": "stdout",
     "output_type": "stream",
     "text": [
      "enter a wordisis\n"
     ]
    }
   ],
   "source": [
    "#Define a function which counts vowels and consonant in a word\n",
    "def count(word):\n",
    "    vol=0\n",
    "    con=0\n",
    "    for i in word:\n",
    "        if i=='a' or i=='e' or i=='i' or i=='o' or i=='u':\n",
    "            vol=vol+1\n",
    "        else:\n",
    "            con=con+1\n",
    "word=input(\"enter a word\")\n",
    "count(word)"
   ]
  },
  {
   "cell_type": "code",
   "execution_count": 169,
   "id": "4a3c00e1",
   "metadata": {},
   "outputs": [
    {
     "name": "stdout",
     "output_type": "stream",
     "text": [
      "Enter Value: sreya\n",
      "Count of vowels is  2\n",
      "Count of consonant is  3\n"
     ]
    }
   ],
   "source": [
    "def count(val):\n",
    "    vov = 0\n",
    "    con = 0\n",
    "    for i in range(len(val)):\n",
    "        if val[i] in ['a','e','i','o','u']:\n",
    "            vov = vov+1\n",
    "        else:\n",
    "            con = con + 1\n",
    "\n",
    "    print(\"Count of vowels is \",vov)\n",
    "    print(\"Count of consonant is \",con)\n",
    "\n",
    "x = input(\"Enter Value: \") # pythonlobby\n",
    "count(x)\n",
    "\n"
   ]
  },
  {
   "cell_type": "code",
   "execution_count": 176,
   "id": "5005356c",
   "metadata": {},
   "outputs": [
    {
     "name": "stdout",
     "output_type": "stream",
     "text": [
      "enter a value: sreya\n",
      "count of vol is:  2\n",
      "count of con is:  3\n"
     ]
    }
   ],
   "source": [
    "def count(val):\n",
    "    vol=0\n",
    "    con=0\n",
    "    for i in range(len(val)):\n",
    "        if val[i] in ['a','e','i','o','u']:\n",
    "            vol=vol+1\n",
    "        else:\n",
    "            con=con+1\n",
    "    print(\"count of vol is: \",vol)\n",
    "    print(\"count of con is: \",con)\n",
    "val=input(\"enter a value: \")\n",
    "count(val)"
   ]
  },
  {
   "cell_type": "code",
   "execution_count": 180,
   "id": "9879c500",
   "metadata": {},
   "outputs": [
    {
     "name": "stdout",
     "output_type": "stream",
     "text": [
      "enter a value: sreya\n",
      "count of vol is:  2\n",
      "count of con is:  3\n"
     ]
    }
   ],
   "source": [
    "def count(val):\n",
    "    vol=0\n",
    "    con=0\n",
    "    for i in range(len(val)):\n",
    "        if val[i] in ['a','e','i','o','u']:\n",
    "            vol=vol+1\n",
    "        else:\n",
    "            con=con+1\n",
    "    print(\"count of vol is: \",vol)\n",
    "    print(\"count of con is: \",con)\n",
    "val=input(\"enter a value: \")\n",
    "count(val)"
   ]
  },
  {
   "cell_type": "code",
   "execution_count": 3,
   "id": "e8f86496",
   "metadata": {},
   "outputs": [
    {
     "name": "stdout",
     "output_type": "stream",
     "text": [
      "enter a value: \n"
     ]
    },
    {
     "ename": "NameError",
     "evalue": "name 'value' is not defined",
     "output_type": "error",
     "traceback": [
      "\u001b[1;31m---------------------------------------------------------------------------\u001b[0m",
      "\u001b[1;31mNameError\u001b[0m                                 Traceback (most recent call last)",
      "Input \u001b[1;32mIn [3]\u001b[0m, in \u001b[0;36m<cell line: 6>\u001b[1;34m()\u001b[0m\n\u001b[0;32m      4\u001b[0m     \u001b[38;5;28;01mreturn\u001b[39;00m lowercase\n\u001b[0;32m      5\u001b[0m \u001b[38;5;28mprint\u001b[39m(\u001b[38;5;124m\"\u001b[39m\u001b[38;5;124menter a value: \u001b[39m\u001b[38;5;124m\"\u001b[39m)\n\u001b[1;32m----> 6\u001b[0m uppercase(\u001b[43mvalue\u001b[49m)\n",
      "\u001b[1;31mNameError\u001b[0m: name 'value' is not defined"
     ]
    }
   ],
   "source": [
    "#Define a function that accepts lowercase words and returns uppercase words\n",
    "def uppercase(value):\n",
    "    lowercase=value.uppercase()\n",
    "    return lowercase\n",
    "print(\"enter a value: \")\n",
    "uppercase(value)\n",
    "    "
   ]
  },
  {
   "cell_type": "code",
   "execution_count": 1,
   "id": "533386e6",
   "metadata": {},
   "outputs": [
    {
     "name": "stdout",
     "output_type": "stream",
     "text": [
      "Enter String: sreya\n",
      "SREYA\n"
     ]
    }
   ],
   "source": [
    "def response(text):\n",
    "    z = text.upper()\n",
    "    print(z)\n",
    "\n",
    "text = input(\"Enter String: \")  # pythonlobby\n",
    "response(text)"
   ]
  },
  {
   "cell_type": "code",
   "execution_count": 3,
   "id": "5f7a473d",
   "metadata": {},
   "outputs": [
    {
     "name": "stdout",
     "output_type": "stream",
     "text": [
      "enter a string: sreya\n",
      "SREYA\n"
     ]
    }
   ],
   "source": [
    "def func(text):\n",
    "    u=text.upper()\n",
    "    print(u)\n",
    "text=input(\"enter a string: \")\n",
    "func(text)"
   ]
  },
  {
   "cell_type": "code",
   "execution_count": 4,
   "id": "cd6eedf3",
   "metadata": {},
   "outputs": [
    {
     "name": "stdout",
     "output_type": "stream",
     "text": [
      "enter a value: sreya\n"
     ]
    },
    {
     "data": {
      "text/plain": [
       "'SREYA'"
      ]
     },
     "execution_count": 4,
     "metadata": {},
     "output_type": "execute_result"
    }
   ],
   "source": [
    "def func(value):\n",
    "    u=text.upper()\n",
    "    return u\n",
    "value=input(\"enter a value: \")\n",
    "func(value)"
   ]
  },
  {
   "cell_type": "code",
   "execution_count": 5,
   "id": "7d28eb10",
   "metadata": {},
   "outputs": [
    {
     "name": "stdout",
     "output_type": "stream",
     "text": [
      "enter a radius4\n"
     ]
    },
    {
     "data": {
      "text/plain": [
       "50.24"
      ]
     },
     "execution_count": 5,
     "metadata": {},
     "output_type": "execute_result"
    }
   ],
   "source": [
    "#Define a function that accepts radius and returns the area of a circle\n",
    "#area of circle=pie r square\n",
    "def area(radius):\n",
    "    a=3.14*radius*radius\n",
    "    return a\n",
    "radius=int(input(\"enter a radius\"))\n",
    "area(radius)"
   ]
  },
  {
   "cell_type": "code",
   "execution_count": 8,
   "id": "cb8591ac",
   "metadata": {},
   "outputs": [
    {
     "name": "stdout",
     "output_type": "stream",
     "text": [
      "enter radius: 5\n"
     ]
    },
    {
     "data": {
      "text/plain": [
       "78.5"
      ]
     },
     "execution_count": 8,
     "metadata": {},
     "output_type": "execute_result"
    }
   ],
   "source": [
    "def area(r):\n",
    "    a=3.14*r*r\n",
    "    return a\n",
    "r=int(input(\"enter radius: \"))\n",
    "area(r)"
   ]
  },
  {
   "cell_type": "code",
   "execution_count": 16,
   "id": "e3754037",
   "metadata": {},
   "outputs": [
    {
     "ename": "TypeError",
     "evalue": "'list' object cannot be interpreted as an integer",
     "output_type": "error",
     "traceback": [
      "\u001b[1;31m---------------------------------------------------------------------------\u001b[0m",
      "\u001b[1;31mTypeError\u001b[0m                                 Traceback (most recent call last)",
      "Input \u001b[1;32mIn [16]\u001b[0m, in \u001b[0;36m<cell line: 8>\u001b[1;34m()\u001b[0m\n\u001b[0;32m      6\u001b[0m     \u001b[38;5;28;01mreturn\u001b[39;00m \u001b[38;5;28msum\u001b[39m\n\u001b[0;32m      7\u001b[0m \u001b[38;5;28mlist\u001b[39m\u001b[38;5;241m=\u001b[39m[\u001b[38;5;241m1\u001b[39m,\u001b[38;5;241m2\u001b[39m,\u001b[38;5;241m3\u001b[39m]\n\u001b[1;32m----> 8\u001b[0m \u001b[38;5;28;43msum\u001b[39;49m\u001b[43m(\u001b[49m\u001b[38;5;28;43mlist\u001b[39;49m\u001b[43m)\u001b[49m\n",
      "Input \u001b[1;32mIn [16]\u001b[0m, in \u001b[0;36msum\u001b[1;34m(list)\u001b[0m\n\u001b[0;32m      2\u001b[0m \u001b[38;5;28;01mdef\u001b[39;00m \u001b[38;5;21msum\u001b[39m(\u001b[38;5;28mlist\u001b[39m):\n\u001b[0;32m      3\u001b[0m     \u001b[38;5;28msum\u001b[39m\u001b[38;5;241m=\u001b[39m\u001b[38;5;241m0\u001b[39m\n\u001b[1;32m----> 4\u001b[0m     \u001b[38;5;28;01mfor\u001b[39;00m i \u001b[38;5;129;01min\u001b[39;00m  \u001b[38;5;28;43mrange\u001b[39;49m\u001b[43m(\u001b[49m\u001b[38;5;28;43mlist\u001b[39;49m\u001b[43m)\u001b[49m:\n\u001b[0;32m      5\u001b[0m         \u001b[38;5;28msum\u001b[39m\u001b[38;5;241m=\u001b[39m\u001b[38;5;28msum\u001b[39m\u001b[38;5;241m+\u001b[39m\u001b[38;5;241m1\u001b[39m\n\u001b[0;32m      6\u001b[0m     \u001b[38;5;28;01mreturn\u001b[39;00m \u001b[38;5;28msum\u001b[39m\n",
      "\u001b[1;31mTypeError\u001b[0m: 'list' object cannot be interpreted as an integer"
     ]
    }
   ],
   "source": [
    "#Write a Python function to sum all the numbers in a list\n",
    "def sum(list):\n",
    "    sum=0\n",
    "    for i in  range(list):\n",
    "        sum=sum+1\n",
    "    return sum\n",
    "list=[1,2,3]\n",
    "sum(list)"
   ]
  },
  {
   "cell_type": "code",
   "execution_count": 17,
   "id": "7663a38a",
   "metadata": {},
   "outputs": [
    {
     "name": "stdout",
     "output_type": "stream",
     "text": [
      "20\n"
     ]
    }
   ],
   "source": [
    "def sum(numbers):\n",
    "    total = 0\n",
    "    for x in numbers:\n",
    "        total += x\n",
    "    return total\n",
    "print(sum((8, 2, 3, 0, 7)))"
   ]
  },
  {
   "cell_type": "code",
   "execution_count": 21,
   "id": "4e6457e2",
   "metadata": {},
   "outputs": [
    {
     "data": {
      "text/plain": [
       "6"
      ]
     },
     "execution_count": 21,
     "metadata": {},
     "output_type": "execute_result"
    }
   ],
   "source": [
    "def sum(nums):\n",
    "    total=0\n",
    "    for i in (nums):\n",
    "        total=total+i\n",
    "    return total\n",
    "nums=[1,2,3]\n",
    "sum(nums)"
   ]
  },
  {
   "cell_type": "code",
   "execution_count": 22,
   "id": "60a99ad5",
   "metadata": {},
   "outputs": [
    {
     "data": {
      "text/plain": [
       "6"
      ]
     },
     "execution_count": 22,
     "metadata": {},
     "output_type": "execute_result"
    }
   ],
   "source": [
    "def sum(nums):\n",
    "    sum=0\n",
    "    for i in nums:\n",
    "        sum=sum+i\n",
    "    return sum\n",
    "nums=[1,2,3]\n",
    "sum(nums)"
   ]
  },
  {
   "cell_type": "code",
   "execution_count": 27,
   "id": "0805b53b",
   "metadata": {},
   "outputs": [
    {
     "data": {
      "text/plain": [
       "3"
      ]
     },
     "execution_count": 27,
     "metadata": {},
     "output_type": "execute_result"
    }
   ],
   "source": [
    "#Write a Python function to multiply all the numbers in a list\n",
    "def multiply(nums):\n",
    "    for i in (nums):\n",
    "        product=1\n",
    "        product=product*i\n",
    "    return product\n",
    "nums=(1,2,3)\n",
    "multiply(nums)"
   ]
  },
  {
   "cell_type": "code",
   "execution_count": 28,
   "id": "43113382",
   "metadata": {},
   "outputs": [
    {
     "name": "stdout",
     "output_type": "stream",
     "text": [
      "-336\n"
     ]
    }
   ],
   "source": [
    "def multiply(numbers):  \n",
    "    total = 1\n",
    "    for x in numbers:\n",
    "        total *= x  \n",
    "    return total  \n",
    "print(multiply((8, 2, 3, -1, 7)))"
   ]
  },
  {
   "cell_type": "code",
   "execution_count": 31,
   "id": "68a85ee8",
   "metadata": {},
   "outputs": [
    {
     "data": {
      "text/plain": [
       "6"
      ]
     },
     "execution_count": 31,
     "metadata": {},
     "output_type": "execute_result"
    }
   ],
   "source": [
    "def multiply(nums):\n",
    "    product=1\n",
    "    for i in (nums):\n",
    "        product=product*i\n",
    "    return product\n",
    "nums=(1,2,3)\n",
    "multiply(nums)"
   ]
  },
  {
   "cell_type": "code",
   "execution_count": 32,
   "id": "0c618b58",
   "metadata": {},
   "outputs": [
    {
     "data": {
      "text/plain": [
       "6"
      ]
     },
     "execution_count": 32,
     "metadata": {},
     "output_type": "execute_result"
    }
   ],
   "source": [
    "def multiply(nums):\n",
    "    product=1\n",
    "    for i in nums:\n",
    "        product=product*i\n",
    "    return product\n",
    "nums=(1,2,3)\n",
    "multiply(nums)"
   ]
  },
  {
   "cell_type": "code",
   "execution_count": 39,
   "id": "eaf199c5",
   "metadata": {},
   "outputs": [
    {
     "name": "stdout",
     "output_type": "stream",
     "text": [
      "enter a string: sreya\n"
     ]
    },
    {
     "data": {
      "text/plain": [
       "'ayers'"
      ]
     },
     "execution_count": 39,
     "metadata": {},
     "output_type": "execute_result"
    }
   ],
   "source": [
    "#Write a Python program to reverse a string\n",
    "def reverse(string):\n",
    "    string=string[::-1]\n",
    "    return string\n",
    "string=input(\"enter a string: \")\n",
    "reverse(string)"
   ]
  },
  {
   "cell_type": "code",
   "execution_count": 40,
   "id": "0b625b44",
   "metadata": {},
   "outputs": [
    {
     "name": "stdout",
     "output_type": "stream",
     "text": [
      "enter string: sreya\n"
     ]
    },
    {
     "data": {
      "text/plain": [
       "'ayers'"
      ]
     },
     "execution_count": 40,
     "metadata": {},
     "output_type": "execute_result"
    }
   ],
   "source": [
    "def reverse(string):\n",
    "    s=string[::-1]\n",
    "    return s\n",
    "string=input(\"enter string: \")\n",
    "reverse(string)"
   ]
  },
  {
   "cell_type": "code",
   "execution_count": 44,
   "id": "ed523a32",
   "metadata": {},
   "outputs": [
    {
     "name": "stdout",
     "output_type": "stream",
     "text": [
      "enter a string: SreyA\n"
     ]
    },
    {
     "ename": "TypeError",
     "evalue": "string indices must be integers",
     "output_type": "error",
     "traceback": [
      "\u001b[1;31m---------------------------------------------------------------------------\u001b[0m",
      "\u001b[1;31mTypeError\u001b[0m                                 Traceback (most recent call last)",
      "Input \u001b[1;32mIn [44]\u001b[0m, in \u001b[0;36m<cell line: 12>\u001b[1;34m()\u001b[0m\n\u001b[0;32m     10\u001b[0m     \u001b[38;5;28;01mreturn\u001b[39;00m count,\u001b[38;5;28msum\u001b[39m\n\u001b[0;32m     11\u001b[0m string\u001b[38;5;241m=\u001b[39m\u001b[38;5;28minput\u001b[39m(\u001b[38;5;124m\"\u001b[39m\u001b[38;5;124menter a string: \u001b[39m\u001b[38;5;124m\"\u001b[39m)\n\u001b[1;32m---> 12\u001b[0m \u001b[43mfunc\u001b[49m\u001b[43m(\u001b[49m\u001b[43mstring\u001b[49m\u001b[43m)\u001b[49m\n",
      "Input \u001b[1;32mIn [44]\u001b[0m, in \u001b[0;36mfunc\u001b[1;34m(string)\u001b[0m\n\u001b[0;32m      4\u001b[0m summ\u001b[38;5;241m=\u001b[39m\u001b[38;5;241m0\u001b[39m\n\u001b[0;32m      5\u001b[0m \u001b[38;5;28;01mfor\u001b[39;00m i \u001b[38;5;129;01min\u001b[39;00m string:\n\u001b[1;32m----> 6\u001b[0m     \u001b[38;5;28;01mif\u001b[39;00m \u001b[43mstring\u001b[49m\u001b[43m[\u001b[49m\u001b[43mi\u001b[49m\u001b[43m]\u001b[49m\u001b[38;5;241m==\u001b[39mupper:\n\u001b[0;32m      7\u001b[0m         count\u001b[38;5;241m=\u001b[39mcount\u001b[38;5;241m+\u001b[39m\u001b[38;5;241m1\u001b[39m\n\u001b[0;32m      8\u001b[0m     \u001b[38;5;28;01melse\u001b[39;00m:\n",
      "\u001b[1;31mTypeError\u001b[0m: string indices must be integers"
     ]
    }
   ],
   "source": [
    "#. Write a Python function that accepts a string and calculate the number of upper case letters and lower case letters\n",
    "def func(string):\n",
    "    count=0\n",
    "    summ=0\n",
    "    for i in string:\n",
    "        if string[i]==upper:\n",
    "            count=count+1\n",
    "        else:\n",
    "            summ=sum+1\n",
    "    return count,sum\n",
    "string=input(\"enter a string: \")\n",
    "func(string)        "
   ]
  },
  {
   "cell_type": "code",
   "execution_count": 46,
   "id": "81b5ddc2",
   "metadata": {},
   "outputs": [],
   "source": [
    "def up_low(s):\n",
    "  for a in s:\n",
    "    u = u.count(a.isupper())\n",
    "    l = l.count(a.islowwer())\n",
    "  print(u, l)"
   ]
  },
  {
   "cell_type": "code",
   "execution_count": 47,
   "id": "e91f8c0c",
   "metadata": {},
   "outputs": [
    {
     "name": "stdout",
     "output_type": "stream",
     "text": [
      "enter a string: SreYA\n"
     ]
    },
    {
     "ename": "UnboundLocalError",
     "evalue": "local variable 'u' referenced before assignment",
     "output_type": "error",
     "traceback": [
      "\u001b[1;31m---------------------------------------------------------------------------\u001b[0m",
      "\u001b[1;31mUnboundLocalError\u001b[0m                         Traceback (most recent call last)",
      "Input \u001b[1;32mIn [47]\u001b[0m, in \u001b[0;36m<cell line: 8>\u001b[1;34m()\u001b[0m\n\u001b[0;32m      6\u001b[0m     \u001b[38;5;28;01mreturn\u001b[39;00m u,l\n\u001b[0;32m      7\u001b[0m string\u001b[38;5;241m=\u001b[39m\u001b[38;5;28minput\u001b[39m(\u001b[38;5;124m\"\u001b[39m\u001b[38;5;124menter a string: \u001b[39m\u001b[38;5;124m\"\u001b[39m)\n\u001b[1;32m----> 8\u001b[0m \u001b[43mfunc\u001b[49m\u001b[43m(\u001b[49m\u001b[43mstring\u001b[49m\u001b[43m)\u001b[49m\n",
      "Input \u001b[1;32mIn [47]\u001b[0m, in \u001b[0;36mfunc\u001b[1;34m(string)\u001b[0m\n\u001b[0;32m      2\u001b[0m count\u001b[38;5;241m=\u001b[39m\u001b[38;5;241m0\u001b[39m\n\u001b[0;32m      3\u001b[0m \u001b[38;5;28;01mfor\u001b[39;00m i \u001b[38;5;129;01min\u001b[39;00m string:\n\u001b[1;32m----> 4\u001b[0m     u\u001b[38;5;241m=\u001b[39m\u001b[43mu\u001b[49m\u001b[38;5;241m.\u001b[39mcount(i\u001b[38;5;241m.\u001b[39misupper())\n\u001b[0;32m      5\u001b[0m     l\u001b[38;5;241m=\u001b[39ml\u001b[38;5;241m.\u001b[39mcount(i\u001b[38;5;241m.\u001b[39mislower())\n\u001b[0;32m      6\u001b[0m \u001b[38;5;28;01mreturn\u001b[39;00m u,l\n",
      "\u001b[1;31mUnboundLocalError\u001b[0m: local variable 'u' referenced before assignment"
     ]
    }
   ],
   "source": [
    "def func(string):\n",
    "    count=0\n",
    "    for i in string:\n",
    "        u=u.count(i.isupper())\n",
    "        l=l.count(i.islower())\n",
    "    return u,l\n",
    "string=input(\"enter a string: \")\n",
    "func(string)"
   ]
  },
  {
   "cell_type": "code",
   "execution_count": 50,
   "id": "3002edc0",
   "metadata": {},
   "outputs": [
    {
     "name": "stdout",
     "output_type": "stream",
     "text": [
      "enter a string: SReYA\n"
     ]
    },
    {
     "data": {
      "text/plain": [
       "(4, 1)"
      ]
     },
     "execution_count": 50,
     "metadata": {},
     "output_type": "execute_result"
    }
   ],
   "source": [
    "#program to accept string and count the uppercase and lowercase letters\n",
    "def count(string):\n",
    "    total1=0\n",
    "    total2=0\n",
    "    for i in string:\n",
    "        if i.isupper():\n",
    "            total1=total1+1\n",
    "        else:\n",
    "            total2=total2+1\n",
    "    return total1,total2\n",
    "string=input(\"enter a string: \")\n",
    "count(string)"
   ]
  },
  {
   "cell_type": "code",
   "execution_count": 59,
   "id": "40a4c360",
   "metadata": {},
   "outputs": [
    {
     "name": "stdout",
     "output_type": "stream",
     "text": [
      "enter a string: SREya\n",
      "no of uppercase letters is:  3\n",
      "no of lowercase letters is:  2\n"
     ]
    }
   ],
   "source": [
    "def count(string):\n",
    "    t1=0\n",
    "    t2=0\n",
    "    for i in string:\n",
    "        if i.isupper():\n",
    "            t1=t1+1\n",
    "        else:\n",
    "            t2=t2+1\n",
    "    print(\"no of uppercase letters is: \",t1)\n",
    "    print(\"no of lowercase letters is: \",t2)\n",
    "string=input(\"enter a string: \")\n",
    "count(string)"
   ]
  },
  {
   "cell_type": "code",
   "execution_count": 68,
   "id": "bd5ee345",
   "metadata": {},
   "outputs": [
    {
     "data": {
      "text/plain": [
       "[1, 2, 3, 7, 8, 9]"
      ]
     },
     "execution_count": 68,
     "metadata": {},
     "output_type": "execute_result"
    }
   ],
   "source": [
    "# Write a Python function that takes a list and returns a new list with unique elements of the first list\n",
    "def uniquelist(l):\n",
    "    sl=[]\n",
    "    for i in l:\n",
    "        if i not in sl:\n",
    "            sl.append(i)\n",
    "    return sl\n",
    "l=[1,2,2,3,3,3,3,3,7,7,8,8,9,9,8,8]\n",
    "uniquelist(l)"
   ]
  },
  {
   "cell_type": "code",
   "execution_count": 2,
   "id": "2cfd71e7",
   "metadata": {},
   "outputs": [
    {
     "name": "stdout",
     "output_type": "stream",
     "text": [
      "1\n",
      "2\n",
      "3\n",
      "4\n",
      "5\n"
     ]
    }
   ],
   "source": [
    "# *args and **kwargs\n",
    "# *args is used to pass as many variables as we want . it prints tuple in result\n",
    "def func(*args):\n",
    "    for i in args:\n",
    "        print(i)\n",
    "func(1,2,3,4,5)"
   ]
  },
  {
   "cell_type": "code",
   "execution_count": 3,
   "id": "e40d9ed7",
   "metadata": {},
   "outputs": [
    {
     "name": "stdout",
     "output_type": "stream",
     "text": [
      "1\n",
      "2\n"
     ]
    }
   ],
   "source": [
    "func(1,2)"
   ]
  },
  {
   "cell_type": "code",
   "execution_count": 21,
   "id": "7af52951",
   "metadata": {},
   "outputs": [
    {
     "name": "stdout",
     "output_type": "stream",
     "text": [
      "{'fruit': 'apple', 'veggie': 'carrot'}\n",
      "my choice is : apple\n"
     ]
    }
   ],
   "source": [
    "# **kwargs prints dictionary in result\n",
    "def func(**kwargs):\n",
    "    print(kwargs)\n",
    "    if 'fruit' in kwargs:\n",
    "        print(\"my choice is :\", kwargs['fruit'])\n",
    "    else:\n",
    "        print(\"not fruit\")\n",
    "func(fruit='apple',veggie='carrot')"
   ]
  },
  {
   "cell_type": "code",
   "execution_count": 22,
   "id": "32ab6795",
   "metadata": {},
   "outputs": [
    {
     "name": "stdout",
     "output_type": "stream",
     "text": [
      "{'veggie': 'carrot', 'fruit': 'apple'}\n",
      "my choice is : apple\n"
     ]
    }
   ],
   "source": [
    "func(veggie='carrot',fruit='apple')"
   ]
  },
  {
   "cell_type": "code",
   "execution_count": 23,
   "id": "8767970b",
   "metadata": {},
   "outputs": [
    {
     "name": "stdout",
     "output_type": "stream",
     "text": [
      "{'veggie': 'carrot'}\n",
      "not fruit\n"
     ]
    }
   ],
   "source": [
    "func(veggie='carrot')"
   ]
  },
  {
   "cell_type": "code",
   "execution_count": 24,
   "id": "f24f3990",
   "metadata": {},
   "outputs": [
    {
     "name": "stdout",
     "output_type": "stream",
     "text": [
      "{}\n",
      "not fruit\n"
     ]
    }
   ],
   "source": [
    "func()"
   ]
  },
  {
   "cell_type": "code",
   "execution_count": 25,
   "id": "e2a66471",
   "metadata": {},
   "outputs": [
    {
     "ename": "TypeError",
     "evalue": "func() takes 0 positional arguments but 2 were given",
     "output_type": "error",
     "traceback": [
      "\u001b[1;31m---------------------------------------------------------------------------\u001b[0m",
      "\u001b[1;31mTypeError\u001b[0m                                 Traceback (most recent call last)",
      "Input \u001b[1;32mIn [25]\u001b[0m, in \u001b[0;36m<cell line: 1>\u001b[1;34m()\u001b[0m\n\u001b[1;32m----> 1\u001b[0m \u001b[43mfunc\u001b[49m\u001b[43m(\u001b[49m\u001b[38;5;124;43m'\u001b[39;49m\u001b[38;5;124;43mcarrot\u001b[39;49m\u001b[38;5;124;43m'\u001b[39;49m\u001b[43m,\u001b[49m\u001b[38;5;124;43m'\u001b[39;49m\u001b[38;5;124;43mmango\u001b[39;49m\u001b[38;5;124;43m'\u001b[39;49m\u001b[43m)\u001b[49m\n",
      "\u001b[1;31mTypeError\u001b[0m: func() takes 0 positional arguments but 2 were given"
     ]
    }
   ],
   "source": [
    "func('carrot','mango')"
   ]
  },
  {
   "cell_type": "code",
   "execution_count": 26,
   "id": "749e9fab",
   "metadata": {},
   "outputs": [
    {
     "name": "stdout",
     "output_type": "stream",
     "text": [
      "(1, 2, 3)\n",
      "{'food': 'tea', 'animal': 'dog', 'veggie': 'carrot'}\n",
      "i would like to 1 dog\n"
     ]
    }
   ],
   "source": [
    "def func(*args,**kwargs):\n",
    "    print(args)\n",
    "    print(kwargs)\n",
    "    print(\"i would like to\",args[0],kwargs['animal'])\n",
    "func(1,2,3,food='tea',animal='dog',veggie='carrot')"
   ]
  },
  {
   "cell_type": "code",
   "execution_count": 27,
   "id": "2e5a3236",
   "metadata": {},
   "outputs": [
    {
     "ename": "SyntaxError",
     "evalue": "positional argument follows keyword argument (844145173.py, line 1)",
     "output_type": "error",
     "traceback": [
      "\u001b[1;36m  Input \u001b[1;32mIn [27]\u001b[1;36m\u001b[0m\n\u001b[1;33m    func(food='tea',animal='dog',veggie='carrot',1,2,3)\u001b[0m\n\u001b[1;37m                                                      ^\u001b[0m\n\u001b[1;31mSyntaxError\u001b[0m\u001b[1;31m:\u001b[0m positional argument follows keyword argument\n"
     ]
    }
   ],
   "source": [
    "func(food='tea',animal='dog',veggie='carrot',1,2,3)"
   ]
  },
  {
   "cell_type": "code",
   "execution_count": 43,
   "id": "aba0079a",
   "metadata": {},
   "outputs": [
    {
     "name": "stdout",
     "output_type": "stream",
     "text": [
      "2\n",
      "4\n"
     ]
    }
   ],
   "source": [
    "#Define a function called myfunc that takes in an arbitrary number of arguments, and returns a list containing only those arguments that are even\n",
    "def myfunc(*args):\n",
    "    for i in args:\n",
    "        if i%2==0:\n",
    "            print(i)\n",
    "myfunc(1,2,3,4)"
   ]
  },
  {
   "cell_type": "code",
   "execution_count": 45,
   "id": "49f50749",
   "metadata": {},
   "outputs": [],
   "source": [
    "#Define a function called myfunc that takes in a string, and returns a matching string where every even letter is uppercase, and every odd letter is lowercase\n",
    "def myfunc(mystring):\n",
    "\n",
    "   output = ''\n",
    "\n",
    "   mystring = mystring.lower()\n",
    "\n",
    "   for x in range(0,(len(mystring))):\n",
    "\n",
    "       if x % 2 == 0:\n",
    "\n",
    "           output += mystring[x].upper()\n",
    "\n",
    "       else:\n",
    "\n",
    "           output += mystring[x]\n",
    "\n",
    "   return output"
   ]
  },
  {
   "cell_type": "code",
   "execution_count": 47,
   "id": "db67aaf9",
   "metadata": {},
   "outputs": [
    {
     "data": {
      "text/plain": [
       "'SrEyA'"
      ]
     },
     "execution_count": 47,
     "metadata": {},
     "output_type": "execute_result"
    }
   ],
   "source": [
    "myfunc('sreya')"
   ]
  },
  {
   "cell_type": "code",
   "execution_count": 55,
   "id": "614a34cb",
   "metadata": {},
   "outputs": [
    {
     "name": "stdout",
     "output_type": "stream",
     "text": [
      "nothing\n",
      "nothing\n",
      "nothing\n"
     ]
    }
   ],
   "source": [
    "l=(1,2,3)\n",
    "for i in l:\n",
    "    if i==l[::2]:\n",
    "        print(i)\n",
    "    else:\n",
    "        print(\"nothing\")"
   ]
  },
  {
   "cell_type": "code",
   "execution_count": 7,
   "id": "40763f19",
   "metadata": {},
   "outputs": [],
   "source": [
    "#Write a function that returns the lesser of two given numbers if both numbers are even, but returns the greater if one or both numbers are odd\n",
    "def func(a,b):\n",
    "    if a%2==0 and b%2==0:\n",
    "        if a<b:\n",
    "            result=a\n",
    "        else:\n",
    "            result=b\n",
    "    else:\n",
    "        if a>b:\n",
    "            result=a\n",
    "        else:\n",
    "            result=b\n",
    "    return result             "
   ]
  },
  {
   "cell_type": "code",
   "execution_count": 8,
   "id": "b0ee6b80",
   "metadata": {},
   "outputs": [
    {
     "data": {
      "text/plain": [
       "2"
      ]
     },
     "execution_count": 8,
     "metadata": {},
     "output_type": "execute_result"
    }
   ],
   "source": [
    "func(2,6)"
   ]
  },
  {
   "cell_type": "code",
   "execution_count": 9,
   "id": "d2ad2365",
   "metadata": {},
   "outputs": [
    {
     "data": {
      "text/plain": [
       "7"
      ]
     },
     "execution_count": 9,
     "metadata": {},
     "output_type": "execute_result"
    }
   ],
   "source": [
    "func(7,3)"
   ]
  },
  {
   "cell_type": "code",
   "execution_count": 1,
   "id": "0a2ff044",
   "metadata": {},
   "outputs": [],
   "source": [
    "def func(a,b):\n",
    "    if a%2==0 and b%2==0:\n",
    "        return min(a,b)\n",
    "    else:\n",
    "        return max(a,b)"
   ]
  },
  {
   "cell_type": "code",
   "execution_count": 2,
   "id": "cebfd5ae",
   "metadata": {},
   "outputs": [
    {
     "data": {
      "text/plain": [
       "2"
      ]
     },
     "execution_count": 2,
     "metadata": {},
     "output_type": "execute_result"
    }
   ],
   "source": [
    "func(2,6)"
   ]
  },
  {
   "cell_type": "code",
   "execution_count": 3,
   "id": "171c9128",
   "metadata": {},
   "outputs": [
    {
     "data": {
      "text/plain": [
       "7"
      ]
     },
     "execution_count": 3,
     "metadata": {},
     "output_type": "execute_result"
    }
   ],
   "source": [
    "func(5,7)"
   ]
  },
  {
   "cell_type": "code",
   "execution_count": 4,
   "id": "8438bac5",
   "metadata": {},
   "outputs": [],
   "source": [
    "#Write a function takes a two-word string and returns True if both words begin with same letter\n",
    "def func(text):\n",
    "    list=text.split()\n",
    "    print(list)"
   ]
  },
  {
   "cell_type": "code",
   "execution_count": 5,
   "id": "3bd3c651",
   "metadata": {},
   "outputs": [
    {
     "ename": "SyntaxError",
     "evalue": "invalid syntax (2430056906.py, line 1)",
     "output_type": "error",
     "traceback": [
      "\u001b[1;36m  Input \u001b[1;32mIn [5]\u001b[1;36m\u001b[0m\n\u001b[1;33m    func(raga sreya)\u001b[0m\n\u001b[1;37m              ^\u001b[0m\n\u001b[1;31mSyntaxError\u001b[0m\u001b[1;31m:\u001b[0m invalid syntax\n"
     ]
    }
   ],
   "source": [
    "func(raga sreya)"
   ]
  },
  {
   "cell_type": "code",
   "execution_count": 6,
   "id": "e55ed2c0",
   "metadata": {},
   "outputs": [
    {
     "ename": "SyntaxError",
     "evalue": "EOL while scanning string literal (3166349171.py, line 1)",
     "output_type": "error",
     "traceback": [
      "\u001b[1;36m  Input \u001b[1;32mIn [6]\u001b[1;36m\u001b[0m\n\u001b[1;33m    func('raga''sreya)\u001b[0m\n\u001b[1;37m                      ^\u001b[0m\n\u001b[1;31mSyntaxError\u001b[0m\u001b[1;31m:\u001b[0m EOL while scanning string literal\n"
     ]
    }
   ],
   "source": [
    "func('raga''sreya)"
   ]
  },
  {
   "cell_type": "code",
   "execution_count": 8,
   "id": "70b326df",
   "metadata": {},
   "outputs": [
    {
     "name": "stdout",
     "output_type": "stream",
     "text": [
      "['raga', 'sreya']\n",
      "['choppa', 'crs']\n"
     ]
    }
   ],
   "source": [
    "func('raga sreya')\n",
    "func('choppa crs')"
   ]
  },
  {
   "cell_type": "code",
   "execution_count": 153,
   "id": "2bc0a6eb",
   "metadata": {},
   "outputs": [],
   "source": [
    "def func(text):\n",
    "    wordlist=text.lower().split()\n",
    "    print(wordlist)\n",
    "    first=wordlist[0]\n",
    "    second=wordlist[1]\n",
    "    return first[0]==second[0]"
   ]
  },
  {
   "cell_type": "code",
   "execution_count": 154,
   "id": "de6f7c96",
   "metadata": {},
   "outputs": [
    {
     "name": "stdout",
     "output_type": "stream",
     "text": [
      "['raga', 'sreya']\n"
     ]
    },
    {
     "data": {
      "text/plain": [
       "False"
      ]
     },
     "execution_count": 154,
     "metadata": {},
     "output_type": "execute_result"
    }
   ],
   "source": [
    "func('raga sreya')"
   ]
  },
  {
   "cell_type": "code",
   "execution_count": 157,
   "id": "9cf3b8d1",
   "metadata": {},
   "outputs": [
    {
     "name": "stdout",
     "output_type": "stream",
     "text": [
      "['choppa', 'crs']\n"
     ]
    },
    {
     "data": {
      "text/plain": [
       "True"
      ]
     },
     "execution_count": 157,
     "metadata": {},
     "output_type": "execute_result"
    }
   ],
   "source": [
    "func('choppa Crs')"
   ]
  },
  {
   "cell_type": "code",
   "execution_count": 28,
   "id": "16976fa9",
   "metadata": {},
   "outputs": [],
   "source": [
    "def func(text):\n",
    "    wordlist=text.split()\n",
    "    first=wordlist[0]\n",
    "    second=wordlist[1]\n",
    "    return first[0]==second[0]"
   ]
  },
  {
   "cell_type": "code",
   "execution_count": 29,
   "id": "15d3a91d",
   "metadata": {},
   "outputs": [
    {
     "data": {
      "text/plain": [
       "False"
      ]
     },
     "execution_count": 29,
     "metadata": {},
     "output_type": "execute_result"
    }
   ],
   "source": [
    "func('raga sreya')"
   ]
  },
  {
   "cell_type": "code",
   "execution_count": 30,
   "id": "c9cffd86",
   "metadata": {},
   "outputs": [
    {
     "data": {
      "text/plain": [
       "False"
      ]
     },
     "execution_count": 30,
     "metadata": {},
     "output_type": "execute_result"
    }
   ],
   "source": [
    "func('choppa Crs')"
   ]
  },
  {
   "cell_type": "code",
   "execution_count": 39,
   "id": "19abcb96",
   "metadata": {},
   "outputs": [
    {
     "name": "stdout",
     "output_type": "stream",
     "text": [
      "enter number1: 23,32\n"
     ]
    },
    {
     "ename": "ValueError",
     "evalue": "invalid literal for int() with base 10: '23,32'",
     "output_type": "error",
     "traceback": [
      "\u001b[1;31m---------------------------------------------------------------------------\u001b[0m",
      "\u001b[1;31mValueError\u001b[0m                                Traceback (most recent call last)",
      "Input \u001b[1;32mIn [39]\u001b[0m, in \u001b[0;36m<cell line: 9>\u001b[1;34m()\u001b[0m\n\u001b[0;32m      7\u001b[0m     \u001b[38;5;28;01melse\u001b[39;00m:\n\u001b[0;32m      8\u001b[0m         \u001b[38;5;28;01mreturn\u001b[39;00m \u001b[38;5;28;01mFalse\u001b[39;00m\n\u001b[1;32m----> 9\u001b[0m num1\u001b[38;5;241m=\u001b[39m\u001b[38;5;28;43mint\u001b[39;49m\u001b[43m(\u001b[49m\u001b[38;5;28;43minput\u001b[39;49m\u001b[43m(\u001b[49m\u001b[38;5;124;43m\"\u001b[39;49m\u001b[38;5;124;43menter number1: \u001b[39;49m\u001b[38;5;124;43m\"\u001b[39;49m\u001b[43m)\u001b[49m\u001b[43m)\u001b[49m\n\u001b[0;32m     10\u001b[0m num2\u001b[38;5;241m=\u001b[39m\u001b[38;5;28mint\u001b[39m(\u001b[38;5;28minput\u001b[39m(\u001b[38;5;124m\"\u001b[39m\u001b[38;5;124menter number2: \u001b[39m\u001b[38;5;124m\"\u001b[39m))\n\u001b[0;32m     11\u001b[0m func(\u001b[38;5;241m10\u001b[39m,\u001b[38;5;241m20\u001b[39m)\n",
      "\u001b[1;31mValueError\u001b[0m: invalid literal for int() with base 10: '23,32'"
     ]
    }
   ],
   "source": [
    "#Given two integers, return True if the sum of the integers is 20 or if one of the integers is 20. If not, return False\n",
    "def func(num1,num2):\n",
    "    if num1+num2==20:\n",
    "        return True\n",
    "    elif num1 or num2==20:\n",
    "        return True\n",
    "    else:\n",
    "        return False\n",
    "num1=int(input(\"enter number1: \"))\n",
    "num2=int(input(\"enter number2: \"))\n",
    "func(10,20)"
   ]
  },
  {
   "cell_type": "code",
   "execution_count": 40,
   "id": "2d385c82",
   "metadata": {},
   "outputs": [],
   "source": [
    "def func(n1,n2):\n",
    "    if sum(n1,num2)==20:\n",
    "        return True\n",
    "    elif n1==20 or n2==20:\n",
    "        return True\n",
    "    else:\n",
    "        return False"
   ]
  },
  {
   "cell_type": "code",
   "execution_count": 41,
   "id": "8df29486",
   "metadata": {},
   "outputs": [
    {
     "ename": "TypeError",
     "evalue": "'int' object is not iterable",
     "output_type": "error",
     "traceback": [
      "\u001b[1;31m---------------------------------------------------------------------------\u001b[0m",
      "\u001b[1;31mTypeError\u001b[0m                                 Traceback (most recent call last)",
      "Input \u001b[1;32mIn [41]\u001b[0m, in \u001b[0;36m<cell line: 1>\u001b[1;34m()\u001b[0m\n\u001b[1;32m----> 1\u001b[0m \u001b[43mfunc\u001b[49m\u001b[43m(\u001b[49m\u001b[38;5;241;43m10\u001b[39;49m\u001b[43m,\u001b[49m\u001b[38;5;241;43m10\u001b[39;49m\u001b[43m)\u001b[49m\n",
      "Input \u001b[1;32mIn [40]\u001b[0m, in \u001b[0;36mfunc\u001b[1;34m(n1, n2)\u001b[0m\n\u001b[0;32m      1\u001b[0m \u001b[38;5;28;01mdef\u001b[39;00m \u001b[38;5;21mfunc\u001b[39m(n1,n2):\n\u001b[1;32m----> 2\u001b[0m     \u001b[38;5;28;01mif\u001b[39;00m \u001b[38;5;28;43msum\u001b[39;49m\u001b[43m(\u001b[49m\u001b[43mn1\u001b[49m\u001b[43m,\u001b[49m\u001b[43mnum2\u001b[49m\u001b[43m)\u001b[49m\u001b[38;5;241m==\u001b[39m\u001b[38;5;241m20\u001b[39m:\n\u001b[0;32m      3\u001b[0m         \u001b[38;5;28;01mreturn\u001b[39;00m \u001b[38;5;28;01mTrue\u001b[39;00m\n\u001b[0;32m      4\u001b[0m     \u001b[38;5;28;01melif\u001b[39;00m n1\u001b[38;5;241m==\u001b[39m\u001b[38;5;241m20\u001b[39m \u001b[38;5;129;01mor\u001b[39;00m n2\u001b[38;5;241m==\u001b[39m\u001b[38;5;241m20\u001b[39m:\n",
      "\u001b[1;31mTypeError\u001b[0m: 'int' object is not iterable"
     ]
    }
   ],
   "source": [
    "func(10,10)"
   ]
  },
  {
   "cell_type": "code",
   "execution_count": 42,
   "id": "3c0b3625",
   "metadata": {},
   "outputs": [],
   "source": [
    "def func(n1,n2):\n",
    "    if n1+n2 ==20:\n",
    "        return True\n",
    "    elif n1==20 or n2==20:\n",
    "        return True\n",
    "    else:\n",
    "        return False"
   ]
  },
  {
   "cell_type": "code",
   "execution_count": 43,
   "id": "d0d136a2",
   "metadata": {},
   "outputs": [
    {
     "data": {
      "text/plain": [
       "True"
      ]
     },
     "execution_count": 43,
     "metadata": {},
     "output_type": "execute_result"
    }
   ],
   "source": [
    "func(10,10)"
   ]
  },
  {
   "cell_type": "code",
   "execution_count": 44,
   "id": "1bc219c9",
   "metadata": {},
   "outputs": [
    {
     "data": {
      "text/plain": [
       "True"
      ]
     },
     "execution_count": 44,
     "metadata": {},
     "output_type": "execute_result"
    }
   ],
   "source": [
    "func(20,50)"
   ]
  },
  {
   "cell_type": "code",
   "execution_count": 45,
   "id": "452b6fe6",
   "metadata": {},
   "outputs": [
    {
     "data": {
      "text/plain": [
       "False"
      ]
     },
     "execution_count": 45,
     "metadata": {},
     "output_type": "execute_result"
    }
   ],
   "source": [
    "func(10,30)"
   ]
  },
  {
   "cell_type": "code",
   "execution_count": 47,
   "id": "23ac9aa6",
   "metadata": {},
   "outputs": [],
   "source": [
    "#Write a function that capitalizes the first and fourth letters of a name\n",
    "def func(text):\n",
    "    first_letter=text[0]\n",
    "    in_between=text[1:3]\n",
    "    fourth_letter=text[3]\n",
    "    rest=text[3:]\n",
    "    return first_letter+in_between+fourth_letter+rest"
   ]
  },
  {
   "cell_type": "code",
   "execution_count": 49,
   "id": "94f3935d",
   "metadata": {},
   "outputs": [
    {
     "data": {
      "text/plain": [
       "'chopppaRagasreya'"
      ]
     },
     "execution_count": 49,
     "metadata": {},
     "output_type": "execute_result"
    }
   ],
   "source": [
    "func('choppaRagasreya')"
   ]
  },
  {
   "cell_type": "code",
   "execution_count": 50,
   "id": "566563ee",
   "metadata": {},
   "outputs": [],
   "source": [
    "def func(text):\n",
    "    first_letter=text[0]\n",
    "    in_between=text[1:3]\n",
    "    fourth_letter=text[3]\n",
    "    rest=text[3:]\n",
    "    return first_letter.upper()+in_between+fourth_letter.upper()+rest"
   ]
  },
  {
   "cell_type": "code",
   "execution_count": 52,
   "id": "51c6fde1",
   "metadata": {},
   "outputs": [
    {
     "data": {
      "text/plain": [
       "'ChoPpparagasreya'"
      ]
     },
     "execution_count": 52,
     "metadata": {},
     "output_type": "execute_result"
    }
   ],
   "source": [
    "func('chopparagasreya')"
   ]
  },
  {
   "cell_type": "code",
   "execution_count": 61,
   "id": "a7ec694e",
   "metadata": {},
   "outputs": [],
   "source": [
    "def func(text):\n",
    "    first_letter=text[0]\n",
    "    in_between_letters=text[1:3]\n",
    "    fourth_letter=text[3]\n",
    "    rest_letters=text[3:]\n",
    "    return first_letter.upper()+in_between_letters+ fourth_letter.upper()+rest_letters"
   ]
  },
  {
   "cell_type": "code",
   "execution_count": 62,
   "id": "8fd6b72a",
   "metadata": {},
   "outputs": [
    {
     "data": {
      "text/plain": [
       "'ChoPpparagasreya'"
      ]
     },
     "execution_count": 62,
     "metadata": {},
     "output_type": "execute_result"
    }
   ],
   "source": [
    "func('chopparagasreya')"
   ]
  },
  {
   "cell_type": "code",
   "execution_count": 71,
   "id": "13d023db",
   "metadata": {},
   "outputs": [],
   "source": [
    "#another method\n",
    "def func(text):\n",
    "    first_letter=text[0:3]\n",
    "    second_letter=text[3:]\n",
    "    return first_letter.capitalize() + second_letter.capitalize()"
   ]
  },
  {
   "cell_type": "code",
   "execution_count": 72,
   "id": "df40667f",
   "metadata": {},
   "outputs": [
    {
     "data": {
      "text/plain": [
       "'ChoPparagasreya'"
      ]
     },
     "execution_count": 72,
     "metadata": {},
     "output_type": "execute_result"
    }
   ],
   "source": [
    "func('chopparagasreya')"
   ]
  },
  {
   "cell_type": "code",
   "execution_count": 75,
   "id": "5e969f31",
   "metadata": {},
   "outputs": [
    {
     "data": {
      "text/plain": [
       "'lrig doog a si ayers'"
      ]
     },
     "execution_count": 75,
     "metadata": {},
     "output_type": "execute_result"
    }
   ],
   "source": [
    "#Given a sentence, return a sentence with the words reversed\n",
    "def func(text):\n",
    "    reversed_text=text[::-1]\n",
    "    return reversed_text\n",
    "func('sreya is a good girl')"
   ]
  },
  {
   "cell_type": "code",
   "execution_count": 76,
   "id": "0aa2296e",
   "metadata": {},
   "outputs": [],
   "source": [
    "def func(text):\n",
    "    word_list=text.split()\n",
    "    reversed_list=word_list[::-1]\n",
    "    return reversed_list"
   ]
  },
  {
   "cell_type": "code",
   "execution_count": 77,
   "id": "160b4e81",
   "metadata": {},
   "outputs": [
    {
     "data": {
      "text/plain": [
       "['girl', 'good', 'a', 'is', 'sreya']"
      ]
     },
     "execution_count": 77,
     "metadata": {},
     "output_type": "execute_result"
    }
   ],
   "source": [
    "func('sreya is a good girl')"
   ]
  },
  {
   "cell_type": "code",
   "execution_count": 82,
   "id": "b3d9a2ac",
   "metadata": {},
   "outputs": [],
   "source": [
    "def func(text):\n",
    "    word_list=text.split()\n",
    "    reversed_list=word_list[::-1]\n",
    "    return \" \".join(word_list)"
   ]
  },
  {
   "cell_type": "code",
   "execution_count": 83,
   "id": "2175a54a",
   "metadata": {},
   "outputs": [
    {
     "data": {
      "text/plain": [
       "'sreya is a good girl'"
      ]
     },
     "execution_count": 83,
     "metadata": {},
     "output_type": "execute_result"
    }
   ],
   "source": [
    "func('sreya is a good girl')"
   ]
  },
  {
   "cell_type": "code",
   "execution_count": 104,
   "id": "dab4fb80",
   "metadata": {},
   "outputs": [],
   "source": [
    "#FIND 33:\n",
    "#Given a list of ints, return True if the array contains a 3 next to a 3 somewhere.\n",
    "def func(nums):\n",
    "    for i in range(0,len(nums)-1):\n",
    "        if nums[i]==3 and nums[i+1]==3:\n",
    "            return True\n",
    "    return False\n",
    "        "
   ]
  },
  {
   "cell_type": "code",
   "execution_count": 105,
   "id": "b62cdab4",
   "metadata": {},
   "outputs": [
    {
     "data": {
      "text/plain": [
       "True"
      ]
     },
     "execution_count": 105,
     "metadata": {},
     "output_type": "execute_result"
    }
   ],
   "source": [
    "func([1,2,3,3])"
   ]
  },
  {
   "cell_type": "code",
   "execution_count": 106,
   "id": "e1958f18",
   "metadata": {},
   "outputs": [
    {
     "data": {
      "text/plain": [
       "False"
      ]
     },
     "execution_count": 106,
     "metadata": {},
     "output_type": "execute_result"
    }
   ],
   "source": [
    "func([1,2,3,4])"
   ]
  },
  {
   "cell_type": "code",
   "execution_count": 117,
   "id": "d15d5f3d",
   "metadata": {},
   "outputs": [],
   "source": [
    "def func(nums):\n",
    "    for i in range(0,len(nums)-1):\n",
    "        if nums[i:i+2]==[3,3]:\n",
    "            return True\n",
    "    return False"
   ]
  },
  {
   "cell_type": "code",
   "execution_count": 118,
   "id": "d7f96ff6",
   "metadata": {},
   "outputs": [
    {
     "data": {
      "text/plain": [
       "False"
      ]
     },
     "execution_count": 118,
     "metadata": {},
     "output_type": "execute_result"
    }
   ],
   "source": [
    "func([1,2,3])"
   ]
  },
  {
   "cell_type": "code",
   "execution_count": 119,
   "id": "84a7de76",
   "metadata": {},
   "outputs": [
    {
     "data": {
      "text/plain": [
       "True"
      ]
     },
     "execution_count": 119,
     "metadata": {},
     "output_type": "execute_result"
    }
   ],
   "source": [
    "func([1,2,3,3])"
   ]
  },
  {
   "cell_type": "code",
   "execution_count": 126,
   "id": "8277fba1",
   "metadata": {},
   "outputs": [
    {
     "data": {
      "text/plain": [
       "'sreyasreyasreya'"
      ]
     },
     "execution_count": 126,
     "metadata": {},
     "output_type": "execute_result"
    }
   ],
   "source": [
    "#Given a string, return a string where for every character in the original there are three characters\n",
    "def func(text):\n",
    "    result=''\n",
    "    result=(text*3)\n",
    "    return result\n",
    "func('sreya')"
   ]
  },
  {
   "cell_type": "code",
   "execution_count": 127,
   "id": "f7a1462e",
   "metadata": {},
   "outputs": [
    {
     "data": {
      "text/plain": [
       "'hello this is sreyahello this is sreyahello this is sreya'"
      ]
     },
     "execution_count": 127,
     "metadata": {},
     "output_type": "execute_result"
    }
   ],
   "source": [
    "func('hello this is sreya')"
   ]
  },
  {
   "cell_type": "code",
   "execution_count": 149,
   "id": "33159e40",
   "metadata": {},
   "outputs": [],
   "source": [
    "\"\"\"Given three integers between 1 and 11, if their sum is less than or equal to 21,\n",
    "return their sum. If their sum exceeds 21 and there's an eleven, reduce the total sum by 10.\n",
    "Finally, if the sum (even after adjustment) exceeds 21, return BUST\"\"\"\n",
    "def func(n1,n2,n3):\n",
    "    if n1+n2+n3<=21:\n",
    "        return n1+n2+n3\n",
    "    elif n1+n2+n3>21 and n1==11 or n2==11 or n3==11:\n",
    "        return (n1+n2+n3)-10\n",
    "    elif n1+n2+n3>21:\n",
    "        return 'BUST'"
   ]
  },
  {
   "cell_type": "code",
   "execution_count": 150,
   "id": "b0817a03",
   "metadata": {},
   "outputs": [
    {
     "data": {
      "text/plain": [
       "18"
      ]
     },
     "execution_count": 150,
     "metadata": {},
     "output_type": "execute_result"
    }
   ],
   "source": [
    "func(5,6,7)"
   ]
  },
  {
   "cell_type": "code",
   "execution_count": 151,
   "id": "dbbac079",
   "metadata": {},
   "outputs": [
    {
     "data": {
      "text/plain": [
       "19"
      ]
     },
     "execution_count": 151,
     "metadata": {},
     "output_type": "execute_result"
    }
   ],
   "source": [
    "func(9,9,11)"
   ]
  },
  {
   "cell_type": "code",
   "execution_count": 152,
   "id": "ff934c6b",
   "metadata": {},
   "outputs": [
    {
     "data": {
      "text/plain": [
       "'BUST'"
      ]
     },
     "execution_count": 152,
     "metadata": {},
     "output_type": "execute_result"
    }
   ],
   "source": [
    "func(9,9,9)"
   ]
  },
  {
   "cell_type": "code",
   "execution_count": null,
   "id": "d71ba5fd",
   "metadata": {},
   "outputs": [],
   "source": [
    "\"\"\"Return the sum of the numbers in the array, except ignore sections of numbers \n",
    "starting with a 6 and extending to the next 9 (every 6 will be followed by at least one 9).\n",
    "Return 0 for no numbers.\"\"\"\n"
   ]
  },
  {
   "cell_type": "code",
   "execution_count": 172,
   "id": "acd58b4a",
   "metadata": {},
   "outputs": [],
   "source": [
    "'''Write a function that takes in a list of integers and returns True if it contains 007 in order\n",
    " spy_game([1,2,4,0,0,7,5]) --> True\n",
    " spy_game([1,0,2,4,0,5,7]) --> True\n",
    " spy_game([1,7,2,0,4,5,0]) --> False'''\n",
    "\n",
    "def func(nums):\n",
    "    for i in range(len(nums)):\n",
    "        if nums[i]==0 and nums[i]==0 and nums[i]==7:\n",
    "            return True\n",
    "        else:\n",
    "            return False"
   ]
  },
  {
   "cell_type": "code",
   "execution_count": 173,
   "id": "adccffad",
   "metadata": {},
   "outputs": [
    {
     "data": {
      "text/plain": [
       "False"
      ]
     },
     "execution_count": 173,
     "metadata": {},
     "output_type": "execute_result"
    }
   ],
   "source": [
    "func([1,2,4,0,0,7,5])"
   ]
  },
  {
   "cell_type": "code",
   "execution_count": 174,
   "id": "867e9f56",
   "metadata": {},
   "outputs": [
    {
     "data": {
      "text/plain": [
       "False"
      ]
     },
     "execution_count": 174,
     "metadata": {},
     "output_type": "execute_result"
    }
   ],
   "source": [
    "func([1,0,2,4,0,5,7])"
   ]
  },
  {
   "cell_type": "code",
   "execution_count": 176,
   "id": "39000b17",
   "metadata": {},
   "outputs": [
    {
     "data": {
      "text/plain": [
       "False"
      ]
     },
     "execution_count": 176,
     "metadata": {},
     "output_type": "execute_result"
    }
   ],
   "source": [
    "func([1,7,2,0,4,5,0])"
   ]
  },
  {
   "cell_type": "code",
   "execution_count": 182,
   "id": "5acaae37",
   "metadata": {},
   "outputs": [
    {
     "ename": "NameError",
     "evalue": "name 'square' is not defined",
     "output_type": "error",
     "traceback": [
      "\u001b[1;31m---------------------------------------------------------------------------\u001b[0m",
      "\u001b[1;31mNameError\u001b[0m                                 Traceback (most recent call last)",
      "Input \u001b[1;32mIn [182]\u001b[0m, in \u001b[0;36m<cell line: 3>\u001b[1;34m()\u001b[0m\n\u001b[0;32m      1\u001b[0m \u001b[38;5;66;03m#map \u001b[39;00m\n\u001b[0;32m      2\u001b[0m nums\u001b[38;5;241m=\u001b[39m[\u001b[38;5;241m1\u001b[39m,\u001b[38;5;241m2\u001b[39m,\u001b[38;5;241m3\u001b[39m]\n\u001b[1;32m----> 3\u001b[0m \u001b[38;5;28mmap\u001b[39m(\u001b[43msquare\u001b[49m,nums)\n",
      "\u001b[1;31mNameError\u001b[0m: name 'square' is not defined"
     ]
    }
   ],
   "source": [
    "#map \n",
    "nums=[1,2,3]\n",
    "map(square,nums)"
   ]
  },
  {
   "cell_type": "code",
   "execution_count": 184,
   "id": "a0000dc0",
   "metadata": {},
   "outputs": [
    {
     "data": {
      "text/plain": [
       "<map at 0x1c370cfbbe0>"
      ]
     },
     "execution_count": 184,
     "metadata": {},
     "output_type": "execute_result"
    }
   ],
   "source": [
    "map('square',nums)"
   ]
  },
  {
   "cell_type": "code",
   "execution_count": 189,
   "id": "273b1aae",
   "metadata": {},
   "outputs": [
    {
     "ename": "TypeError",
     "evalue": "'str' object is not callable",
     "output_type": "error",
     "traceback": [
      "\u001b[1;31m---------------------------------------------------------------------------\u001b[0m",
      "\u001b[1;31mTypeError\u001b[0m                                 Traceback (most recent call last)",
      "Input \u001b[1;32mIn [189]\u001b[0m, in \u001b[0;36m<cell line: 1>\u001b[1;34m()\u001b[0m\n\u001b[1;32m----> 1\u001b[0m \u001b[38;5;28;01mfor\u001b[39;00m item \u001b[38;5;129;01min\u001b[39;00m \u001b[38;5;28mmap\u001b[39m(\u001b[38;5;124m'\u001b[39m\u001b[38;5;124msquare\u001b[39m\u001b[38;5;124m'\u001b[39m,nums):\n\u001b[0;32m      2\u001b[0m     \u001b[38;5;28mprint\u001b[39m(item)\n",
      "\u001b[1;31mTypeError\u001b[0m: 'str' object is not callable"
     ]
    }
   ],
   "source": [
    "for item in map('square',nums):\n",
    "    print(item)"
   ]
  },
  {
   "cell_type": "code",
   "execution_count": 190,
   "id": "6b12f771",
   "metadata": {},
   "outputs": [],
   "source": [
    "nums=[1,2,3]"
   ]
  },
  {
   "cell_type": "code",
   "execution_count": 192,
   "id": "32195082",
   "metadata": {},
   "outputs": [
    {
     "data": {
      "text/plain": [
       "<map at 0x1c370e0ceb0>"
      ]
     },
     "execution_count": 192,
     "metadata": {},
     "output_type": "execute_result"
    }
   ],
   "source": [
    "map('square',nums)"
   ]
  },
  {
   "cell_type": "code",
   "execution_count": 215,
   "id": "ffa8ecfe",
   "metadata": {},
   "outputs": [],
   "source": [
    "def func(nums):\n",
    "    for i in nums:\n",
    "        return nums**2"
   ]
  },
  {
   "cell_type": "code",
   "execution_count": 216,
   "id": "07075a25",
   "metadata": {},
   "outputs": [
    {
     "ename": "TypeError",
     "evalue": "unsupported operand type(s) for ** or pow(): 'list' and 'int'",
     "output_type": "error",
     "traceback": [
      "\u001b[1;31m---------------------------------------------------------------------------\u001b[0m",
      "\u001b[1;31mTypeError\u001b[0m                                 Traceback (most recent call last)",
      "Input \u001b[1;32mIn [216]\u001b[0m, in \u001b[0;36m<cell line: 1>\u001b[1;34m()\u001b[0m\n\u001b[1;32m----> 1\u001b[0m \u001b[43mfunc\u001b[49m\u001b[43m(\u001b[49m\u001b[43m[\u001b[49m\u001b[38;5;241;43m1\u001b[39;49m\u001b[43m,\u001b[49m\u001b[38;5;241;43m2\u001b[39;49m\u001b[43m,\u001b[49m\u001b[38;5;241;43m3\u001b[39;49m\u001b[43m]\u001b[49m\u001b[43m)\u001b[49m\n",
      "Input \u001b[1;32mIn [215]\u001b[0m, in \u001b[0;36mfunc\u001b[1;34m(nums)\u001b[0m\n\u001b[0;32m      1\u001b[0m \u001b[38;5;28;01mdef\u001b[39;00m \u001b[38;5;21mfunc\u001b[39m(nums):\n\u001b[0;32m      2\u001b[0m     \u001b[38;5;28;01mfor\u001b[39;00m i \u001b[38;5;129;01min\u001b[39;00m nums:\n\u001b[1;32m----> 3\u001b[0m         \u001b[38;5;28;01mreturn\u001b[39;00m \u001b[43mnums\u001b[49m\u001b[38;5;241;43m*\u001b[39;49m\u001b[38;5;241;43m*\u001b[39;49m\u001b[38;5;241;43m2\u001b[39;49m\n",
      "\u001b[1;31mTypeError\u001b[0m: unsupported operand type(s) for ** or pow(): 'list' and 'int'"
     ]
    }
   ],
   "source": [
    "func([1,2,3])"
   ]
  },
  {
   "cell_type": "code",
   "execution_count": 217,
   "id": "8da93b0a",
   "metadata": {},
   "outputs": [],
   "source": [
    "def square(nums):\n",
    "    return nums**2"
   ]
  },
  {
   "cell_type": "code",
   "execution_count": 218,
   "id": "2541858b",
   "metadata": {},
   "outputs": [
    {
     "ename": "TypeError",
     "evalue": "unsupported operand type(s) for ** or pow(): 'list' and 'int'",
     "output_type": "error",
     "traceback": [
      "\u001b[1;31m---------------------------------------------------------------------------\u001b[0m",
      "\u001b[1;31mTypeError\u001b[0m                                 Traceback (most recent call last)",
      "Input \u001b[1;32mIn [218]\u001b[0m, in \u001b[0;36m<cell line: 1>\u001b[1;34m()\u001b[0m\n\u001b[1;32m----> 1\u001b[0m \u001b[43msquare\u001b[49m\u001b[43m(\u001b[49m\u001b[43m[\u001b[49m\u001b[38;5;241;43m1\u001b[39;49m\u001b[43m,\u001b[49m\u001b[38;5;241;43m2\u001b[39;49m\u001b[43m,\u001b[49m\u001b[38;5;241;43m3\u001b[39;49m\u001b[43m]\u001b[49m\u001b[43m)\u001b[49m\n",
      "Input \u001b[1;32mIn [217]\u001b[0m, in \u001b[0;36msquare\u001b[1;34m(nums)\u001b[0m\n\u001b[0;32m      1\u001b[0m \u001b[38;5;28;01mdef\u001b[39;00m \u001b[38;5;21msquare\u001b[39m(nums):\n\u001b[1;32m----> 2\u001b[0m     \u001b[38;5;28;01mreturn\u001b[39;00m \u001b[43mnums\u001b[49m\u001b[38;5;241;43m*\u001b[39;49m\u001b[38;5;241;43m*\u001b[39;49m\u001b[38;5;241;43m2\u001b[39;49m\n",
      "\u001b[1;31mTypeError\u001b[0m: unsupported operand type(s) for ** or pow(): 'list' and 'int'"
     ]
    }
   ],
   "source": [
    "square([1,2,3])"
   ]
  },
  {
   "cell_type": "code",
   "execution_count": 221,
   "id": "40f006af",
   "metadata": {},
   "outputs": [],
   "source": [
    "def square(num):\n",
    "    result=num**2\n",
    "    return result"
   ]
  },
  {
   "cell_type": "code",
   "execution_count": 222,
   "id": "a9b7ad04",
   "metadata": {},
   "outputs": [
    {
     "data": {
      "text/plain": [
       "4"
      ]
     },
     "execution_count": 222,
     "metadata": {},
     "output_type": "execute_result"
    }
   ],
   "source": [
    "square(2)"
   ]
  },
  {
   "cell_type": "code",
   "execution_count": 229,
   "id": "1b935ad2",
   "metadata": {},
   "outputs": [
    {
     "name": "stdout",
     "output_type": "stream",
     "text": [
      "9\n",
      "3.0\n"
     ]
    }
   ],
   "source": [
    "from math import sqrt\n",
    "num=int(input())\n",
    "print(sqrt(num))"
   ]
  },
  {
   "cell_type": "code",
   "execution_count": 3,
   "id": "95b8b7cf",
   "metadata": {},
   "outputs": [
    {
     "name": "stdout",
     "output_type": "stream",
     "text": [
      "5.0\n"
     ]
    }
   ],
   "source": [
    "num=25\n",
    "power=0.5\n",
    "s=num**power\n",
    "print(s)"
   ]
  },
  {
   "cell_type": "code",
   "execution_count": 4,
   "id": "f0277a4a",
   "metadata": {},
   "outputs": [
    {
     "name": "stdout",
     "output_type": "stream",
     "text": [
      "9\n",
      "3.0\n"
     ]
    }
   ],
   "source": [
    "num=int(input())\n",
    "power=0.5\n",
    "square_root=num**power\n",
    "print(square_root)"
   ]
  },
  {
   "cell_type": "code",
   "execution_count": 5,
   "id": "48c67c86",
   "metadata": {},
   "outputs": [],
   "source": [
    "def func(num):\n",
    "    for i in range(num):\n",
    "        return num**0.5"
   ]
  },
  {
   "cell_type": "code",
   "execution_count": 6,
   "id": "0d46a424",
   "metadata": {},
   "outputs": [
    {
     "data": {
      "text/plain": [
       "5.0"
      ]
     },
     "execution_count": 6,
     "metadata": {},
     "output_type": "execute_result"
    }
   ],
   "source": [
    "func(25)"
   ]
  },
  {
   "cell_type": "code",
   "execution_count": 19,
   "id": "c029bb25",
   "metadata": {},
   "outputs": [
    {
     "name": "stdout",
     "output_type": "stream",
     "text": [
      "5.0\n",
      "3.0\n",
      "9.0\n"
     ]
    }
   ],
   "source": [
    "def func(nums):\n",
    "    for i in nums:\n",
    "        print(i**0.5)\n",
    "nums=[25,9,81]\n",
    "func(nums)"
   ]
  },
  {
   "cell_type": "code",
   "execution_count": 21,
   "id": "b25b9226",
   "metadata": {},
   "outputs": [
    {
     "data": {
      "text/plain": [
       "5.0"
      ]
     },
     "execution_count": 21,
     "metadata": {},
     "output_type": "execute_result"
    }
   ],
   "source": [
    "def func(nums):\n",
    "    for i in nums:\n",
    "        return i**0.5\n",
    "func([25,81,9])"
   ]
  },
  {
   "cell_type": "code",
   "execution_count": 27,
   "id": "36b41bf9",
   "metadata": {},
   "outputs": [
    {
     "data": {
      "text/plain": [
       "25"
      ]
     },
     "execution_count": 27,
     "metadata": {},
     "output_type": "execute_result"
    }
   ],
   "source": [
    "def square(num):\n",
    "    return num**2\n",
    "square(5)"
   ]
  },
  {
   "cell_type": "code",
   "execution_count": 26,
   "id": "ea852dc2",
   "metadata": {},
   "outputs": [
    {
     "name": "stdout",
     "output_type": "stream",
     "text": [
      "1\n",
      "4\n",
      "9\n"
     ]
    }
   ],
   "source": [
    "nums=[1,2,3]\n",
    "for i in (nums):       #we can use map function instead offf\n",
    "    print(i**2)"
   ]
  },
  {
   "cell_type": "code",
   "execution_count": 28,
   "id": "9e34cc8c",
   "metadata": {},
   "outputs": [],
   "source": [
    "#map function "
   ]
  },
  {
   "cell_type": "code",
   "execution_count": 29,
   "id": "84c4e9cb",
   "metadata": {},
   "outputs": [],
   "source": [
    "nums=[1,2,3]"
   ]
  },
  {
   "cell_type": "code",
   "execution_count": 31,
   "id": "3e908437",
   "metadata": {},
   "outputs": [
    {
     "data": {
      "text/plain": [
       "<map at 0x20ce34ca6a0>"
      ]
     },
     "execution_count": 31,
     "metadata": {},
     "output_type": "execute_result"
    }
   ],
   "source": [
    "map(square,nums)"
   ]
  },
  {
   "cell_type": "code",
   "execution_count": 32,
   "id": "04a6e9a0",
   "metadata": {},
   "outputs": [
    {
     "name": "stdout",
     "output_type": "stream",
     "text": [
      "1\n",
      "4\n",
      "9\n"
     ]
    }
   ],
   "source": [
    "for i in map(square,nums):\n",
    "    print(i)"
   ]
  },
  {
   "cell_type": "code",
   "execution_count": 40,
   "id": "362f7d26",
   "metadata": {},
   "outputs": [
    {
     "name": "stdout",
     "output_type": "stream",
     "text": [
      "1\n",
      "4\n",
      "9\n"
     ]
    }
   ],
   "source": [
    "nums=[1,2,3]\n",
    "for i in map(square,nums):\n",
    "        print(i)"
   ]
  },
  {
   "cell_type": "code",
   "execution_count": 47,
   "id": "962744c4",
   "metadata": {},
   "outputs": [],
   "source": [
    "def square(num):\n",
    "    return num**2"
   ]
  },
  {
   "cell_type": "code",
   "execution_count": 48,
   "id": "e4d59dcf",
   "metadata": {},
   "outputs": [],
   "source": [
    "my_nums=[1,2,3]"
   ]
  },
  {
   "cell_type": "code",
   "execution_count": 49,
   "id": "c820ed72",
   "metadata": {},
   "outputs": [
    {
     "data": {
      "text/plain": [
       "<map at 0x20ce3508340>"
      ]
     },
     "execution_count": 49,
     "metadata": {},
     "output_type": "execute_result"
    }
   ],
   "source": [
    "map(square,my_nums)"
   ]
  },
  {
   "cell_type": "code",
   "execution_count": 50,
   "id": "c427ac29",
   "metadata": {},
   "outputs": [
    {
     "name": "stdout",
     "output_type": "stream",
     "text": [
      "1\n",
      "4\n",
      "9\n"
     ]
    }
   ],
   "source": [
    "for i in map(square,my_nums):\n",
    "    print(i)"
   ]
  },
  {
   "cell_type": "code",
   "execution_count": 51,
   "id": "01ca8220",
   "metadata": {},
   "outputs": [],
   "source": [
    "def func(string):\n",
    "    if len(string)%2==0:\n",
    "        return 'even'\n",
    "    else:\n",
    "        return string[0]"
   ]
  },
  {
   "cell_type": "code",
   "execution_count": 52,
   "id": "dbc0b128",
   "metadata": {},
   "outputs": [],
   "source": [
    "my_string=['sreya','raga','choppa']"
   ]
  },
  {
   "cell_type": "code",
   "execution_count": 53,
   "id": "f23a9231",
   "metadata": {},
   "outputs": [
    {
     "data": {
      "text/plain": [
       "<map at 0x20ce32f72b0>"
      ]
     },
     "execution_count": 53,
     "metadata": {},
     "output_type": "execute_result"
    }
   ],
   "source": [
    "map(func,my_string)"
   ]
  },
  {
   "cell_type": "code",
   "execution_count": 54,
   "id": "e9380772",
   "metadata": {},
   "outputs": [
    {
     "name": "stdout",
     "output_type": "stream",
     "text": [
      "s\n",
      "even\n",
      "even\n"
     ]
    }
   ],
   "source": [
    "for i in map(func,my_string):\n",
    "    print(i)"
   ]
  },
  {
   "cell_type": "code",
   "execution_count": 60,
   "id": "b95852e3",
   "metadata": {},
   "outputs": [],
   "source": [
    "#filter function     it prints only the condition given in that particular function"
   ]
  },
  {
   "cell_type": "code",
   "execution_count": 56,
   "id": "d56c74eb",
   "metadata": {},
   "outputs": [],
   "source": [
    "def func(num):\n",
    "    return num%2==0"
   ]
  },
  {
   "cell_type": "code",
   "execution_count": 57,
   "id": "fdabaa20",
   "metadata": {},
   "outputs": [],
   "source": [
    "my_nums=[1,2,3,4,5,6]"
   ]
  },
  {
   "cell_type": "code",
   "execution_count": 58,
   "id": "a5fd5163",
   "metadata": {},
   "outputs": [
    {
     "data": {
      "text/plain": [
       "<filter at 0x20ce32f7250>"
      ]
     },
     "execution_count": 58,
     "metadata": {},
     "output_type": "execute_result"
    }
   ],
   "source": [
    "filter(func,my_nums)"
   ]
  },
  {
   "cell_type": "code",
   "execution_count": 59,
   "id": "847a6eae",
   "metadata": {},
   "outputs": [
    {
     "name": "stdout",
     "output_type": "stream",
     "text": [
      "2\n",
      "4\n",
      "6\n"
     ]
    }
   ],
   "source": [
    "for i in filter(func,my_nums):\n",
    "    print(i)"
   ]
  },
  {
   "cell_type": "code",
   "execution_count": 61,
   "id": "9d788c34",
   "metadata": {},
   "outputs": [],
   "source": [
    "# lambda expressions    it doesn't have name    they are anonymous functions"
   ]
  },
  {
   "cell_type": "code",
   "execution_count": 62,
   "id": "0de4372c",
   "metadata": {},
   "outputs": [],
   "source": [
    "def func(num):\n",
    "    result=num**2\n",
    "    return result"
   ]
  },
  {
   "cell_type": "code",
   "execution_count": 63,
   "id": "e1f404a5",
   "metadata": {},
   "outputs": [
    {
     "data": {
      "text/plain": [
       "64"
      ]
     },
     "execution_count": 63,
     "metadata": {},
     "output_type": "execute_result"
    }
   ],
   "source": [
    "func(8)"
   ]
  },
  {
   "cell_type": "code",
   "execution_count": 64,
   "id": "abf0ec0f",
   "metadata": {},
   "outputs": [],
   "source": [
    "def func(num):\n",
    "    return num**2"
   ]
  },
  {
   "cell_type": "code",
   "execution_count": 65,
   "id": "51eacd85",
   "metadata": {},
   "outputs": [
    {
     "data": {
      "text/plain": [
       "64"
      ]
     },
     "execution_count": 65,
     "metadata": {},
     "output_type": "execute_result"
    }
   ],
   "source": [
    "func(8)"
   ]
  },
  {
   "cell_type": "code",
   "execution_count": 66,
   "id": "56d0d464",
   "metadata": {},
   "outputs": [
    {
     "data": {
      "text/plain": [
       "<function __main__.<lambda>(num)>"
      ]
     },
     "execution_count": 66,
     "metadata": {},
     "output_type": "execute_result"
    }
   ],
   "source": [
    "lambda num:num**2"
   ]
  },
  {
   "cell_type": "code",
   "execution_count": 70,
   "id": "6d7ae39c",
   "metadata": {},
   "outputs": [],
   "source": [
    "s=lambda num:num**2"
   ]
  },
  {
   "cell_type": "code",
   "execution_count": 71,
   "id": "aaf8d1f0",
   "metadata": {},
   "outputs": [
    {
     "data": {
      "text/plain": [
       "25"
      ]
     },
     "execution_count": 71,
     "metadata": {},
     "output_type": "execute_result"
    }
   ],
   "source": [
    "s(5)"
   ]
  },
  {
   "cell_type": "code",
   "execution_count": 72,
   "id": "400bc64f",
   "metadata": {},
   "outputs": [],
   "source": [
    "s=lambda num:num**2"
   ]
  },
  {
   "cell_type": "code",
   "execution_count": 73,
   "id": "e7579e51",
   "metadata": {},
   "outputs": [
    {
     "data": {
      "text/plain": [
       "81"
      ]
     },
     "execution_count": 73,
     "metadata": {},
     "output_type": "execute_result"
    }
   ],
   "source": [
    "s(9)"
   ]
  },
  {
   "cell_type": "code",
   "execution_count": 74,
   "id": "b7197b93",
   "metadata": {},
   "outputs": [
    {
     "data": {
      "text/plain": [
       "[1, 4, 9, 16, 25, 36]"
      ]
     },
     "execution_count": 74,
     "metadata": {},
     "output_type": "execute_result"
    }
   ],
   "source": [
    "list(map(lambda num:num**2,my_nums))"
   ]
  },
  {
   "cell_type": "code",
   "execution_count": 76,
   "id": "7534071a",
   "metadata": {},
   "outputs": [
    {
     "data": {
      "text/plain": [
       "[2, 4, 6]"
      ]
     },
     "execution_count": 76,
     "metadata": {},
     "output_type": "execute_result"
    }
   ],
   "source": [
    "list(filter(lambda num:num%2==0,my_nums))"
   ]
  },
  {
   "cell_type": "code",
   "execution_count": 77,
   "id": "7b46e935",
   "metadata": {},
   "outputs": [],
   "source": [
    "names=['raga','sreya','choppa']"
   ]
  },
  {
   "cell_type": "code",
   "execution_count": 78,
   "id": "6822db72",
   "metadata": {},
   "outputs": [
    {
     "data": {
      "text/plain": [
       "['r', 's', 'c']"
      ]
     },
     "execution_count": 78,
     "metadata": {},
     "output_type": "execute_result"
    }
   ],
   "source": [
    "list(map(lambda names:names[0],names))"
   ]
  },
  {
   "cell_type": "code",
   "execution_count": 79,
   "id": "c3cbcab5",
   "metadata": {},
   "outputs": [],
   "source": [
    "# LEGB RULE - PYTHON USES LEGB RULE FOR TO LOOK FOR A VARIABLE\n",
    "# L STANDS FOR LOCAL NAMES\n",
    "# E STANDS FOR ENCLOSING FUNCTION LOCALS NAMES\n",
    "# G STANDS FOR GLOBAL(MODULE) NAMES\n",
    "# B STANDS FOR BUILT-IN NAMES"
   ]
  },
  {
   "cell_type": "code",
   "execution_count": 80,
   "id": "18ef16df",
   "metadata": {},
   "outputs": [
    {
     "data": {
      "text/plain": [
       "33.49333333333333"
      ]
     },
     "execution_count": 80,
     "metadata": {},
     "output_type": "execute_result"
    }
   ],
   "source": [
    "#Write a function that computes the volume of a sphere given its radius.\n",
    "\n",
    "def func(r):\n",
    "    v=4/3*3.14*r*r*r\n",
    "    return v\n",
    "func(2)"
   ]
  },
  {
   "cell_type": "code",
   "execution_count": 82,
   "id": "3c54ef7f",
   "metadata": {},
   "outputs": [],
   "source": [
    "#Write a function that checks whether a number is in a given range (inclusive of high and low)\n",
    "def func(num,high,low):\n",
    "    if num in range(high,low):\n",
    "        return True\n",
    "    else:\n",
    "        return False"
   ]
  },
  {
   "cell_type": "code",
   "execution_count": 83,
   "id": "b7475eb1",
   "metadata": {},
   "outputs": [
    {
     "data": {
      "text/plain": [
       "True"
      ]
     },
     "execution_count": 83,
     "metadata": {},
     "output_type": "execute_result"
    }
   ],
   "source": [
    "func(2,1,10)"
   ]
  },
  {
   "cell_type": "code",
   "execution_count": 84,
   "id": "6482c234",
   "metadata": {},
   "outputs": [
    {
     "data": {
      "text/plain": [
       "False"
      ]
     },
     "execution_count": 84,
     "metadata": {},
     "output_type": "execute_result"
    }
   ],
   "source": [
    "func(5,1,3)"
   ]
  },
  {
   "cell_type": "code",
   "execution_count": 3,
   "id": "6bfd0b96",
   "metadata": {},
   "outputs": [
    {
     "name": "stdout",
     "output_type": "stream",
     "text": [
      "enter a string: hisreYa\n"
     ]
    }
   ],
   "source": [
    "#Write a Python function that accepts a string and calculates the number of upper case letters and lower case letters.\n",
    "def func(s):\n",
    "    lowercase=0\n",
    "    uppercase=0\n",
    "    for char in s:\n",
    "        if char.islower():\n",
    "            lowercase=lowercase+1\n",
    "        elif char.uppercase():\n",
    "            uppercase=uppercase+1\n",
    "        else:\n",
    "            pass\n",
    "    print(\"the string:\", s)\n",
    "    print(\"lowercase count:\",lowercase)\n",
    "    print(\"uppercase count:\",uppercase)\n",
    "s=input(\"enter a string: \")"
   ]
  },
  {
   "cell_type": "code",
   "execution_count": 4,
   "id": "9f802ae9",
   "metadata": {},
   "outputs": [
    {
     "name": "stdout",
     "output_type": "stream",
     "text": [
      "enter a string:HiSeya\n"
     ]
    }
   ],
   "source": [
    "def func(s):\n",
    "    lowercase=0\n",
    "    uppercase=0\n",
    "    for i in s:\n",
    "        if i.islower():\n",
    "            lowercase=lowercase+1\n",
    "        elif i.isupper():\n",
    "            uppercase=uppercase+1\n",
    "        else:\n",
    "            pass\n",
    "s=input(\"enter a string:\")\n",
    "func(s)"
   ]
  },
  {
   "cell_type": "code",
   "execution_count": 6,
   "id": "1c796160",
   "metadata": {},
   "outputs": [],
   "source": [
    "def func(l):\n",
    "    return list(set(l))"
   ]
  },
  {
   "cell_type": "code",
   "execution_count": 7,
   "id": "73ee3f2f",
   "metadata": {},
   "outputs": [
    {
     "data": {
      "text/plain": [
       "[1, 2, 3]"
      ]
     },
     "execution_count": 7,
     "metadata": {},
     "output_type": "execute_result"
    }
   ],
   "source": [
    "func([1,1,2,2,3])"
   ]
  },
  {
   "cell_type": "code",
   "execution_count": 16,
   "id": "87b515ef",
   "metadata": {},
   "outputs": [],
   "source": [
    "def multiply(nums):\n",
    "    total=1\n",
    "    for i in nums:\n",
    "        total=total*i\n",
    "    return total"
   ]
  },
  {
   "cell_type": "code",
   "execution_count": 17,
   "id": "e5038bb3",
   "metadata": {},
   "outputs": [
    {
     "data": {
      "text/plain": [
       "6"
      ]
     },
     "execution_count": 17,
     "metadata": {},
     "output_type": "execute_result"
    }
   ],
   "source": [
    "multiply([1,2,3])"
   ]
  },
  {
   "cell_type": "code",
   "execution_count": 31,
   "id": "b7a299bb",
   "metadata": {},
   "outputs": [],
   "source": [
    "#check palindrome\n",
    "def func(s):\n",
    "    #remove spaces\n",
    "    s=s.replace(\" \",\"\")\n",
    "    #checking the palindrome\n",
    "    if s==s[::-1]:\n",
    "        return True\n",
    "    else:\n",
    "        return False"
   ]
  },
  {
   "cell_type": "code",
   "execution_count": 32,
   "id": "f7283458",
   "metadata": {},
   "outputs": [
    {
     "data": {
      "text/plain": [
       "False"
      ]
     },
     "execution_count": 32,
     "metadata": {},
     "output_type": "execute_result"
    }
   ],
   "source": [
    "func('sreya')"
   ]
  },
  {
   "cell_type": "code",
   "execution_count": 33,
   "id": "d65ddb85",
   "metadata": {},
   "outputs": [
    {
     "data": {
      "text/plain": [
       "False"
      ]
     },
     "execution_count": 33,
     "metadata": {},
     "output_type": "execute_result"
    }
   ],
   "source": [
    "func('level civic')"
   ]
  },
  {
   "cell_type": "code",
   "execution_count": 34,
   "id": "8f2f935c",
   "metadata": {},
   "outputs": [
    {
     "data": {
      "text/plain": [
       "True"
      ]
     },
     "execution_count": 34,
     "metadata": {},
     "output_type": "execute_result"
    }
   ],
   "source": [
    "func(\"le vel\")"
   ]
  },
  {
   "cell_type": "code",
   "execution_count": 36,
   "id": "60adb07e",
   "metadata": {},
   "outputs": [
    {
     "data": {
      "text/plain": [
       "True"
      ]
     },
     "execution_count": 36,
     "metadata": {},
     "output_type": "execute_result"
    }
   ],
   "source": [
    "func(\"nurses run\")"
   ]
  },
  {
   "cell_type": "code",
   "execution_count": 38,
   "id": "27e0d04b",
   "metadata": {},
   "outputs": [],
   "source": [
    "def func(s):\n",
    "    s=s.replace(\" \",\"\")\n",
    "    return s==s[::-1]"
   ]
  },
  {
   "cell_type": "code",
   "execution_count": 40,
   "id": "3e5a00b4",
   "metadata": {},
   "outputs": [
    {
     "data": {
      "text/plain": [
       "True"
      ]
     },
     "execution_count": 40,
     "metadata": {},
     "output_type": "execute_result"
    }
   ],
   "source": [
    "func(\"nurse s run\")"
   ]
  },
  {
   "cell_type": "code",
   "execution_count": 42,
   "id": "23140c68",
   "metadata": {},
   "outputs": [
    {
     "data": {
      "text/plain": [
       "True"
      ]
     },
     "execution_count": 42,
     "metadata": {},
     "output_type": "execute_result"
    }
   ],
   "source": [
    "func('madam')"
   ]
  },
  {
   "cell_type": "code",
   "execution_count": 31,
   "id": "26ff489a",
   "metadata": {},
   "outputs": [],
   "source": [
    "#tic tac toe"
   ]
  },
  {
   "cell_type": "code",
   "execution_count": null,
   "id": "4f47f21f",
   "metadata": {},
   "outputs": [],
   "source": []
  }
 ],
 "metadata": {
  "kernelspec": {
   "display_name": "Python 3 (ipykernel)",
   "language": "python",
   "name": "python3"
  },
  "language_info": {
   "codemirror_mode": {
    "name": "ipython",
    "version": 3
   },
   "file_extension": ".py",
   "mimetype": "text/x-python",
   "name": "python",
   "nbconvert_exporter": "python",
   "pygments_lexer": "ipython3",
   "version": "3.9.12"
  }
 },
 "nbformat": 4,
 "nbformat_minor": 5
}
